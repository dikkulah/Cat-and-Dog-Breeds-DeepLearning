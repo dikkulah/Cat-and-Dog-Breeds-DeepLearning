{
 "cells": [
  {
   "cell_type": "code",
   "execution_count": 1,
   "metadata": {
    "collapsed": true,
    "pycharm": {
     "name": "#%%\n"
    }
   },
   "outputs": [
    {
     "name": "stderr",
     "output_type": "stream",
     "text": [
      "/home/ufuk/anaconda3/envs/tensor/lib/python3.7/site-packages/tensorflow/python/framework/dtypes.py:516: FutureWarning: Passing (type, 1) or '1type' as a synonym of type is deprecated; in a future version of numpy, it will be understood as (type, (1,)) / '(1,)type'.\n",
      "  _np_qint8 = np.dtype([(\"qint8\", np.int8, 1)])\n",
      "/home/ufuk/anaconda3/envs/tensor/lib/python3.7/site-packages/tensorflow/python/framework/dtypes.py:517: FutureWarning: Passing (type, 1) or '1type' as a synonym of type is deprecated; in a future version of numpy, it will be understood as (type, (1,)) / '(1,)type'.\n",
      "  _np_quint8 = np.dtype([(\"quint8\", np.uint8, 1)])\n",
      "/home/ufuk/anaconda3/envs/tensor/lib/python3.7/site-packages/tensorflow/python/framework/dtypes.py:518: FutureWarning: Passing (type, 1) or '1type' as a synonym of type is deprecated; in a future version of numpy, it will be understood as (type, (1,)) / '(1,)type'.\n",
      "  _np_qint16 = np.dtype([(\"qint16\", np.int16, 1)])\n",
      "/home/ufuk/anaconda3/envs/tensor/lib/python3.7/site-packages/tensorflow/python/framework/dtypes.py:519: FutureWarning: Passing (type, 1) or '1type' as a synonym of type is deprecated; in a future version of numpy, it will be understood as (type, (1,)) / '(1,)type'.\n",
      "  _np_quint16 = np.dtype([(\"quint16\", np.uint16, 1)])\n",
      "/home/ufuk/anaconda3/envs/tensor/lib/python3.7/site-packages/tensorflow/python/framework/dtypes.py:520: FutureWarning: Passing (type, 1) or '1type' as a synonym of type is deprecated; in a future version of numpy, it will be understood as (type, (1,)) / '(1,)type'.\n",
      "  _np_qint32 = np.dtype([(\"qint32\", np.int32, 1)])\n",
      "/home/ufuk/anaconda3/envs/tensor/lib/python3.7/site-packages/tensorflow/python/framework/dtypes.py:525: FutureWarning: Passing (type, 1) or '1type' as a synonym of type is deprecated; in a future version of numpy, it will be understood as (type, (1,)) / '(1,)type'.\n",
      "  np_resource = np.dtype([(\"resource\", np.ubyte, 1)])\n",
      "/home/ufuk/anaconda3/envs/tensor/lib/python3.7/site-packages/tensorboard/compat/tensorflow_stub/dtypes.py:541: FutureWarning: Passing (type, 1) or '1type' as a synonym of type is deprecated; in a future version of numpy, it will be understood as (type, (1,)) / '(1,)type'.\n",
      "  _np_qint8 = np.dtype([(\"qint8\", np.int8, 1)])\n",
      "/home/ufuk/anaconda3/envs/tensor/lib/python3.7/site-packages/tensorboard/compat/tensorflow_stub/dtypes.py:542: FutureWarning: Passing (type, 1) or '1type' as a synonym of type is deprecated; in a future version of numpy, it will be understood as (type, (1,)) / '(1,)type'.\n",
      "  _np_quint8 = np.dtype([(\"quint8\", np.uint8, 1)])\n",
      "/home/ufuk/anaconda3/envs/tensor/lib/python3.7/site-packages/tensorboard/compat/tensorflow_stub/dtypes.py:543: FutureWarning: Passing (type, 1) or '1type' as a synonym of type is deprecated; in a future version of numpy, it will be understood as (type, (1,)) / '(1,)type'.\n",
      "  _np_qint16 = np.dtype([(\"qint16\", np.int16, 1)])\n",
      "/home/ufuk/anaconda3/envs/tensor/lib/python3.7/site-packages/tensorboard/compat/tensorflow_stub/dtypes.py:544: FutureWarning: Passing (type, 1) or '1type' as a synonym of type is deprecated; in a future version of numpy, it will be understood as (type, (1,)) / '(1,)type'.\n",
      "  _np_quint16 = np.dtype([(\"quint16\", np.uint16, 1)])\n",
      "/home/ufuk/anaconda3/envs/tensor/lib/python3.7/site-packages/tensorboard/compat/tensorflow_stub/dtypes.py:545: FutureWarning: Passing (type, 1) or '1type' as a synonym of type is deprecated; in a future version of numpy, it will be understood as (type, (1,)) / '(1,)type'.\n",
      "  _np_qint32 = np.dtype([(\"qint32\", np.int32, 1)])\n",
      "/home/ufuk/anaconda3/envs/tensor/lib/python3.7/site-packages/tensorboard/compat/tensorflow_stub/dtypes.py:550: FutureWarning: Passing (type, 1) or '1type' as a synonym of type is deprecated; in a future version of numpy, it will be understood as (type, (1,)) / '(1,)type'.\n",
      "  np_resource = np.dtype([(\"resource\", np.ubyte, 1)])\n"
     ]
    }
   ],
   "source": [
    "import numpy as np\n",
    "import tensorflow as tf\n",
    "from tensorflow import keras\n",
    "import os\n",
    "\n",
    "os.environ[\"TF_CPP_MIN_LOG_LEVEL\"] = \"2\"  # UYARILARI KAPATMA\n"
   ]
  },
  {
   "cell_type": "code",
   "execution_count": 2,
   "outputs": [
    {
     "name": "stdout",
     "output_type": "stream",
     "text": [
      "WARNING:tensorflow:From /home/ufuk/anaconda3/envs/tensor/lib/python3.7/site-packages/tensorflow/python/ops/init_ops.py:97: calling GlorotUniform.__init__ (from tensorflow.python.ops.init_ops) with dtype is deprecated and will be removed in a future version.\n",
      "Instructions for updating:\n",
      "Call initializer instance with the dtype argument instead of passing it to the constructor\n",
      "WARNING:tensorflow:From /home/ufuk/anaconda3/envs/tensor/lib/python3.7/site-packages/tensorflow/python/ops/init_ops.py:1251: calling VarianceScaling.__init__ (from tensorflow.python.ops.init_ops) with dtype is deprecated and will be removed in a future version.\n",
      "Instructions for updating:\n",
      "Call initializer instance with the dtype argument instead of passing it to the constructor\n",
      "WARNING:tensorflow:From /home/ufuk/anaconda3/envs/tensor/lib/python3.7/site-packages/tensorflow/python/ops/init_ops.py:97: calling Zeros.__init__ (from tensorflow.python.ops.init_ops) with dtype is deprecated and will be removed in a future version.\n",
      "Instructions for updating:\n",
      "Call initializer instance with the dtype argument instead of passing it to the constructor\n"
     ]
    }
   ],
   "source": [
    "model = keras.models.load_model(filepath=\"Kayıt/ilk eğitim vgg16 efd8f030/vgg_16_-saved-model-28-acc-0.51.hdf5\")"
   ],
   "metadata": {
    "collapsed": false,
    "pycharm": {
     "name": "#%%\n"
    }
   }
  },
  {
   "cell_type": "code",
   "execution_count": 12,
   "outputs": [
    {
     "name": "stdout",
     "output_type": "stream",
     "text": [
      "Found 777 images belonging to 37 classes.\n",
      "Found 777 images belonging to 37 classes.\n"
     ]
    }
   ],
   "source": [
    "from time import time\n",
    "from tensorflow.python.keras.callbacks import TensorBoard, History\n",
    "from tensorflow.python.keras.preprocessing.image import ImageDataGenerator\n",
    "import pandas as pd\n",
    "\n",
    "SIZE = 224\n",
    "EPOCH = 50\n",
    "BATCH = 32\n",
    "train_directory = \"images/train/\"\n",
    "valid_directory = \"images/valid/\"\n",
    "test_directory = \"images/test/\"\n",
    "data_aug = ImageDataGenerator(\n",
    "    rotation_range=40,\n",
    "    width_shift_range=0.2,\n",
    "    height_shift_range=0.2,\n",
    "    rescale=1. / 255,\n",
    "    shear_range=0.2,\n",
    "    zoom_range=0.2,\n",
    "    horizontal_flip=True,\n",
    "    fill_mode=\"nearest\"\n",
    ")\n",
    "validation_generator = data_aug.flow_from_directory(directory=valid_directory,\n",
    "                                                    batch_size=BATCH,\n",
    "                                                    shuffle=True,\n",
    "                                                    class_mode=\"categorical\",\n",
    "                                                    color_mode=\"rgb\",\n",
    "                                                    target_size=(SIZE, SIZE),\n",
    "                                                    interpolation=\"nearest\",\n",
    "                                                    seed=42\n",
    "                                                    )\n",
    "test_generator = data_aug.flow_from_directory(directory=test_directory,\n",
    "                                              batch_size=1,\n",
    "                                              shuffle=False,\n",
    "                                              class_mode=\"categorical\",\n",
    "                                              color_mode=\"rgb\",\n",
    "                                              target_size=(SIZE, SIZE),\n",
    "                                              seed=42\n",
    "                                              )\n",
    "\n",
    "Step_size_valid = validation_generator.n // validation_generator.batch_size\n",
    "Step_size_test = test_generator.n // test_generator.batch_size\n"
   ],
   "metadata": {
    "collapsed": false,
    "pycharm": {
     "name": "#%%\n"
    }
   }
  },
  {
   "cell_type": "code",
   "execution_count": 13,
   "outputs": [
    {
     "name": "stdout",
     "output_type": "stream",
     "text": [
      "777/777 [==============================] - 33s 42ms/step\n"
     ]
    }
   ],
   "source": [
    "score, acc = model.evaluate_generator(generator=validation_generator,\n",
    "                                      steps=Step_size_valid,\n",
    "\n",
    "                                      )\n",
    "test_generator.reset()\n",
    "\n",
    "pred = model.predict_generator(generator=test_generator,\n",
    "                               steps=Step_size_test,\n",
    "                               verbose=1\n",
    "\n",
    "                               )\n",
    "predicted_class_indces = np.argmax(pred, axis=1)"
   ],
   "metadata": {
    "collapsed": false,
    "pycharm": {
     "name": "#%%\n"
    }
   }
  },
  {
   "cell_type": "code",
   "execution_count": 15,
   "outputs": [
    {
     "name": "stdout",
     "output_type": "stream",
     "text": [
      "Test score  1.69114022453626\n",
      "Test acc 0.4908854\n"
     ]
    },
    {
     "data": {
      "text/plain": "                                      Filename             Predictions\n0                  Abyssinian/Abyssinian_1.jpg              Abyssinian\n1                 Abyssinian/Abyssinian_10.jpg      miniature_pinscher\n2                 Abyssinian/Abyssinian_11.jpg              Abyssinian\n3                 Abyssinian/Abyssinian_12.jpg            Russian_Blue\n4                 Abyssinian/Abyssinian_13.jpg              Abyssinian\n..                                         ...                     ...\n772  yorkshire_terrier/yorkshire_terrier_4.jpg       yorkshire_terrier\n773  yorkshire_terrier/yorkshire_terrier_5.jpg                havanese\n774  yorkshire_terrier/yorkshire_terrier_6.jpg        scottish_terrier\n775  yorkshire_terrier/yorkshire_terrier_7.jpg        scottish_terrier\n776  yorkshire_terrier/yorkshire_terrier_9.jpg  english_cocker_spaniel\n\n[777 rows x 2 columns]",
      "text/html": "<div>\n<style scoped>\n    .dataframe tbody tr th:only-of-type {\n        vertical-align: middle;\n    }\n\n    .dataframe tbody tr th {\n        vertical-align: top;\n    }\n\n    .dataframe thead th {\n        text-align: right;\n    }\n</style>\n<table border=\"1\" class=\"dataframe\">\n  <thead>\n    <tr style=\"text-align: right;\">\n      <th></th>\n      <th>Filename</th>\n      <th>Predictions</th>\n    </tr>\n  </thead>\n  <tbody>\n    <tr>\n      <th>0</th>\n      <td>Abyssinian/Abyssinian_1.jpg</td>\n      <td>Abyssinian</td>\n    </tr>\n    <tr>\n      <th>1</th>\n      <td>Abyssinian/Abyssinian_10.jpg</td>\n      <td>miniature_pinscher</td>\n    </tr>\n    <tr>\n      <th>2</th>\n      <td>Abyssinian/Abyssinian_11.jpg</td>\n      <td>Abyssinian</td>\n    </tr>\n    <tr>\n      <th>3</th>\n      <td>Abyssinian/Abyssinian_12.jpg</td>\n      <td>Russian_Blue</td>\n    </tr>\n    <tr>\n      <th>4</th>\n      <td>Abyssinian/Abyssinian_13.jpg</td>\n      <td>Abyssinian</td>\n    </tr>\n    <tr>\n      <th>...</th>\n      <td>...</td>\n      <td>...</td>\n    </tr>\n    <tr>\n      <th>772</th>\n      <td>yorkshire_terrier/yorkshire_terrier_4.jpg</td>\n      <td>yorkshire_terrier</td>\n    </tr>\n    <tr>\n      <th>773</th>\n      <td>yorkshire_terrier/yorkshire_terrier_5.jpg</td>\n      <td>havanese</td>\n    </tr>\n    <tr>\n      <th>774</th>\n      <td>yorkshire_terrier/yorkshire_terrier_6.jpg</td>\n      <td>scottish_terrier</td>\n    </tr>\n    <tr>\n      <th>775</th>\n      <td>yorkshire_terrier/yorkshire_terrier_7.jpg</td>\n      <td>scottish_terrier</td>\n    </tr>\n    <tr>\n      <th>776</th>\n      <td>yorkshire_terrier/yorkshire_terrier_9.jpg</td>\n      <td>english_cocker_spaniel</td>\n    </tr>\n  </tbody>\n</table>\n<p>777 rows × 2 columns</p>\n</div>"
     },
     "execution_count": 15,
     "metadata": {},
     "output_type": "execute_result"
    }
   ],
   "source": [
    "labels = test_generator.class_indices\n",
    "labels = dict((v, k) for k, v in labels.items())\n",
    "predictions = [labels[k] for k in predicted_class_indces]\n",
    "\n",
    "filenames = test_generator.filenames\n",
    "results = pd.DataFrame({\"Filename\": filenames,\n",
    "                        \"Predictions\": predictions})\n",
    "results.to_csv(\"results.csv\", index=False)\n",
    "print(\"Test score \", score)\n",
    "print(\"Test acc\", acc)\n",
    "results"
   ],
   "metadata": {
    "collapsed": false,
    "pycharm": {
     "name": "#%%\n"
    }
   }
  }
 ],
 "metadata": {
  "kernelspec": {
   "display_name": "Python 3",
   "language": "python",
   "name": "python3"
  },
  "language_info": {
   "codemirror_mode": {
    "name": "ipython",
    "version": 2
   },
   "file_extension": ".py",
   "mimetype": "text/x-python",
   "name": "python",
   "nbconvert_exporter": "python",
   "pygments_lexer": "ipython2",
   "version": "2.7.6"
  }
 },
 "nbformat": 4,
 "nbformat_minor": 0
}