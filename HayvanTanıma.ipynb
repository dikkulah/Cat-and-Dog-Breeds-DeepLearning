{
 "cells": [
  {
   "cell_type": "code",
   "execution_count": 20,
   "id": "8f13370b",
   "metadata": {
    "pycharm": {
     "name": "#%%\n"
    }
   },
   "outputs": [],
   "source": [
    "#\"Hayvan Tanıma Git Repostory Oluşturuldu\""
   ]
  },
  {
   "cell_type": "code",
   "execution_count": 21,
   "id": "91a60425",
   "metadata": {
    "pycharm": {
     "name": "#%%\n"
    }
   },
   "outputs": [],
   "source": [
    "import os\n",
    "\n",
    "import matplotlib.pyplot as plt\n",
    "from tensorflow import keras\n",
    "from tensorflow.keras.models import Model, Sequential\n",
    "from tensorflow.keras.layers import Dense, Flatten, Conv2D, MaxPool2D\n",
    "from tensorflow.keras.applications.vgg16 import VGG16\n",
    "from tensorflow.keras.preprocessing.image import ImageDataGenerator\n",
    "from tensorflow.keras.callbacks import ModelCheckpoint, EarlyStopping, TensorBoard, History\n",
    "import tensorflow as tf\n",
    "from time import time\n",
    "import numpy as np\n",
    "import pandas as pd\n",
    "os.environ[\"TF_CPP_MIN_LOG_LEVEL\"] = \"2\"  # UYARILARI KAPATMA\n"
   ]
  },
  {
   "cell_type": "code",
   "execution_count": 22,
   "outputs": [
    {
     "name": "stdout",
     "output_type": "stream",
     "text": [
      "Found 5836 images belonging to 37 classes.\n",
      "Found 777 images belonging to 37 classes.\n",
      "Found 777 images belonging to 37 classes.\n"
     ]
    }
   ],
   "source": [
    "#print(os.listdir(\"./images/train\"))\n",
    "SIZE = 224\n",
    "EPOCH = 50\n",
    "BATCH = 32\n",
    "train_directory = \"images/train/\"\n",
    "valid_directory = \"images/valid/\"\n",
    "test_directory = \"images/test/\"\n",
    "\n",
    "data_aug = ImageDataGenerator(\n",
    "    rotation_range=40,\n",
    "    width_shift_range=0.2,\n",
    "    height_shift_range=0.2,\n",
    "    rescale=1. / 255,\n",
    "    shear_range=0.2,\n",
    "    zoom_range=0.2,\n",
    "    horizontal_flip=True,\n",
    "    fill_mode=\"nearest\"\n",
    ")\n",
    "#Max batch size= available GPU memory bytes / 4 / (size of tensors + trainable parameters)\n",
    "train_generator = data_aug.flow_from_directory(directory=train_directory,\n",
    "                                               batch_size=BATCH,\n",
    "                                               shuffle=True,\n",
    "                                               class_mode=\"categorical\",\n",
    "                                               color_mode=\"rgb\",\n",
    "                                               target_size=(SIZE, SIZE),\n",
    "                                               interpolation=\"nearest\",\n",
    "                                               seed=42\n",
    "                                               )\n",
    "validation_generator = data_aug.flow_from_directory(directory=valid_directory,\n",
    "                                                    batch_size=BATCH,\n",
    "                                                    shuffle=True,\n",
    "                                                    class_mode=\"categorical\",\n",
    "                                                    color_mode=\"rgb\",\n",
    "                                                    target_size=(SIZE, SIZE),\n",
    "                                                    interpolation=\"nearest\",\n",
    "                                                    seed=42\n",
    "                                                    )\n",
    "test_generator = data_aug.flow_from_directory(directory=test_directory,\n",
    "                                              batch_size=1,\n",
    "                                              shuffle=False,\n",
    "                                              class_mode=\"categorical\",\n",
    "                                              color_mode=\"rgb\",\n",
    "                                              target_size=(SIZE, SIZE),\n",
    "                                              seed=42\n",
    "                                              )\n",
    "\n",
    "\n"
   ],
   "metadata": {
    "collapsed": false,
    "pycharm": {
     "name": "#%%\n"
    }
   }
  },
  {
   "cell_type": "code",
   "execution_count": 23,
   "outputs": [
    {
     "name": "stdout",
     "output_type": "stream",
     "text": [
      "{'Abyssinian': 0, 'Bengal': 1, 'Birman': 2, 'Bombay': 3, 'British_Shorthair': 4, 'Egyptian_Mau': 5, 'Maine_Coon': 6, 'Persian': 7, 'Ragdoll': 8, 'Russian_Blue': 9, 'Siamese': 10, 'Sphynx': 11, 'american_bulldog': 12, 'american_pit_bull_terrier': 13, 'basset_hound': 14, 'beagle': 15, 'boxer': 16, 'chihuahua': 17, 'english_cocker_spaniel': 18, 'english_setter': 19, 'german_shorthaired': 20, 'great_pyrenees': 21, 'havanese': 22, 'japanese_chin': 23, 'keeshond': 24, 'leonberger': 25, 'miniature_pinscher': 26, 'newfoundland': 27, 'pomeranian': 28, 'pug': 29, 'saint_bernard': 30, 'samoyed': 31, 'scottish_terrier': 32, 'shiba_inu': 33, 'staffordshire_bull_terrier': 34, 'wheaten_terrier': 35, 'yorkshire_terrier': 36}\n"
     ]
    }
   ],
   "source": [
    "print(train_generator.class_indices)"
   ],
   "metadata": {
    "collapsed": false,
    "pycharm": {
     "name": "#%%\n"
    }
   }
  },
  {
   "cell_type": "code",
   "execution_count": 24,
   "outputs": [],
   "source": [
    "tf.keras.backend.clear_session()"
   ],
   "metadata": {
    "collapsed": false,
    "pycharm": {
     "name": "#%%\n"
    }
   }
  },
  {
   "cell_type": "code",
   "execution_count": 25,
   "outputs": [],
   "source": [
    "vgg16_model = VGG16(pooling=\"avg\", input_shape=(224, 224, 3), weights=\"imagenet\", include_top=False)\n",
    "for layers in vgg16_model.layers:\n",
    "    layers.trainable=False\n",
    "\n",
    "output = vgg16_model.layers[-1].output\n",
    "vgg = Flatten()(output)\n",
    "vgg = Dense(units=500, activation=\"relu\")(vgg)\n",
    "vgg = Dense(units=37, activation=\"softmax\")(vgg)\n",
    "vgg_final = Model(vgg16_model.input, vgg)\n",
    "vgg_final.compile(loss=\"categorical_crossentropy\", optimizer=\"adam\",\n",
    "                  metrics=[\"acc\"])\n",
    "\n"
   ],
   "metadata": {
    "collapsed": false,
    "pycharm": {
     "name": "#%%\n"
    }
   }
  },
  {
   "cell_type": "code",
   "execution_count": 26,
   "outputs": [
    {
     "name": "stdout",
     "output_type": "stream",
     "text": [
      "182 24\n",
      "Epoch 1/50\n",
      "  2/182 [..............................] - ETA: 2:44 - loss: 3.6972 - acc: 0.0625"
     ]
    },
    {
     "name": "stderr",
     "output_type": "stream",
     "text": [
      "2022-05-01 11:18:25.063954: E tensorflow/core/platform/default/device_tracer.cc:68] CUPTI error: CUPTI_ERROR_INVALID_PARAMETER\n"
     ]
    },
    {
     "name": "stdout",
     "output_type": "stream",
     "text": [
      "181/182 [============================>.] - ETA: 0s - loss: 3.3360 - acc: 0.1085\n",
      "Epoch 00001: val_acc improved from -inf to 0.18229, saving model to vgg_16_-saved-model-01-acc-0.18.hdf5\n",
      "182/182 [==============================] - 128s 702ms/step - loss: 3.3329 - acc: 0.1092 - val_loss: 2.9624 - val_acc: 0.1823\n",
      "Epoch 2/50\n",
      "181/182 [============================>.] - ETA: 0s - loss: 2.6859 - acc: 0.2595\n",
      "Epoch 00002: val_acc improved from 0.18229 to 0.26172, saving model to vgg_16_-saved-model-02-acc-0.26.hdf5\n",
      "182/182 [==============================] - 123s 674ms/step - loss: 2.6873 - acc: 0.2595 - val_loss: 2.5500 - val_acc: 0.2617\n",
      "Epoch 3/50\n",
      "181/182 [============================>.] - ETA: 0s - loss: 2.3265 - acc: 0.3365\n",
      "Epoch 00003: val_acc improved from 0.26172 to 0.36589, saving model to vgg_16_-saved-model-03-acc-0.37.hdf5\n",
      "182/182 [==============================] - 123s 674ms/step - loss: 2.3258 - acc: 0.3368 - val_loss: 2.2668 - val_acc: 0.3659\n",
      "Epoch 4/50\n",
      "181/182 [============================>.] - ETA: 0s - loss: 2.0954 - acc: 0.3993\n",
      "Epoch 00004: val_acc improved from 0.36589 to 0.38021, saving model to vgg_16_-saved-model-04-acc-0.38.hdf5\n",
      "182/182 [==============================] - 121s 667ms/step - loss: 2.0931 - acc: 0.4001 - val_loss: 2.1181 - val_acc: 0.3802\n",
      "Epoch 5/50\n",
      "181/182 [============================>.] - ETA: 0s - loss: 1.9375 - acc: 0.4383\n",
      "Epoch 00005: val_acc improved from 0.38021 to 0.39453, saving model to vgg_16_-saved-model-05-acc-0.39.hdf5\n",
      "182/182 [==============================] - 124s 684ms/step - loss: 1.9365 - acc: 0.4388 - val_loss: 2.0171 - val_acc: 0.3945\n",
      "Epoch 6/50\n",
      "181/182 [============================>.] - ETA: 0s - loss: 1.8234 - acc: 0.4666\n",
      "Epoch 00006: val_acc improved from 0.39453 to 0.44401, saving model to vgg_16_-saved-model-06-acc-0.44.hdf5\n",
      "182/182 [==============================] - 131s 722ms/step - loss: 1.8254 - acc: 0.4662 - val_loss: 1.8988 - val_acc: 0.4440\n",
      "Epoch 7/50\n",
      "181/182 [============================>.] - ETA: 0s - loss: 1.7590 - acc: 0.4764\n",
      "Epoch 00007: val_acc did not improve from 0.44401\n",
      "182/182 [==============================] - 145s 795ms/step - loss: 1.7575 - acc: 0.4778 - val_loss: 1.9155 - val_acc: 0.4193\n",
      "Epoch 8/50\n",
      "181/182 [============================>.] - ETA: 0s - loss: 1.6878 - acc: 0.5068\n",
      "Epoch 00008: val_acc did not improve from 0.44401\n",
      "182/182 [==============================] - 121s 664ms/step - loss: 1.6874 - acc: 0.5074 - val_loss: 1.8306 - val_acc: 0.4388\n",
      "Epoch 9/50\n",
      "181/182 [============================>.] - ETA: 0s - loss: 1.6498 - acc: 0.5087\n",
      "Epoch 00009: val_acc improved from 0.44401 to 0.44922, saving model to vgg_16_-saved-model-09-acc-0.45.hdf5\n",
      "182/182 [==============================] - 121s 667ms/step - loss: 1.6499 - acc: 0.5088 - val_loss: 1.8339 - val_acc: 0.4492\n",
      "Epoch 10/50\n",
      "181/182 [============================>.] - ETA: 0s - loss: 1.6026 - acc: 0.5269\n",
      "Epoch 00010: val_acc did not improve from 0.44922\n",
      "182/182 [==============================] - 139s 762ms/step - loss: 1.6022 - acc: 0.5269 - val_loss: 1.7630 - val_acc: 0.4427\n",
      "Epoch 11/50\n",
      "181/182 [============================>.] - ETA: 0s - loss: 1.5303 - acc: 0.5419\n",
      "Epoch 00011: val_acc did not improve from 0.44922\n",
      "182/182 [==============================] - 141s 777ms/step - loss: 1.5320 - acc: 0.5417 - val_loss: 1.7500 - val_acc: 0.4466\n",
      "Epoch 12/50\n",
      "181/182 [============================>.] - ETA: 0s - loss: 1.5081 - acc: 0.5444\n",
      "Epoch 00012: val_acc did not improve from 0.44922\n",
      "182/182 [==============================] - 137s 754ms/step - loss: 1.5094 - acc: 0.5441 - val_loss: 1.8543 - val_acc: 0.4492\n",
      "Epoch 13/50\n",
      "181/182 [============================>.] - ETA: 0s - loss: 1.4876 - acc: 0.5575\n",
      "Epoch 00013: val_acc did not improve from 0.44922\n",
      "182/182 [==============================] - 135s 739ms/step - loss: 1.4871 - acc: 0.5579 - val_loss: 1.7882 - val_acc: 0.4362\n",
      "Epoch 14/50\n",
      "181/182 [============================>.] - ETA: 0s - loss: 1.4499 - acc: 0.5638\n",
      "Epoch 00014: val_acc improved from 0.44922 to 0.46094, saving model to vgg_16_-saved-model-14-acc-0.46.hdf5\n",
      "182/182 [==============================] - 145s 797ms/step - loss: 1.4495 - acc: 0.5641 - val_loss: 1.7921 - val_acc: 0.4609\n",
      "Epoch 15/50\n",
      "181/182 [============================>.] - ETA: 0s - loss: 1.4242 - acc: 0.5632\n",
      "Epoch 00015: val_acc improved from 0.46094 to 0.47135, saving model to vgg_16_-saved-model-15-acc-0.47.hdf5\n",
      "182/182 [==============================] - 129s 706ms/step - loss: 1.4251 - acc: 0.5632 - val_loss: 1.7607 - val_acc: 0.4714\n",
      "Epoch 16/50\n",
      "181/182 [============================>.] - ETA: 0s - loss: 1.3957 - acc: 0.5743\n",
      "Epoch 00016: val_acc improved from 0.47135 to 0.47917, saving model to vgg_16_-saved-model-16-acc-0.48.hdf5\n",
      "182/182 [==============================] - 133s 730ms/step - loss: 1.3936 - acc: 0.5753 - val_loss: 1.7259 - val_acc: 0.4792\n",
      "Epoch 17/50\n",
      "181/182 [============================>.] - ETA: 0s - loss: 1.3836 - acc: 0.5825\n",
      "Epoch 00017: val_acc improved from 0.47917 to 0.48698, saving model to vgg_16_-saved-model-17-acc-0.49.hdf5\n",
      "182/182 [==============================] - 139s 762ms/step - loss: 1.3828 - acc: 0.5830 - val_loss: 1.7007 - val_acc: 0.4870\n",
      "Epoch 18/50\n",
      "181/182 [============================>.] - ETA: 0s - loss: 1.3580 - acc: 0.5873\n",
      "Epoch 00018: val_acc improved from 0.48698 to 0.49349, saving model to vgg_16_-saved-model-18-acc-0.49.hdf5\n",
      "182/182 [==============================] - 133s 731ms/step - loss: 1.3583 - acc: 0.5872 - val_loss: 1.6812 - val_acc: 0.4935\n",
      "Epoch 19/50\n",
      "181/182 [============================>.] - ETA: 0s - loss: 1.3440 - acc: 0.5922\n",
      "Epoch 00019: val_acc did not improve from 0.49349\n",
      "182/182 [==============================] - 153s 841ms/step - loss: 1.3431 - acc: 0.5924 - val_loss: 1.7103 - val_acc: 0.4727\n",
      "Epoch 20/50\n",
      "181/182 [============================>.] - ETA: 0s - loss: 1.3395 - acc: 0.5991\n",
      "Epoch 00020: val_acc did not improve from 0.49349\n",
      "182/182 [==============================] - 134s 737ms/step - loss: 1.3402 - acc: 0.5984 - val_loss: 1.7314 - val_acc: 0.4740\n",
      "Epoch 21/50\n",
      "181/182 [============================>.] - ETA: 0s - loss: 1.3277 - acc: 0.5877\n",
      "Epoch 00021: val_acc did not improve from 0.49349\n",
      "182/182 [==============================] - 124s 681ms/step - loss: 1.3268 - acc: 0.5884 - val_loss: 1.6892 - val_acc: 0.4896\n",
      "Epoch 22/50\n",
      "181/182 [============================>.] - ETA: 0s - loss: 1.3054 - acc: 0.6043\n",
      "Epoch 00022: val_acc did not improve from 0.49349\n",
      "182/182 [==============================] - 123s 677ms/step - loss: 1.3048 - acc: 0.6046 - val_loss: 1.6721 - val_acc: 0.4883\n",
      "Epoch 23/50\n",
      "181/182 [============================>.] - ETA: 0s - loss: 1.2734 - acc: 0.6145\n",
      "Epoch 00023: val_acc did not improve from 0.49349\n",
      "182/182 [==============================] - 119s 655ms/step - loss: 1.2742 - acc: 0.6144 - val_loss: 1.6030 - val_acc: 0.4896\n",
      "Epoch 24/50\n",
      "181/182 [============================>.] - ETA: 0s - loss: 1.2560 - acc: 0.6078\n",
      "Epoch 00024: val_acc did not improve from 0.49349\n",
      "182/182 [==============================] - 127s 700ms/step - loss: 1.2563 - acc: 0.6075 - val_loss: 1.6520 - val_acc: 0.4922\n",
      "Epoch 25/50\n",
      "181/182 [============================>.] - ETA: 0s - loss: 1.2391 - acc: 0.6174\n",
      "Epoch 00025: val_acc did not improve from 0.49349\n",
      "182/182 [==============================] - 134s 738ms/step - loss: 1.2368 - acc: 0.6185 - val_loss: 1.6229 - val_acc: 0.4922\n",
      "Epoch 26/50\n",
      "181/182 [============================>.] - ETA: 0s - loss: 1.2371 - acc: 0.6195\n",
      "Epoch 00026: val_acc did not improve from 0.49349\n",
      "182/182 [==============================] - 132s 728ms/step - loss: 1.2380 - acc: 0.6191 - val_loss: 1.6805 - val_acc: 0.4909\n",
      "Epoch 27/50\n",
      "181/182 [============================>.] - ETA: 0s - loss: 1.2354 - acc: 0.6255\n",
      "Epoch 00027: val_acc improved from 0.49349 to 0.50391, saving model to vgg_16_-saved-model-27-acc-0.50.hdf5\n",
      "182/182 [==============================] - 139s 763ms/step - loss: 1.2360 - acc: 0.6253 - val_loss: 1.6087 - val_acc: 0.5039\n",
      "Epoch 28/50\n",
      "181/182 [============================>.] - ETA: 0s - loss: 1.2139 - acc: 0.6247\n",
      "Epoch 00028: val_acc improved from 0.50391 to 0.50781, saving model to vgg_16_-saved-model-28-acc-0.51.hdf5\n",
      "Restoring model weights from the end of the best epoch.\n",
      "182/182 [==============================] - 144s 791ms/step - loss: 1.2149 - acc: 0.6246 - val_loss: 1.6059 - val_acc: 0.5078\n",
      "Epoch 00028: early stopping\n"
     ]
    },
    {
     "ename": "KeyError",
     "evalue": "'accuracy'",
     "output_type": "error",
     "traceback": [
      "\u001B[0;31m---------------------------------------------------------------------------\u001B[0m",
      "\u001B[0;31mKeyError\u001B[0m                                  Traceback (most recent call last)",
      "\u001B[0;32m/tmp/ipykernel_45875/902921551.py\u001B[0m in \u001B[0;36m<module>\u001B[0;34m\u001B[0m\n\u001B[1;32m     30\u001B[0m     \u001B[0mvalidation_steps\u001B[0m\u001B[0;34m=\u001B[0m\u001B[0mStep_size_valid\u001B[0m\u001B[0;34m\u001B[0m\u001B[0;34m\u001B[0m\u001B[0m\n\u001B[1;32m     31\u001B[0m )\n\u001B[0;32m---> 32\u001B[0;31m \u001B[0mplt\u001B[0m\u001B[0;34m.\u001B[0m\u001B[0mplot\u001B[0m\u001B[0;34m(\u001B[0m\u001B[0mvgg16_history_callback\u001B[0m\u001B[0;34m.\u001B[0m\u001B[0mhistory\u001B[0m\u001B[0;34m[\u001B[0m\u001B[0;34m\"accuracy\"\u001B[0m\u001B[0;34m]\u001B[0m\u001B[0;34m)\u001B[0m\u001B[0;34m\u001B[0m\u001B[0;34m\u001B[0m\u001B[0m\n\u001B[0m\u001B[1;32m     33\u001B[0m \u001B[0mplt\u001B[0m\u001B[0;34m.\u001B[0m\u001B[0mplot\u001B[0m\u001B[0;34m(\u001B[0m\u001B[0mvgg16_history_callback\u001B[0m\u001B[0;34m.\u001B[0m\u001B[0mhistory\u001B[0m\u001B[0;34m[\u001B[0m\u001B[0;34m'val_accuracy'\u001B[0m\u001B[0;34m]\u001B[0m\u001B[0;34m)\u001B[0m\u001B[0;34m\u001B[0m\u001B[0;34m\u001B[0m\u001B[0m\n\u001B[1;32m     34\u001B[0m \u001B[0mplt\u001B[0m\u001B[0;34m.\u001B[0m\u001B[0mlegend\u001B[0m\u001B[0;34m(\u001B[0m\u001B[0;34m[\u001B[0m\u001B[0;34m'accuracy'\u001B[0m\u001B[0;34m,\u001B[0m\u001B[0;34m'validation accuracy'\u001B[0m\u001B[0;34m]\u001B[0m\u001B[0;34m)\u001B[0m\u001B[0;34m\u001B[0m\u001B[0;34m\u001B[0m\u001B[0m\n",
      "\u001B[0;31mKeyError\u001B[0m: 'accuracy'"
     ]
    }
   ],
   "source": [
    "vgg16_filepath = 'vgg_16_' + '-saved-model-{epoch:02d}-acc-{val_acc:.2f}.hdf5'\n",
    "vgg16_checkpoint = ModelCheckpoint(filepath=vgg16_filepath,\n",
    "                                   save_best_only=True,\n",
    "                                   monitor=\"val_acc\",\n",
    "                                   mode=\"max\",\n",
    "                                   verbose=1\n",
    "                                   )\n",
    "vgg16_early_stopping = EarlyStopping(monitor=\"val_loss\",\n",
    "                                     restore_best_weights=True,\n",
    "                                     patience=5,\n",
    "                                     verbose=1,\n",
    "                                     )\n",
    "vgg16_tensorboard = TensorBoard(log_dir=\"logs/{}\".format(time()),\n",
    "                                write_graph=True,\n",
    "                                write_images=True,\n",
    "                                histogram_freq=0)\n",
    "vgg16_history_callback = History()\n",
    "\n",
    "Step_size_train = train_generator.n // train_generator.batch_size\n",
    "Step_size_valid = validation_generator.n // validation_generator.batch_size\n",
    "Step_size_test =  test_generator.n // test_generator.batch_size\n",
    "\n",
    "print(Step_size_train, Step_size_valid)\n",
    "vgg_history = vgg_final.fit_generator(\n",
    "    generator=train_generator,\n",
    "    validation_data=validation_generator,\n",
    "    epochs=EPOCH,\n",
    "    callbacks=[vgg16_history_callback, vgg16_checkpoint, vgg16_early_stopping, vgg16_tensorboard],\n",
    "    steps_per_epoch=Step_size_train,\n",
    "    validation_steps=Step_size_valid\n",
    ")\n"
   ],
   "metadata": {
    "collapsed": false,
    "pycharm": {
     "name": "#%%\n"
    }
   }
  },
  {
   "cell_type": "code",
   "execution_count": 27,
   "outputs": [
    {
     "data": {
      "text/plain": "<matplotlib.legend.Legend at 0x7fe171480710>"
     },
     "execution_count": 27,
     "metadata": {},
     "output_type": "execute_result"
    },
    {
     "data": {
      "text/plain": "<Figure size 432x288 with 1 Axes>",
      "image/png": "[encoded data removed]"
     },
     "metadata": {
      "needs_background": "light"
     },
     "output_type": "display_data"
    }
   ],
   "source": [
    "plt.plot(vgg16_history_callback.history[\"acc\"])\n",
    "plt.plot(vgg16_history_callback.history['val_acc'])\n",
    "plt.legend(['accuracy','validation accuracy'])"
   ],
   "metadata": {
    "collapsed": false,
    "pycharm": {
     "name": "#%%\n"
    }
   }
  },
  {
   "cell_type": "code",
   "execution_count": 28,
   "outputs": [
    {
     "data": {
      "text/plain": "<matplotlib.legend.Legend at 0x7fe1733a8dd0>"
     },
     "execution_count": 28,
     "metadata": {},
     "output_type": "execute_result"
    },
    {
     "data": {
      "text/plain": "<Figure size 432x288 with 1 Axes>",
      "image/png": "[encoded data removed]"
     },
     "metadata": {
      "needs_background": "light"
     },
     "output_type": "display_data"
    }
   ],
   "source": [
    "plt.plot(vgg16_history_callback.history[\"loss\"])\n",
    "plt.plot(vgg16_history_callback.history['val_loss'])\n",
    "plt.legend(['accuracy','validation accuracy'])"
   ],
   "metadata": {
    "collapsed": false,
    "pycharm": {
     "name": "#%%\n"
    }
   }
  },
  {
   "cell_type": "code",
   "execution_count": 29,
   "outputs": [
    {
     "name": "stdout",
     "output_type": "stream",
     "text": [
      "777/777 [==============================] - 32s 41ms/step\n"
     ]
    }
   ],
   "source": [
    "vgg_final.evaluate_generator(generator=validation_generator,\n",
    "                             steps=Step_size_valid)\n",
    "test_generator.reset()\n",
    "\n",
    "pred = vgg_final.predict_generator(generator=test_generator,\n",
    "                                   steps=Step_size_test,\n",
    "                                   verbose=1)\n",
    "predicted_class_indces =np.argmax(pred,axis=1)"
   ],
   "metadata": {
    "collapsed": false,
    "pycharm": {
     "name": "#%%\n"
    }
   }
  },
  {
   "cell_type": "code",
   "execution_count": 30,
   "outputs": [],
   "source": [
    "labels = train_generator.class_indices\n",
    "labels = dict((v,k) for k,v in labels.items())\n",
    "predictions = [labels[k] for k in predicted_class_indces]"
   ],
   "metadata": {
    "collapsed": false,
    "pycharm": {
     "name": "#%%\n"
    }
   }
  },
  {
   "cell_type": "code",
   "execution_count": 31,
   "outputs": [],
   "source": [
    "filenames=test_generator.filenames\n",
    "results=pd.DataFrame({\"Filename\":filenames,\n",
    "                      \"Predictions\":predictions})\n",
    "results.to_csv(\"results.csv\",index=False)"
   ],
   "metadata": {
    "collapsed": false,
    "pycharm": {
     "name": "#%%\n"
    }
   }
  },
  {
   "cell_type": "code",
   "execution_count": 33,
   "outputs": [
    {
     "data": {
      "text/plain": "                                      Filename             Predictions\n0                  Abyssinian/Abyssinian_1.jpg              Abyssinian\n1                 Abyssinian/Abyssinian_10.jpg               chihuahua\n2                 Abyssinian/Abyssinian_11.jpg              Abyssinian\n3                 Abyssinian/Abyssinian_12.jpg            Russian_Blue\n4                 Abyssinian/Abyssinian_13.jpg              Abyssinian\n..                                         ...                     ...\n772  yorkshire_terrier/yorkshire_terrier_4.jpg       yorkshire_terrier\n773  yorkshire_terrier/yorkshire_terrier_5.jpg                havanese\n774  yorkshire_terrier/yorkshire_terrier_6.jpg        scottish_terrier\n775  yorkshire_terrier/yorkshire_terrier_7.jpg              pomeranian\n776  yorkshire_terrier/yorkshire_terrier_9.jpg  english_cocker_spaniel\n\n[777 rows x 2 columns]",
      "text/html": "<div>\n<style scoped>\n    .dataframe tbody tr th:only-of-type {\n        vertical-align: middle;\n    }\n\n    .dataframe tbody tr th {\n        vertical-align: top;\n    }\n\n    .dataframe thead th {\n        text-align: right;\n    }\n</style>\n<table border=\"1\" class=\"dataframe\">\n  <thead>\n    <tr style=\"text-align: right;\">\n      <th></th>\n      <th>Filename</th>\n      <th>Predictions</th>\n    </tr>\n  </thead>\n  <tbody>\n    <tr>\n      <th>0</th>\n      <td>Abyssinian/Abyssinian_1.jpg</td>\n      <td>Abyssinian</td>\n    </tr>\n    <tr>\n      <th>1</th>\n      <td>Abyssinian/Abyssinian_10.jpg</td>\n      <td>chihuahua</td>\n    </tr>\n    <tr>\n      <th>2</th>\n      <td>Abyssinian/Abyssinian_11.jpg</td>\n      <td>Abyssinian</td>\n    </tr>\n    <tr>\n      <th>3</th>\n      <td>Abyssinian/Abyssinian_12.jpg</td>\n      <td>Russian_Blue</td>\n    </tr>\n    <tr>\n      <th>4</th>\n      <td>Abyssinian/Abyssinian_13.jpg</td>\n      <td>Abyssinian</td>\n    </tr>\n    <tr>\n      <th>...</th>\n      <td>...</td>\n      <td>...</td>\n    </tr>\n    <tr>\n      <th>772</th>\n      <td>yorkshire_terrier/yorkshire_terrier_4.jpg</td>\n      <td>yorkshire_terrier</td>\n    </tr>\n    <tr>\n      <th>773</th>\n      <td>yorkshire_terrier/yorkshire_terrier_5.jpg</td>\n      <td>havanese</td>\n    </tr>\n    <tr>\n      <th>774</th>\n      <td>yorkshire_terrier/yorkshire_terrier_6.jpg</td>\n      <td>scottish_terrier</td>\n    </tr>\n    <tr>\n      <th>775</th>\n      <td>yorkshire_terrier/yorkshire_terrier_7.jpg</td>\n      <td>pomeranian</td>\n    </tr>\n    <tr>\n      <th>776</th>\n      <td>yorkshire_terrier/yorkshire_terrier_9.jpg</td>\n      <td>english_cocker_spaniel</td>\n    </tr>\n  </tbody>\n</table>\n<p>777 rows × 2 columns</p>\n</div>"
     },
     "execution_count": 33,
     "metadata": {},
     "output_type": "execute_result"
    }
   ],
   "source": [
    "results"
   ],
   "metadata": {
    "collapsed": false,
    "pycharm": {
     "name": "#%%\n"
    }
   }
  },
  {
   "cell_type": "code",
   "execution_count": null,
   "outputs": [],
   "source": [],
   "metadata": {
    "collapsed": false,
    "pycharm": {
     "name": "#%%\n"
    }
   }
  }
 ],
 "metadata": {
  "kernelspec": {
   "display_name": "Python 3 (ipykernel)",
   "language": "python",
   "name": "python3"
  },
  "language_info": {
   "codemirror_mode": {
    "name": "ipython",
    "version": 3
   },
   "file_extension": ".py",
   "mimetype": "text/x-python",
   "name": "python",
   "nbconvert_exporter": "python",
   "pygments_lexer": "ipython3",
   "version": "3.7.13"
  }
 },
 "nbformat": 4,
 "nbformat_minor": 5
}