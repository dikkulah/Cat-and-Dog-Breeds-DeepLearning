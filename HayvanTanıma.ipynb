{
 "cells": [
  {
   "cell_type": "code",
   "execution_count": 21,
   "id": "8f13370b",
   "metadata": {
    "pycharm": {
     "name": "#%%\n"
    }
   },
   "outputs": [],
   "source": [
    "#\"Hayvan Tanıma Git Repostory Oluşturuldu\""
   ]
  },
  {
   "cell_type": "code",
   "execution_count": 22,
   "id": "91a60425",
   "metadata": {
    "pycharm": {
     "name": "#%%\n"
    }
   },
   "outputs": [],
   "source": [
    "import os\n",
    "from tensorflow.python.keras.optimizers import SGD\n",
    "\n",
    "import matplotlib.pyplot as plt\n",
    "from tensorflow import keras\n",
    "from tensorflow.keras.models import Model, Sequential\n",
    "from tensorflow.keras.layers import Dense, Flatten, Conv2D, MaxPool2D, Dropout\n",
    "from tensorflow.keras.applications.vgg16 import VGG16, preprocess_input\n",
    "from tensorflow.keras.preprocessing.image import ImageDataGenerator\n",
    "from tensorflow.keras.callbacks import ModelCheckpoint, EarlyStopping, TensorBoard, History\n",
    "import tensorflow as tf\n",
    "from time import time\n",
    "import numpy as np\n",
    "import pandas as pd\n",
    "\n",
    "os.environ[\"TF_CPP_MIN_LOG_LEVEL\"] = \"2\"  # UYARILARI KAPATMA\n"
   ]
  },
  {
   "cell_type": "code",
   "execution_count": 23,
   "outputs": [
    {
     "name": "stdout",
     "output_type": "stream",
     "text": [
      "Found 4987 images belonging to 37 classes.\n",
      "Found 1626 images belonging to 37 classes.\n",
      "Found 777 images belonging to 37 classes.\n"
     ]
    }
   ],
   "source": [
    "#print(os.listdir(\"./images/train\"))\n",
    "SIZE = 224\n",
    "EPOCH = 50\n",
    "BATCH = 32\n",
    "train_directory = \"images/train/\"\n",
    "valid_directory = \"images/valid/\"\n",
    "test_directory = \"images/test/\"\n",
    "\n",
    "data_aug = ImageDataGenerator(rotation_range=40,\n",
    "                              width_shift_range=0.2,\n",
    "                              height_shift_range=0.2,\n",
    "                              shear_range=0.2,\n",
    "                              rescale=1. / 255,\n",
    "                              zoom_range=0.2,\n",
    "                              horizontal_flip=True,\n",
    "                              fill_mode=\"nearest\",\n",
    "                              validation_split=0.25\n",
    "                              )\n",
    "test_aug = ImageDataGenerator(rescale = 1./255)\n",
    "#Max batch size= available GPU memory bytes / 4 / (size of tensors + trainable parameters)\n",
    "train_generator = data_aug.flow_from_directory(directory=train_directory,\n",
    "                                               batch_size=BATCH,\n",
    "                                               shuffle=True,\n",
    "                                               class_mode=\"categorical\",\n",
    "                                               color_mode=\"rgb\",\n",
    "                                               target_size=(SIZE, SIZE),\n",
    "                                               interpolation=\"nearest\",\n",
    "                                               subset=\"training\",\n",
    "                                               seed=42\n",
    "                                               )\n",
    "validation_generator = data_aug.flow_from_directory(directory=train_directory,\n",
    "                                                    batch_size=BATCH,\n",
    "                                                    shuffle=True,\n",
    "                                                    class_mode=\"categorical\",\n",
    "                                                    color_mode=\"rgb\",\n",
    "                                                    target_size=(SIZE, SIZE),\n",
    "                                                    interpolation=\"nearest\",\n",
    "                                                    subset=\"validation\",\n",
    "                                                    seed=42\n",
    "                                                    )\n",
    "test_generator = test_aug.flow_from_directory(directory=test_directory,\n",
    "                                              batch_size=1,\n",
    "                                              shuffle=False,\n",
    "                                              class_mode=\"categorical\",\n",
    "                                              target_size=(SIZE, SIZE)\n",
    "                                              )\n",
    "\n",
    "\n"
   ],
   "metadata": {
    "collapsed": false,
    "pycharm": {
     "name": "#%%\n"
    }
   }
  },
  {
   "cell_type": "code",
   "execution_count": 24,
   "outputs": [
    {
     "name": "stdout",
     "output_type": "stream",
     "text": [
      "{'Abyssinian': 0, 'Bengal': 1, 'Birman': 2, 'Bombay': 3, 'British_Shorthair': 4, 'Egyptian_Mau': 5, 'Maine_Coon': 6, 'Persian': 7, 'Ragdoll': 8, 'Russian_Blue': 9, 'Siamese': 10, 'Sphynx': 11, 'american_bulldog': 12, 'american_pit_bull_terrier': 13, 'basset_hound': 14, 'beagle': 15, 'boxer': 16, 'chihuahua': 17, 'english_cocker_spaniel': 18, 'english_setter': 19, 'german_shorthaired': 20, 'great_pyrenees': 21, 'havanese': 22, 'japanese_chin': 23, 'keeshond': 24, 'leonberger': 25, 'miniature_pinscher': 26, 'newfoundland': 27, 'pomeranian': 28, 'pug': 29, 'saint_bernard': 30, 'samoyed': 31, 'scottish_terrier': 32, 'shiba_inu': 33, 'staffordshire_bull_terrier': 34, 'wheaten_terrier': 35, 'yorkshire_terrier': 36}\n"
     ]
    }
   ],
   "source": [
    "print(train_generator.class_indices)"
   ],
   "metadata": {
    "collapsed": false,
    "pycharm": {
     "name": "#%%\n"
    }
   }
  },
  {
   "cell_type": "code",
   "execution_count": 25,
   "outputs": [],
   "source": [
    "tf.keras.backend.clear_session()"
   ],
   "metadata": {
    "collapsed": false,
    "pycharm": {
     "name": "#%%\n"
    }
   }
  },
  {
   "cell_type": "code",
   "execution_count": 26,
   "outputs": [
    {
     "name": "stdout",
     "output_type": "stream",
     "text": [
      "Model: \"sequential\"\n",
      "_________________________________________________________________\n",
      "Layer (type)                 Output Shape              Param #   \n",
      "=================================================================\n",
      "vgg16 (Model)                (None, 512)               14714688  \n",
      "_________________________________________________________________\n",
      "flatten (Flatten)            (None, 512)               0         \n",
      "_________________________________________________________________\n",
      "dense (Dense)                (None, 4096)              2101248   \n",
      "_________________________________________________________________\n",
      "dropout (Dropout)            (None, 4096)              0         \n",
      "_________________________________________________________________\n",
      "dense_1 (Dense)              (None, 1024)              4195328   \n",
      "_________________________________________________________________\n",
      "dropout_1 (Dropout)          (None, 1024)              0         \n",
      "_________________________________________________________________\n",
      "dense_2 (Dense)              (None, 37)                37925     \n",
      "=================================================================\n",
      "Total params: 21,049,189\n",
      "Trainable params: 6,334,501\n",
      "Non-trainable params: 14,714,688\n",
      "_________________________________________________________________\n",
      "0 input_1 False\n",
      "1 block1_conv1 False\n",
      "2 block1_conv2 False\n",
      "3 block1_pool False\n",
      "4 block2_conv1 False\n",
      "5 block2_conv2 False\n",
      "6 block2_pool False\n",
      "7 block3_conv1 False\n",
      "8 block3_conv2 False\n",
      "9 block3_conv3 False\n",
      "10 block3_pool False\n",
      "11 block4_conv1 False\n",
      "12 block4_conv2 False\n",
      "13 block4_conv3 False\n",
      "14 block4_pool False\n",
      "15 block5_conv1 False\n",
      "16 block5_conv2 False\n",
      "17 block5_conv3 False\n",
      "18 block5_pool False\n",
      "19 global_average_pooling2d False\n"
     ]
    }
   ],
   "source": [
    "\n",
    "vgg16_model = VGG16(pooling=\"avg\", input_shape=(224, 224, 3), weights=\"imagenet\", include_top=False)\n",
    "for layer in vgg16_model.layers:\n",
    "    layer.trainable = False\n",
    "VGG = tf.keras.Sequential([\n",
    "    vgg16_model,\n",
    "    Flatten(),\n",
    "    Dense(units=4096, activation=\"relu\"),\n",
    "    Dropout(0.1),\n",
    "    Dense(units=1024, activation=\"relu\"),\n",
    "    Dropout(0.1),\n",
    "    Dense(units=37, activation=\"softmax\"),\n",
    "])\n",
    "opt = SGD(lr=0.001, momentum=0.9, decay=0.01)\n",
    "\n",
    "VGG.compile(loss=\"categorical_crossentropy\", optimizer=\"adam\",\n",
    "            metrics=[\"acc\"])\n",
    "\n",
    "VGG.summary()\n",
    "for i, layer in enumerate(vgg16_model.layers):\n",
    "    print(i, layer.name, layer.trainable)"
   ],
   "metadata": {
    "collapsed": false,
    "pycharm": {
     "name": "#%%\n"
    }
   }
  },
  {
   "cell_type": "code",
   "execution_count": 27,
   "outputs": [
    {
     "name": "stdout",
     "output_type": "stream",
     "text": [
      "155 50\n",
      "Epoch 1/50\n",
      "  2/155 [..............................] - ETA: 3:26 - loss: 4.1422 - acc: 0.0000e+00"
     ]
    },
    {
     "name": "stderr",
     "output_type": "stream",
     "text": [
      "2022-05-02 00:18:23.210616: E tensorflow/core/platform/default/device_tracer.cc:68] CUPTI error: CUPTI_ERROR_INVALID_PARAMETER\n"
     ]
    },
    {
     "name": "stdout",
     "output_type": "stream",
     "text": [
      "154/155 [============================>.] - ETA: 0s - loss: 3.3109 - acc: 0.0829\n",
      "Epoch 00001: val_acc improved from -inf to 0.15438, saving model to vgg_16_-saved-model-01-acc-0.15.hdf5\n",
      "155/155 [==============================] - 139s 894ms/step - loss: 3.3074 - acc: 0.0829 - val_loss: 2.8441 - val_acc: 0.1544\n",
      "Epoch 2/50\n",
      "154/155 [============================>.] - ETA: 0s - loss: 2.6010 - acc: 0.2001\n",
      "Epoch 00002: val_acc improved from 0.15438 to 0.24187, saving model to vgg_16_-saved-model-02-acc-0.24.hdf5\n",
      "155/155 [==============================] - 137s 886ms/step - loss: 2.5998 - acc: 0.1998 - val_loss: 2.4671 - val_acc: 0.2419\n",
      "Epoch 3/50\n",
      "154/155 [============================>.] - ETA: 0s - loss: 2.2836 - acc: 0.2823\n",
      "Epoch 00003: val_acc improved from 0.24187 to 0.31688, saving model to vgg_16_-saved-model-03-acc-0.32.hdf5\n",
      "155/155 [==============================] - 140s 906ms/step - loss: 2.2831 - acc: 0.2829 - val_loss: 2.2278 - val_acc: 0.3169\n",
      "Epoch 4/50\n",
      "154/155 [============================>.] - ETA: 0s - loss: 2.1061 - acc: 0.3459\n",
      "Epoch 00004: val_acc improved from 0.31688 to 0.34500, saving model to vgg_16_-saved-model-04-acc-0.34.hdf5\n",
      "155/155 [==============================] - 152s 982ms/step - loss: 2.1083 - acc: 0.3461 - val_loss: 2.2044 - val_acc: 0.3450\n",
      "Epoch 5/50\n",
      "154/155 [============================>.] - ETA: 0s - loss: 1.9988 - acc: 0.3742\n",
      "Epoch 00005: val_acc improved from 0.34500 to 0.39125, saving model to vgg_16_-saved-model-05-acc-0.39.hdf5\n",
      "155/155 [==============================] - 142s 914ms/step - loss: 1.9997 - acc: 0.3744 - val_loss: 2.0239 - val_acc: 0.3913\n",
      "Epoch 6/50\n",
      "154/155 [============================>.] - ETA: 0s - loss: 1.9007 - acc: 0.4146\n",
      "Epoch 00006: val_acc did not improve from 0.39125\n",
      "155/155 [==============================] - 141s 912ms/step - loss: 1.9033 - acc: 0.4143 - val_loss: 2.0041 - val_acc: 0.3906\n",
      "Epoch 7/50\n",
      "154/155 [============================>.] - ETA: 0s - loss: 1.8002 - acc: 0.4347\n",
      "Epoch 00007: val_acc improved from 0.39125 to 0.43062, saving model to vgg_16_-saved-model-07-acc-0.43.hdf5\n",
      "155/155 [==============================] - 140s 903ms/step - loss: 1.8007 - acc: 0.4345 - val_loss: 1.8637 - val_acc: 0.4306\n",
      "Epoch 8/50\n",
      "154/155 [============================>.] - ETA: 0s - loss: 1.7329 - acc: 0.4561\n",
      "Epoch 00008: val_acc improved from 0.43062 to 0.43562, saving model to vgg_16_-saved-model-08-acc-0.44.hdf5\n",
      "155/155 [==============================] - 139s 894ms/step - loss: 1.7328 - acc: 0.4568 - val_loss: 1.7998 - val_acc: 0.4356\n",
      "Epoch 9/50\n",
      "154/155 [============================>.] - ETA: 0s - loss: 1.7171 - acc: 0.4721\n",
      "Epoch 00009: val_acc did not improve from 0.43562\n",
      "155/155 [==============================] - 142s 918ms/step - loss: 1.7189 - acc: 0.4718 - val_loss: 1.8679 - val_acc: 0.4238\n",
      "Epoch 10/50\n",
      "154/155 [============================>.] - ETA: 0s - loss: 1.6724 - acc: 0.4765\n",
      "Epoch 00010: val_acc did not improve from 0.43562\n",
      "155/155 [==============================] - 142s 914ms/step - loss: 1.6726 - acc: 0.4767 - val_loss: 1.8449 - val_acc: 0.4281\n",
      "Epoch 11/50\n",
      "154/155 [============================>.] - ETA: 0s - loss: 1.6194 - acc: 0.4889\n",
      "Epoch 00011: val_acc improved from 0.43562 to 0.44813, saving model to vgg_16_-saved-model-11-acc-0.45.hdf5\n",
      "155/155 [==============================] - 139s 895ms/step - loss: 1.6197 - acc: 0.4892 - val_loss: 1.7758 - val_acc: 0.4481\n",
      "Epoch 12/50\n",
      "154/155 [============================>.] - ETA: 0s - loss: 1.5788 - acc: 0.5038\n",
      "Epoch 00012: val_acc improved from 0.44813 to 0.47500, saving model to vgg_16_-saved-model-12-acc-0.47.hdf5\n",
      "155/155 [==============================] - 118s 761ms/step - loss: 1.5767 - acc: 0.5051 - val_loss: 1.7141 - val_acc: 0.4750\n",
      "Epoch 13/50\n",
      "154/155 [============================>.] - ETA: 0s - loss: 1.5378 - acc: 0.5239\n",
      "Epoch 00013: val_acc did not improve from 0.47500\n",
      "155/155 [==============================] - 128s 827ms/step - loss: 1.5403 - acc: 0.5231 - val_loss: 1.7710 - val_acc: 0.4706\n",
      "Epoch 14/50\n",
      "154/155 [============================>.] - ETA: 0s - loss: 1.5043 - acc: 0.5182\n",
      "Epoch 00014: val_acc did not improve from 0.47500\n",
      "155/155 [==============================] - 140s 905ms/step - loss: 1.5040 - acc: 0.5185 - val_loss: 1.7971 - val_acc: 0.4588\n",
      "Epoch 15/50\n",
      "154/155 [============================>.] - ETA: 0s - loss: 1.5008 - acc: 0.5324\n",
      "Epoch 00015: val_acc did not improve from 0.47500\n",
      "155/155 [==============================] - 148s 954ms/step - loss: 1.4985 - acc: 0.5334 - val_loss: 1.7205 - val_acc: 0.4694\n",
      "Epoch 16/50\n",
      "154/155 [============================>.] - ETA: 0s - loss: 1.4513 - acc: 0.5395\n",
      "Epoch 00016: val_acc did not improve from 0.47500\n",
      "155/155 [==============================] - 142s 918ms/step - loss: 1.4492 - acc: 0.5407 - val_loss: 1.8733 - val_acc: 0.4394\n",
      "Epoch 17/50\n",
      "154/155 [============================>.] - ETA: 0s - loss: 1.4448 - acc: 0.5452\n",
      "Epoch 00017: val_acc improved from 0.47500 to 0.49500, saving model to vgg_16_-saved-model-17-acc-0.50.hdf5\n",
      "155/155 [==============================] - 141s 911ms/step - loss: 1.4452 - acc: 0.5451 - val_loss: 1.7060 - val_acc: 0.4950\n",
      "Epoch 18/50\n",
      "154/155 [============================>.] - ETA: 0s - loss: 1.3865 - acc: 0.5625\n",
      "Epoch 00018: val_acc did not improve from 0.49500\n",
      "155/155 [==============================] - 143s 923ms/step - loss: 1.3852 - acc: 0.5631 - val_loss: 1.7025 - val_acc: 0.4769\n",
      "Epoch 19/50\n",
      "154/155 [============================>.] - ETA: 0s - loss: 1.3910 - acc: 0.5586\n",
      "Epoch 00019: val_acc did not improve from 0.49500\n",
      "155/155 [==============================] - 142s 915ms/step - loss: 1.3894 - acc: 0.5590 - val_loss: 1.6827 - val_acc: 0.4831\n",
      "Epoch 20/50\n",
      "154/155 [============================>.] - ETA: 0s - loss: 1.3811 - acc: 0.5578\n",
      "Epoch 00020: val_acc did not improve from 0.49500\n",
      "155/155 [==============================] - 139s 898ms/step - loss: 1.3803 - acc: 0.5578 - val_loss: 1.7920 - val_acc: 0.4650\n",
      "Epoch 21/50\n",
      "154/155 [============================>.] - ETA: 0s - loss: 1.3492 - acc: 0.5732\n",
      "Epoch 00021: val_acc did not improve from 0.49500\n",
      "155/155 [==============================] - 141s 912ms/step - loss: 1.3500 - acc: 0.5738 - val_loss: 1.7048 - val_acc: 0.4756\n",
      "Epoch 22/50\n",
      "154/155 [============================>.] - ETA: 0s - loss: 1.3101 - acc: 0.5846\n",
      "Epoch 00022: val_acc did not improve from 0.49500\n",
      "155/155 [==============================] - 139s 894ms/step - loss: 1.3094 - acc: 0.5849 - val_loss: 1.6282 - val_acc: 0.4906\n",
      "Epoch 23/50\n",
      "154/155 [============================>.] - ETA: 0s - loss: 1.3013 - acc: 0.5852\n",
      "Epoch 00023: val_acc improved from 0.49500 to 0.49687, saving model to vgg_16_-saved-model-23-acc-0.50.hdf5\n",
      "155/155 [==============================] - 141s 907ms/step - loss: 1.3024 - acc: 0.5853 - val_loss: 1.6839 - val_acc: 0.4969\n",
      "Epoch 24/50\n",
      "154/155 [============================>.] - ETA: 0s - loss: 1.2747 - acc: 0.5980\n",
      "Epoch 00024: val_acc did not improve from 0.49687\n",
      "155/155 [==============================] - 144s 930ms/step - loss: 1.2743 - acc: 0.5986 - val_loss: 1.7263 - val_acc: 0.4888\n",
      "Epoch 25/50\n",
      "154/155 [============================>.] - ETA: 0s - loss: 1.2801 - acc: 0.5935\n",
      "Epoch 00025: val_acc did not improve from 0.49687\n",
      "155/155 [==============================] - 142s 916ms/step - loss: 1.2818 - acc: 0.5929 - val_loss: 1.7617 - val_acc: 0.4850\n",
      "Epoch 26/50\n",
      "154/155 [============================>.] - ETA: 0s - loss: 1.2342 - acc: 0.5998\n",
      "Epoch 00026: val_acc did not improve from 0.49687\n",
      "155/155 [==============================] - 142s 914ms/step - loss: 1.2348 - acc: 0.6006 - val_loss: 1.7151 - val_acc: 0.4944\n",
      "Epoch 27/50\n",
      "154/155 [============================>.] - ETA: 0s - loss: 1.2425 - acc: 0.6013\n",
      "Epoch 00027: val_acc did not improve from 0.49687\n",
      "155/155 [==============================] - 145s 934ms/step - loss: 1.2420 - acc: 0.6016 - val_loss: 1.7151 - val_acc: 0.4787\n",
      "Epoch 28/50\n",
      "154/155 [============================>.] - ETA: 0s - loss: 1.2110 - acc: 0.6088\n",
      "Epoch 00028: val_acc did not improve from 0.49687\n",
      "155/155 [==============================] - 152s 981ms/step - loss: 1.2116 - acc: 0.6083 - val_loss: 1.7035 - val_acc: 0.4881\n",
      "Epoch 29/50\n",
      "154/155 [============================>.] - ETA: 0s - loss: 1.2064 - acc: 0.6218\n",
      "Epoch 00029: val_acc improved from 0.49687 to 0.50750, saving model to vgg_16_-saved-model-29-acc-0.51.hdf5\n",
      "155/155 [==============================] - 145s 934ms/step - loss: 1.2067 - acc: 0.6222 - val_loss: 1.6605 - val_acc: 0.5075\n",
      "Epoch 30/50\n",
      "154/155 [============================>.] - ETA: 0s - loss: 1.1772 - acc: 0.6269\n",
      "Epoch 00030: val_acc did not improve from 0.50750\n",
      "155/155 [==============================] - 141s 907ms/step - loss: 1.1762 - acc: 0.6272 - val_loss: 1.7672 - val_acc: 0.4925\n",
      "Epoch 31/50\n",
      "154/155 [============================>.] - ETA: 0s - loss: 1.1356 - acc: 0.6327\n",
      "Epoch 00031: val_acc improved from 0.50750 to 0.51125, saving model to vgg_16_-saved-model-31-acc-0.51.hdf5\n",
      "155/155 [==============================] - 133s 857ms/step - loss: 1.1388 - acc: 0.6325 - val_loss: 1.6723 - val_acc: 0.5113\n",
      "Epoch 32/50\n",
      "154/155 [============================>.] - ETA: 0s - loss: 1.1317 - acc: 0.6388\n",
      "Epoch 00032: val_acc did not improve from 0.51125\n",
      "155/155 [==============================] - 130s 841ms/step - loss: 1.1301 - acc: 0.6392 - val_loss: 1.6910 - val_acc: 0.5050\n",
      "Epoch 33/50\n",
      "154/155 [============================>.] - ETA: 0s - loss: 1.1511 - acc: 0.6283\n",
      "Epoch 00033: val_acc improved from 0.51125 to 0.51938, saving model to vgg_16_-saved-model-33-acc-0.52.hdf5\n",
      "155/155 [==============================] - 142s 918ms/step - loss: 1.1491 - acc: 0.6293 - val_loss: 1.6486 - val_acc: 0.5194\n",
      "Epoch 34/50\n",
      "154/155 [============================>.] - ETA: 0s - loss: 1.1205 - acc: 0.6403\n",
      "Epoch 00034: val_acc did not improve from 0.51938\n",
      "155/155 [==============================] - 137s 886ms/step - loss: 1.1206 - acc: 0.6402 - val_loss: 1.7058 - val_acc: 0.4938\n",
      "Epoch 35/50\n",
      "154/155 [============================>.] - ETA: 0s - loss: 1.1115 - acc: 0.6405\n",
      "Epoch 00035: val_acc did not improve from 0.51938\n",
      "155/155 [==============================] - 144s 929ms/step - loss: 1.1138 - acc: 0.6400 - val_loss: 1.6897 - val_acc: 0.5144\n",
      "Epoch 36/50\n",
      "154/155 [============================>.] - ETA: 0s - loss: 1.0902 - acc: 0.6488\n",
      "Epoch 00036: val_acc did not improve from 0.51938\n",
      "155/155 [==============================] - 147s 950ms/step - loss: 1.0901 - acc: 0.6486 - val_loss: 1.7687 - val_acc: 0.5050\n",
      "Epoch 37/50\n",
      "154/155 [============================>.] - ETA: 0s - loss: 1.0605 - acc: 0.6549\n",
      "Epoch 00037: val_acc did not improve from 0.51938\n",
      "155/155 [==============================] - 147s 949ms/step - loss: 1.0635 - acc: 0.6543 - val_loss: 1.8047 - val_acc: 0.4794\n",
      "Epoch 38/50\n",
      "154/155 [============================>.] - ETA: 0s - loss: 1.0688 - acc: 0.6594\n",
      "Epoch 00038: val_acc did not improve from 0.51938\n",
      "155/155 [==============================] - 147s 949ms/step - loss: 1.0711 - acc: 0.6589 - val_loss: 1.7604 - val_acc: 0.5019\n",
      "Epoch 39/50\n",
      "154/155 [============================>.] - ETA: 0s - loss: 1.0527 - acc: 0.6589\n",
      "Epoch 00039: val_acc did not improve from 0.51938\n",
      "155/155 [==============================] - 149s 959ms/step - loss: 1.0521 - acc: 0.6593 - val_loss: 1.6783 - val_acc: 0.4906\n",
      "Epoch 40/50\n",
      "154/155 [============================>.] - ETA: 0s - loss: 1.0310 - acc: 0.6715\n",
      "Epoch 00040: val_acc did not improve from 0.51938\n",
      "155/155 [==============================] - 138s 891ms/step - loss: 1.0302 - acc: 0.6718 - val_loss: 1.7106 - val_acc: 0.4938\n",
      "Epoch 41/50\n",
      "154/155 [============================>.] - ETA: 0s - loss: 1.0320 - acc: 0.6646\n",
      "Epoch 00041: val_acc did not improve from 0.51938\n",
      "155/155 [==============================] - 138s 890ms/step - loss: 1.0314 - acc: 0.6644 - val_loss: 1.6971 - val_acc: 0.5125\n",
      "Epoch 42/50\n",
      "154/155 [============================>.] - ETA: 0s - loss: 1.0029 - acc: 0.6756\n",
      "Epoch 00042: val_acc did not improve from 0.51938\n",
      "155/155 [==============================] - 138s 888ms/step - loss: 1.0042 - acc: 0.6753 - val_loss: 1.7316 - val_acc: 0.5056\n",
      "Epoch 43/50\n",
      "154/155 [============================>.] - ETA: 0s - loss: 0.9933 - acc: 0.6746\n",
      "Epoch 00043: val_acc did not improve from 0.51938\n",
      "155/155 [==============================] - 138s 888ms/step - loss: 0.9918 - acc: 0.6749 - val_loss: 1.7610 - val_acc: 0.5113\n",
      "Epoch 44/50\n",
      "154/155 [============================>.] - ETA: 0s - loss: 0.9671 - acc: 0.6918\n",
      "Epoch 00044: val_acc did not improve from 0.51938\n",
      "155/155 [==============================] - 138s 893ms/step - loss: 0.9676 - acc: 0.6921 - val_loss: 1.7730 - val_acc: 0.5125\n",
      "Epoch 45/50\n",
      "154/155 [============================>.] - ETA: 0s - loss: 0.9742 - acc: 0.6843\n",
      "Epoch 00045: val_acc did not improve from 0.51938\n",
      "155/155 [==============================] - 144s 927ms/step - loss: 0.9766 - acc: 0.6834 - val_loss: 1.7420 - val_acc: 0.5031\n",
      "Epoch 46/50\n",
      "154/155 [============================>.] - ETA: 0s - loss: 0.9627 - acc: 0.6870\n",
      "Epoch 00046: val_acc did not improve from 0.51938\n",
      "155/155 [==============================] - 139s 900ms/step - loss: 0.9643 - acc: 0.6864 - val_loss: 1.8047 - val_acc: 0.4994\n",
      "Epoch 47/50\n",
      "154/155 [============================>.] - ETA: 0s - loss: 0.9580 - acc: 0.6911\n",
      "Epoch 00047: val_acc did not improve from 0.51938\n",
      "155/155 [==============================] - 130s 838ms/step - loss: 0.9567 - acc: 0.6913 - val_loss: 1.7363 - val_acc: 0.5050\n",
      "Epoch 48/50\n",
      "154/155 [============================>.] - ETA: 0s - loss: 0.9650 - acc: 0.6877\n",
      "Epoch 00048: val_acc improved from 0.51938 to 0.52938, saving model to vgg_16_-saved-model-48-acc-0.53.hdf5\n",
      "155/155 [==============================] - 147s 946ms/step - loss: 0.9640 - acc: 0.6877 - val_loss: 1.7150 - val_acc: 0.5294\n",
      "Epoch 49/50\n",
      "154/155 [============================>.] - ETA: 0s - loss: 0.8986 - acc: 0.7046\n",
      "Epoch 00049: val_acc did not improve from 0.52938\n",
      "155/155 [==============================] - 147s 950ms/step - loss: 0.8992 - acc: 0.7042 - val_loss: 1.8344 - val_acc: 0.5031\n",
      "Epoch 50/50\n",
      "154/155 [============================>.] - ETA: 0s - loss: 0.8991 - acc: 0.7098\n",
      "Epoch 00050: val_acc did not improve from 0.52938\n",
      "155/155 [==============================] - 124s 801ms/step - loss: 0.8990 - acc: 0.7105 - val_loss: 1.7104 - val_acc: 0.5194\n"
     ]
    }
   ],
   "source": [
    "\n",
    "vgg16_filepath = 'vgg_16_' + '-saved-model-{epoch:02d}-acc-{val_acc:.2f}.hdf5'\n",
    "vgg16_checkpoint = ModelCheckpoint(filepath=vgg16_filepath,\n",
    "                                   save_best_only=True,\n",
    "                                   monitor=\"val_acc\",\n",
    "                                   mode=\"max\",\n",
    "                                   verbose=1\n",
    "                                   )\n",
    "early = EarlyStopping(monitor='val_acc', min_delta=0, patience=20, verbose=1, mode='auto')\n",
    "\n",
    "vgg16_tensorboard = TensorBoard(log_dir=\"logs/{}\".format(time()),\n",
    "                                write_graph=True,\n",
    "                                write_images=True,\n",
    "                                histogram_freq=0)\n",
    "vgg16_history_callback = History()\n",
    "\n",
    "Step_size_train = train_generator.n // train_generator.batch_size\n",
    "Step_size_valid = validation_generator.n // validation_generator.batch_size\n",
    "Step_size_test = test_generator.n // test_generator.batch_size\n",
    "print(Step_size_train, Step_size_valid)\n",
    "vgg_history = VGG.fit_generator(\n",
    "    generator=train_generator,\n",
    "    validation_data=validation_generator,\n",
    "    epochs=EPOCH,\n",
    "    callbacks=[vgg16_history_callback, vgg16_checkpoint, vgg16_tensorboard, early],\n",
    "    steps_per_epoch=Step_size_train,\n",
    "    validation_steps=Step_size_valid\n",
    ")\n"
   ],
   "metadata": {
    "collapsed": false,
    "pycharm": {
     "name": "#%%\n"
    }
   }
  },
  {
   "cell_type": "code",
   "execution_count": 28,
   "outputs": [
    {
     "data": {
      "text/plain": "<matplotlib.legend.Legend at 0x7f7c283a9110>"
     },
     "execution_count": 28,
     "metadata": {},
     "output_type": "execute_result"
    },
    {
     "data": {
      "text/plain": "<Figure size 432x288 with 1 Axes>",
      "image/png": "[encoded data removed]"
     },
     "metadata": {
      "needs_background": "light"
     },
     "output_type": "display_data"
    }
   ],
   "source": [
    "plt.plot(vgg16_history_callback.history[\"acc\"])\n",
    "plt.plot(vgg16_history_callback.history['val_acc'])\n",
    "plt.legend(['accuracy', 'validation accuracy'])"
   ],
   "metadata": {
    "collapsed": false,
    "pycharm": {
     "name": "#%%\n"
    }
   }
  },
  {
   "cell_type": "code",
   "execution_count": 29,
   "outputs": [
    {
     "data": {
      "text/plain": "<matplotlib.legend.Legend at 0x7f7c28314c10>"
     },
     "execution_count": 29,
     "metadata": {},
     "output_type": "execute_result"
    },
    {
     "data": {
      "text/plain": "<Figure size 432x288 with 1 Axes>",
      "image/png": "[encoded data removed]"
     },
     "metadata": {
      "needs_background": "light"
     },
     "output_type": "display_data"
    }
   ],
   "source": [
    "plt.plot(vgg16_history_callback.history[\"loss\"])\n",
    "plt.plot(vgg16_history_callback.history['val_loss'])\n",
    "plt.legend(['accuracy', 'validation accuracy'])"
   ],
   "metadata": {
    "collapsed": false,
    "pycharm": {
     "name": "#%%\n"
    }
   }
  },
  {
   "cell_type": "code",
   "execution_count": 30,
   "outputs": [
    {
     "name": "stdout",
     "output_type": "stream",
     "text": [
      "777/777 [==============================] - 38s 49ms/step\n"
     ]
    }
   ],
   "source": [
    "score, acc = VGG.evaluate_generator(generator=validation_generator,\n",
    "                       steps=Step_size_valid)\n",
    "test_generator.reset()\n",
    "\n",
    "pred = VGG.predict_generator(generator=test_generator,\n",
    "                             steps=Step_size_test,\n",
    "                             verbose=1)\n",
    "predicted_class_indces = np.argmax(pred, axis=1)"
   ],
   "metadata": {
    "collapsed": false,
    "pycharm": {
     "name": "#%%\n"
    }
   }
  },
  {
   "cell_type": "code",
   "execution_count": 31,
   "outputs": [],
   "source": [
    "labels = train_generator.class_indices\n",
    "labels = dict((v, k) for k, v in labels.items())\n",
    "predictions = [labels[k] for k in predicted_class_indces]"
   ],
   "metadata": {
    "collapsed": false,
    "pycharm": {
     "name": "#%%\n"
    }
   }
  },
  {
   "cell_type": "code",
   "execution_count": 32,
   "outputs": [],
   "source": [
    "filenames = test_generator.filenames\n",
    "results = pd.DataFrame({\"Filename\": filenames,\n",
    "                        \"Predictions\": predictions})\n",
    "results.to_csv(\"results.csv\", index=False)"
   ],
   "metadata": {
    "collapsed": false,
    "pycharm": {
     "name": "#%%\n"
    }
   }
  },
  {
   "cell_type": "code",
   "execution_count": 33,
   "outputs": [
    {
     "name": "stdout",
     "output_type": "stream",
     "text": [
      "Test score  1.7339163470268248\n",
      "Test acc 0.496875\n"
     ]
    },
    {
     "data": {
      "text/plain": "                                      Filename             Predictions\n0                  Abyssinian/Abyssinian_1.jpg            Russian_Blue\n1                 Abyssinian/Abyssinian_10.jpg              Abyssinian\n2                 Abyssinian/Abyssinian_11.jpg              Abyssinian\n3                 Abyssinian/Abyssinian_12.jpg            Russian_Blue\n4                 Abyssinian/Abyssinian_13.jpg            Russian_Blue\n..                                         ...                     ...\n772  yorkshire_terrier/yorkshire_terrier_4.jpg       yorkshire_terrier\n773  yorkshire_terrier/yorkshire_terrier_5.jpg  english_cocker_spaniel\n774  yorkshire_terrier/yorkshire_terrier_6.jpg       yorkshire_terrier\n775  yorkshire_terrier/yorkshire_terrier_7.jpg        scottish_terrier\n776  yorkshire_terrier/yorkshire_terrier_9.jpg       yorkshire_terrier\n\n[777 rows x 2 columns]",
      "text/html": "<div>\n<style scoped>\n    .dataframe tbody tr th:only-of-type {\n        vertical-align: middle;\n    }\n\n    .dataframe tbody tr th {\n        vertical-align: top;\n    }\n\n    .dataframe thead th {\n        text-align: right;\n    }\n</style>\n<table border=\"1\" class=\"dataframe\">\n  <thead>\n    <tr style=\"text-align: right;\">\n      <th></th>\n      <th>Filename</th>\n      <th>Predictions</th>\n    </tr>\n  </thead>\n  <tbody>\n    <tr>\n      <th>0</th>\n      <td>Abyssinian/Abyssinian_1.jpg</td>\n      <td>Russian_Blue</td>\n    </tr>\n    <tr>\n      <th>1</th>\n      <td>Abyssinian/Abyssinian_10.jpg</td>\n      <td>Abyssinian</td>\n    </tr>\n    <tr>\n      <th>2</th>\n      <td>Abyssinian/Abyssinian_11.jpg</td>\n      <td>Abyssinian</td>\n    </tr>\n    <tr>\n      <th>3</th>\n      <td>Abyssinian/Abyssinian_12.jpg</td>\n      <td>Russian_Blue</td>\n    </tr>\n    <tr>\n      <th>4</th>\n      <td>Abyssinian/Abyssinian_13.jpg</td>\n      <td>Russian_Blue</td>\n    </tr>\n    <tr>\n      <th>...</th>\n      <td>...</td>\n      <td>...</td>\n    </tr>\n    <tr>\n      <th>772</th>\n      <td>yorkshire_terrier/yorkshire_terrier_4.jpg</td>\n      <td>yorkshire_terrier</td>\n    </tr>\n    <tr>\n      <th>773</th>\n      <td>yorkshire_terrier/yorkshire_terrier_5.jpg</td>\n      <td>english_cocker_spaniel</td>\n    </tr>\n    <tr>\n      <th>774</th>\n      <td>yorkshire_terrier/yorkshire_terrier_6.jpg</td>\n      <td>yorkshire_terrier</td>\n    </tr>\n    <tr>\n      <th>775</th>\n      <td>yorkshire_terrier/yorkshire_terrier_7.jpg</td>\n      <td>scottish_terrier</td>\n    </tr>\n    <tr>\n      <th>776</th>\n      <td>yorkshire_terrier/yorkshire_terrier_9.jpg</td>\n      <td>yorkshire_terrier</td>\n    </tr>\n  </tbody>\n</table>\n<p>777 rows × 2 columns</p>\n</div>"
     },
     "execution_count": 33,
     "metadata": {},
     "output_type": "execute_result"
    }
   ],
   "source": [
    "print(\"Test score \", score)\n",
    "print(\"Test acc\", acc)\n",
    "results"
   ],
   "metadata": {
    "collapsed": false,
    "pycharm": {
     "name": "#%%\n"
    }
   }
  },
  {
   "cell_type": "code",
   "execution_count": 33,
   "outputs": [],
   "source": [],
   "metadata": {
    "collapsed": false,
    "pycharm": {
     "name": "#%%\n"
    }
   }
  },
  {
   "cell_type": "code",
   "execution_count": 33,
   "outputs": [],
   "source": [],
   "metadata": {
    "collapsed": false,
    "pycharm": {
     "name": "#%%\n"
    }
   }
  }
 ],
 "metadata": {
  "kernelspec": {
   "display_name": "Python 3 (ipykernel)",
   "language": "python",
   "name": "python3"
  },
  "language_info": {
   "codemirror_mode": {
    "name": "ipython",
    "version": 3
   },
   "file_extension": ".py",
   "mimetype": "text/x-python",
   "name": "python",
   "nbconvert_exporter": "python",
   "pygments_lexer": "ipython3",
   "version": "3.7.13"
  }
 },
 "nbformat": 4,
 "nbformat_minor": 5
}