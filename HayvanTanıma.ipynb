{
 "cells": [
  {
   "cell_type": "code",
   "execution_count": 1,
   "id": "8f13370b",
   "metadata": {
    "pycharm": {
     "name": "#%%\n"
    }
   },
   "outputs": [],
   "source": [
    "#\"Hayvan Tanıma Git Repostory Oluşturuldu\""
   ]
  },
  {
   "cell_type": "code",
   "execution_count": 2,
   "id": "91a60425",
   "metadata": {
    "pycharm": {
     "name": "#%%\n"
    }
   },
   "outputs": [
    {
     "name": "stderr",
     "output_type": "stream",
     "text": [
      "/home/ufuk/anaconda3/envs/tensor/lib/python3.7/site-packages/tensorflow/python/framework/dtypes.py:516: FutureWarning: Passing (type, 1) or '1type' as a synonym of type is deprecated; in a future version of numpy, it will be understood as (type, (1,)) / '(1,)type'.\n",
      "  _np_qint8 = np.dtype([(\"qint8\", np.int8, 1)])\n",
      "/home/ufuk/anaconda3/envs/tensor/lib/python3.7/site-packages/tensorflow/python/framework/dtypes.py:517: FutureWarning: Passing (type, 1) or '1type' as a synonym of type is deprecated; in a future version of numpy, it will be understood as (type, (1,)) / '(1,)type'.\n",
      "  _np_quint8 = np.dtype([(\"quint8\", np.uint8, 1)])\n",
      "/home/ufuk/anaconda3/envs/tensor/lib/python3.7/site-packages/tensorflow/python/framework/dtypes.py:518: FutureWarning: Passing (type, 1) or '1type' as a synonym of type is deprecated; in a future version of numpy, it will be understood as (type, (1,)) / '(1,)type'.\n",
      "  _np_qint16 = np.dtype([(\"qint16\", np.int16, 1)])\n",
      "/home/ufuk/anaconda3/envs/tensor/lib/python3.7/site-packages/tensorflow/python/framework/dtypes.py:519: FutureWarning: Passing (type, 1) or '1type' as a synonym of type is deprecated; in a future version of numpy, it will be understood as (type, (1,)) / '(1,)type'.\n",
      "  _np_quint16 = np.dtype([(\"quint16\", np.uint16, 1)])\n",
      "/home/ufuk/anaconda3/envs/tensor/lib/python3.7/site-packages/tensorflow/python/framework/dtypes.py:520: FutureWarning: Passing (type, 1) or '1type' as a synonym of type is deprecated; in a future version of numpy, it will be understood as (type, (1,)) / '(1,)type'.\n",
      "  _np_qint32 = np.dtype([(\"qint32\", np.int32, 1)])\n",
      "/home/ufuk/anaconda3/envs/tensor/lib/python3.7/site-packages/tensorflow/python/framework/dtypes.py:525: FutureWarning: Passing (type, 1) or '1type' as a synonym of type is deprecated; in a future version of numpy, it will be understood as (type, (1,)) / '(1,)type'.\n",
      "  np_resource = np.dtype([(\"resource\", np.ubyte, 1)])\n",
      "/home/ufuk/anaconda3/envs/tensor/lib/python3.7/site-packages/tensorboard/compat/tensorflow_stub/dtypes.py:541: FutureWarning: Passing (type, 1) or '1type' as a synonym of type is deprecated; in a future version of numpy, it will be understood as (type, (1,)) / '(1,)type'.\n",
      "  _np_qint8 = np.dtype([(\"qint8\", np.int8, 1)])\n",
      "/home/ufuk/anaconda3/envs/tensor/lib/python3.7/site-packages/tensorboard/compat/tensorflow_stub/dtypes.py:542: FutureWarning: Passing (type, 1) or '1type' as a synonym of type is deprecated; in a future version of numpy, it will be understood as (type, (1,)) / '(1,)type'.\n",
      "  _np_quint8 = np.dtype([(\"quint8\", np.uint8, 1)])\n",
      "/home/ufuk/anaconda3/envs/tensor/lib/python3.7/site-packages/tensorboard/compat/tensorflow_stub/dtypes.py:543: FutureWarning: Passing (type, 1) or '1type' as a synonym of type is deprecated; in a future version of numpy, it will be understood as (type, (1,)) / '(1,)type'.\n",
      "  _np_qint16 = np.dtype([(\"qint16\", np.int16, 1)])\n",
      "/home/ufuk/anaconda3/envs/tensor/lib/python3.7/site-packages/tensorboard/compat/tensorflow_stub/dtypes.py:544: FutureWarning: Passing (type, 1) or '1type' as a synonym of type is deprecated; in a future version of numpy, it will be understood as (type, (1,)) / '(1,)type'.\n",
      "  _np_quint16 = np.dtype([(\"quint16\", np.uint16, 1)])\n",
      "/home/ufuk/anaconda3/envs/tensor/lib/python3.7/site-packages/tensorboard/compat/tensorflow_stub/dtypes.py:545: FutureWarning: Passing (type, 1) or '1type' as a synonym of type is deprecated; in a future version of numpy, it will be understood as (type, (1,)) / '(1,)type'.\n",
      "  _np_qint32 = np.dtype([(\"qint32\", np.int32, 1)])\n",
      "/home/ufuk/anaconda3/envs/tensor/lib/python3.7/site-packages/tensorboard/compat/tensorflow_stub/dtypes.py:550: FutureWarning: Passing (type, 1) or '1type' as a synonym of type is deprecated; in a future version of numpy, it will be understood as (type, (1,)) / '(1,)type'.\n",
      "  np_resource = np.dtype([(\"resource\", np.ubyte, 1)])\n"
     ]
    }
   ],
   "source": [
    "import os\n",
    "from tensorflow.python.keras.optimizers import SGD\n",
    "\n",
    "import matplotlib.pyplot as plt\n",
    "from tensorflow import keras\n",
    "from tensorflow.keras.models import Model, Sequential\n",
    "from tensorflow.keras.layers import Dense, Flatten, Conv2D, MaxPool2D, Dropout\n",
    "from tensorflow.keras.applications.vgg16 import VGG16, preprocess_input\n",
    "from tensorflow.keras.preprocessing.image import ImageDataGenerator\n",
    "from tensorflow.keras.callbacks import ModelCheckpoint, EarlyStopping, TensorBoard, History\n",
    "import tensorflow as tf\n",
    "from time import time\n",
    "import numpy as np\n",
    "import pandas as pd\n",
    "\n",
    "os.environ[\"TF_CPP_MIN_LOG_LEVEL\"] = \"2\"  # UYARILARI KAPATMA\n"
   ]
  },
  {
   "cell_type": "code",
   "execution_count": 3,
   "outputs": [
    {
     "name": "stdout",
     "output_type": "stream",
     "text": [
      "Found 4987 images belonging to 37 classes.\n",
      "Found 1626 images belonging to 37 classes.\n",
      "Found 777 images belonging to 37 classes.\n"
     ]
    }
   ],
   "source": [
    "#print(os.listdir(\"./images/train\"))\n",
    "SIZE = 224\n",
    "EPOCH = 50\n",
    "BATCH = 32\n",
    "train_directory = \"images/train/\"\n",
    "valid_directory = \"images/valid/\"\n",
    "test_directory = \"images/test/\"\n",
    "\n",
    "data_aug = ImageDataGenerator(rotation_range=40,\n",
    "                              width_shift_range=0.2,\n",
    "                              height_shift_range=0.2,\n",
    "                              shear_range=0.2,\n",
    "                              rescale=1. / 255,\n",
    "                              zoom_range=0.2,\n",
    "                              horizontal_flip=True,\n",
    "                              fill_mode=\"nearest\",\n",
    "                              validation_split=0.25\n",
    "                              )\n",
    "test_aug = ImageDataGenerator(rescale = 1./255)\n",
    "#Max batch size= available GPU memory bytes / 4 / (size of tensors + trainable parameters)\n",
    "train_generator = data_aug.flow_from_directory(directory=train_directory,\n",
    "                                               batch_size=BATCH,\n",
    "                                               shuffle=True,\n",
    "                                               class_mode=\"categorical\",\n",
    "                                               color_mode=\"rgb\",\n",
    "                                               target_size=(SIZE, SIZE),\n",
    "                                               interpolation=\"nearest\",\n",
    "                                               subset=\"training\",\n",
    "                                               seed=42\n",
    "                                               )\n",
    "validation_generator = data_aug.flow_from_directory(directory=train_directory,\n",
    "                                                    batch_size=BATCH,\n",
    "                                                    shuffle=True,\n",
    "                                                    class_mode=\"categorical\",\n",
    "                                                    color_mode=\"rgb\",\n",
    "                                                    target_size=(SIZE, SIZE),\n",
    "                                                    interpolation=\"nearest\",\n",
    "                                                    subset=\"validation\",\n",
    "                                                    seed=42\n",
    "                                                    )\n",
    "test_generator = test_aug.flow_from_directory(directory=test_directory,\n",
    "                                              batch_size=1,\n",
    "                                              shuffle=False,\n",
    "                                              class_mode=\"categorical\",\n",
    "                                              target_size=(SIZE, SIZE)\n",
    "                                              )\n",
    "\n",
    "\n"
   ],
   "metadata": {
    "collapsed": false,
    "pycharm": {
     "name": "#%%\n"
    }
   }
  },
  {
   "cell_type": "code",
   "execution_count": 4,
   "outputs": [
    {
     "name": "stdout",
     "output_type": "stream",
     "text": [
      "{'Abyssinian': 0, 'Bengal': 1, 'Birman': 2, 'Bombay': 3, 'British_Shorthair': 4, 'Egyptian_Mau': 5, 'Maine_Coon': 6, 'Persian': 7, 'Ragdoll': 8, 'Russian_Blue': 9, 'Siamese': 10, 'Sphynx': 11, 'american_bulldog': 12, 'american_pit_bull_terrier': 13, 'basset_hound': 14, 'beagle': 15, 'boxer': 16, 'chihuahua': 17, 'english_cocker_spaniel': 18, 'english_setter': 19, 'german_shorthaired': 20, 'great_pyrenees': 21, 'havanese': 22, 'japanese_chin': 23, 'keeshond': 24, 'leonberger': 25, 'miniature_pinscher': 26, 'newfoundland': 27, 'pomeranian': 28, 'pug': 29, 'saint_bernard': 30, 'samoyed': 31, 'scottish_terrier': 32, 'shiba_inu': 33, 'staffordshire_bull_terrier': 34, 'wheaten_terrier': 35, 'yorkshire_terrier': 36}\n"
     ]
    }
   ],
   "source": [
    "print(train_generator.class_indices)"
   ],
   "metadata": {
    "collapsed": false,
    "pycharm": {
     "name": "#%%\n"
    }
   }
  },
  {
   "cell_type": "code",
   "execution_count": 5,
   "outputs": [],
   "source": [
    "tf.keras.backend.clear_session()"
   ],
   "metadata": {
    "collapsed": false,
    "pycharm": {
     "name": "#%%\n"
    }
   }
  },
  {
   "cell_type": "code",
   "execution_count": 6,
   "outputs": [
    {
     "name": "stdout",
     "output_type": "stream",
     "text": [
      "WARNING:tensorflow:From /home/ufuk/anaconda3/envs/tensor/lib/python3.7/site-packages/tensorflow/python/ops/init_ops.py:1251: calling VarianceScaling.__init__ (from tensorflow.python.ops.init_ops) with dtype is deprecated and will be removed in a future version.\n",
      "Instructions for updating:\n",
      "Call initializer instance with the dtype argument instead of passing it to the constructor\n",
      "Model: \"sequential\"\n",
      "_________________________________________________________________\n",
      "Layer (type)                 Output Shape              Param #   \n",
      "=================================================================\n",
      "vgg16 (Model)                (None, 512)               14714688  \n",
      "_________________________________________________________________\n",
      "flatten (Flatten)            (None, 512)               0         \n",
      "_________________________________________________________________\n",
      "dense (Dense)                (None, 4096)              2101248   \n",
      "_________________________________________________________________\n",
      "dropout (Dropout)            (None, 4096)              0         \n",
      "_________________________________________________________________\n",
      "dense_1 (Dense)              (None, 1024)              4195328   \n",
      "_________________________________________________________________\n",
      "dropout_1 (Dropout)          (None, 1024)              0         \n",
      "_________________________________________________________________\n",
      "dense_2 (Dense)              (None, 37)                37925     \n",
      "_________________________________________________________________\n",
      "dropout_2 (Dropout)          (None, 37)                0         \n",
      "=================================================================\n",
      "Total params: 21,049,189\n",
      "Trainable params: 6,334,501\n",
      "Non-trainable params: 14,714,688\n",
      "_________________________________________________________________\n",
      "0 input_1 False\n",
      "1 block1_conv1 False\n",
      "2 block1_conv2 False\n",
      "3 block1_pool False\n",
      "4 block2_conv1 False\n",
      "5 block2_conv2 False\n",
      "6 block2_pool False\n",
      "7 block3_conv1 False\n",
      "8 block3_conv2 False\n",
      "9 block3_conv3 False\n",
      "10 block3_pool False\n",
      "11 block4_conv1 False\n",
      "12 block4_conv2 False\n",
      "13 block4_conv3 False\n",
      "14 block4_pool False\n",
      "15 block5_conv1 False\n",
      "16 block5_conv2 False\n",
      "17 block5_conv3 False\n",
      "18 block5_pool False\n",
      "19 global_average_pooling2d False\n"
     ]
    }
   ],
   "source": [
    "\n",
    "vgg16_model = VGG16(pooling=\"avg\", input_shape=(224, 224, 3), weights=\"imagenet\", include_top=False)\n",
    "for layer in vgg16_model.layers:\n",
    "    layer.trainable = False\n",
    "VGG = tf.keras.Sequential([\n",
    "    vgg16_model,\n",
    "    Flatten(),\n",
    "    Dense(units=4096, activation=\"relu\"),\n",
    "    Dropout(0.1),\n",
    "    Dense(units=1024, activation=\"relu\"),\n",
    "    Dropout(0.1),\n",
    "    Dense(units=37, activation=\"softmax\"),\n",
    "    Dropout(0.1)\n",
    "])\n",
    "opt = SGD(lr=0.01, momentum=0.9, decay=0.01)\n",
    "\n",
    "VGG.compile(loss=\"categorical_crossentropy\", optimizer=\"adam\",\n",
    "            metrics=[\"acc\"])\n",
    "\n",
    "VGG.summary()\n",
    "for i, layer in enumerate(vgg16_model.layers):\n",
    "    print(i, layer.name, layer.trainable)"
   ],
   "metadata": {
    "collapsed": false,
    "pycharm": {
     "name": "#%%\n"
    }
   }
  },
  {
   "cell_type": "code",
   "execution_count": 7,
   "outputs": [
    {
     "name": "stdout",
     "output_type": "stream",
     "text": [
      "155 50\n",
      "Epoch 1/50\n",
      "WARNING:tensorflow:From /home/ufuk/anaconda3/envs/tensor/lib/python3.7/site-packages/tensorflow/python/ops/math_grad.py:1250: add_dispatch_support.<locals>.wrapper (from tensorflow.python.ops.array_ops) is deprecated and will be removed in a future version.\n",
      "Instructions for updating:\n",
      "Use tf.where in 2.0, which has the same broadcast rule as np.where\n",
      "  2/155 [..............................] - ETA: 12:12 - loss: 5.6088 - acc: 0.0469"
     ]
    },
    {
     "name": "stderr",
     "output_type": "stream",
     "text": [
      "2022-05-01 22:38:34.940302: E tensorflow/core/platform/default/device_tracer.cc:68] CUPTI error: CUPTI_ERROR_INVALID_PARAMETER\n"
     ]
    },
    {
     "name": "stdout",
     "output_type": "stream",
     "text": [
      "154/155 [============================>.] - ETA: 0s - loss: 4.5377 - acc: 0.0707\n",
      "Epoch 00001: val_acc improved from -inf to 0.14750, saving model to vgg_16_-saved-model-01-acc-0.15.hdf5\n",
      "155/155 [==============================] - 129s 831ms/step - loss: 4.5372 - acc: 0.0712 - val_loss: 2.9202 - val_acc: 0.1475\n",
      "Epoch 2/50\n",
      "154/155 [============================>.] - ETA: 0s - loss: 3.9564 - acc: 0.1759\n",
      "Epoch 00002: val_acc improved from 0.14750 to 0.25250, saving model to vgg_16_-saved-model-02-acc-0.25.hdf5\n",
      "155/155 [==============================] - 119s 765ms/step - loss: 3.9563 - acc: 0.1760 - val_loss: 2.4565 - val_acc: 0.2525\n",
      "Epoch 3/50\n",
      "154/155 [============================>.] - ETA: 0s - loss: 3.6120 - acc: 0.2689\n",
      "Epoch 00003: val_acc improved from 0.25250 to 0.31250, saving model to vgg_16_-saved-model-03-acc-0.31.hdf5\n",
      "155/155 [==============================] - 122s 786ms/step - loss: 3.6114 - acc: 0.2692 - val_loss: 2.2288 - val_acc: 0.3125\n",
      "Epoch 4/50\n",
      "154/155 [============================>.] - ETA: 0s - loss: 3.4142 - acc: 0.3283\n",
      "Epoch 00004: val_acc improved from 0.31250 to 0.36375, saving model to vgg_16_-saved-model-04-acc-0.36.hdf5\n",
      "155/155 [==============================] - 118s 762ms/step - loss: 3.4210 - acc: 0.3282 - val_loss: 2.1213 - val_acc: 0.3638\n",
      "Epoch 5/50\n",
      "154/155 [============================>.] - ETA: 0s - loss: 3.4229 - acc: 0.3492\n",
      "Epoch 00005: val_acc improved from 0.36375 to 0.36437, saving model to vgg_16_-saved-model-05-acc-0.36.hdf5\n",
      "155/155 [==============================] - 114s 736ms/step - loss: 3.4165 - acc: 0.3499 - val_loss: 2.0506 - val_acc: 0.3644\n",
      "Epoch 6/50\n",
      "154/155 [============================>.] - ETA: 0s - loss: 3.4063 - acc: 0.3758\n",
      "Epoch 00006: val_acc improved from 0.36437 to 0.38750, saving model to vgg_16_-saved-model-06-acc-0.39.hdf5\n",
      "155/155 [==============================] - 119s 767ms/step - loss: 3.4028 - acc: 0.3756 - val_loss: 2.0050 - val_acc: 0.3875\n",
      "Epoch 7/50\n",
      "154/155 [============================>.] - ETA: 0s - loss: 3.2316 - acc: 0.4020\n",
      "Epoch 00007: val_acc improved from 0.38750 to 0.40750, saving model to vgg_16_-saved-model-07-acc-0.41.hdf5\n",
      "155/155 [==============================] - 118s 760ms/step - loss: 3.2348 - acc: 0.4016 - val_loss: 1.9334 - val_acc: 0.4075\n",
      "Epoch 8/50\n",
      "154/155 [============================>.] - ETA: 0s - loss: 3.2325 - acc: 0.4042\n",
      "Epoch 00008: val_acc improved from 0.40750 to 0.41438, saving model to vgg_16_-saved-model-08-acc-0.41.hdf5\n",
      "155/155 [==============================] - 120s 772ms/step - loss: 3.2257 - acc: 0.4046 - val_loss: 1.8820 - val_acc: 0.4144\n",
      "Epoch 9/50\n",
      "154/155 [============================>.] - ETA: 0s - loss: 3.0667 - acc: 0.4294\n",
      "Epoch 00009: val_acc did not improve from 0.41438\n",
      "155/155 [==============================] - 120s 775ms/step - loss: 3.0683 - acc: 0.4295 - val_loss: 1.8899 - val_acc: 0.4144\n",
      "Epoch 10/50\n",
      "154/155 [============================>.] - ETA: 0s - loss: 3.0895 - acc: 0.4544\n",
      "Epoch 00010: val_acc improved from 0.41438 to 0.43875, saving model to vgg_16_-saved-model-10-acc-0.44.hdf5\n",
      "155/155 [==============================] - 119s 765ms/step - loss: 3.0932 - acc: 0.4541 - val_loss: 1.8261 - val_acc: 0.4387\n",
      "Epoch 11/50\n",
      "154/155 [============================>.] - ETA: 0s - loss: 3.0223 - acc: 0.4615\n",
      "Epoch 00011: val_acc improved from 0.43875 to 0.43938, saving model to vgg_16_-saved-model-11-acc-0.44.hdf5\n",
      "155/155 [==============================] - 131s 846ms/step - loss: 3.0204 - acc: 0.4620 - val_loss: 1.8030 - val_acc: 0.4394\n",
      "Epoch 12/50\n",
      "154/155 [============================>.] - ETA: 0s - loss: 3.1525 - acc: 0.4434\n",
      "Epoch 00012: val_acc improved from 0.43938 to 0.46562, saving model to vgg_16_-saved-model-12-acc-0.47.hdf5\n",
      "155/155 [==============================] - 118s 761ms/step - loss: 3.1589 - acc: 0.4432 - val_loss: 1.7201 - val_acc: 0.4656\n",
      "Epoch 13/50\n",
      "154/155 [============================>.] - ETA: 0s - loss: 2.8519 - acc: 0.4688\n",
      "Epoch 00013: val_acc improved from 0.46562 to 0.47438, saving model to vgg_16_-saved-model-13-acc-0.47.hdf5\n",
      "155/155 [==============================] - 134s 862ms/step - loss: 2.8510 - acc: 0.4684 - val_loss: 1.7347 - val_acc: 0.4744\n",
      "Epoch 14/50\n",
      "154/155 [============================>.] - ETA: 0s - loss: 2.8163 - acc: 0.4662\n",
      "Epoch 00014: val_acc did not improve from 0.47438\n",
      "155/155 [==============================] - 132s 851ms/step - loss: 2.8189 - acc: 0.4670 - val_loss: 1.8143 - val_acc: 0.4494\n",
      "Epoch 15/50\n",
      "154/155 [============================>.] - ETA: 0s - loss: 2.9226 - acc: 0.4875\n",
      "Epoch 00015: val_acc did not improve from 0.47438\n",
      "155/155 [==============================] - 133s 861ms/step - loss: 2.9276 - acc: 0.4874 - val_loss: 1.7158 - val_acc: 0.4694\n",
      "Epoch 16/50\n",
      "154/155 [============================>.] - ETA: 0s - loss: 2.9548 - acc: 0.4893\n",
      "Epoch 00016: val_acc did not improve from 0.47438\n",
      "155/155 [==============================] - 129s 835ms/step - loss: 2.9496 - acc: 0.4894 - val_loss: 1.7927 - val_acc: 0.4525\n",
      "Epoch 17/50\n",
      "154/155 [============================>.] - ETA: 0s - loss: 2.8992 - acc: 0.4973\n",
      "Epoch 00017: val_acc improved from 0.47438 to 0.48125, saving model to vgg_16_-saved-model-17-acc-0.48.hdf5\n",
      "155/155 [==============================] - 136s 880ms/step - loss: 2.8969 - acc: 0.4973 - val_loss: 1.7201 - val_acc: 0.4812\n",
      "Epoch 18/50\n",
      "154/155 [============================>.] - ETA: 0s - loss: 2.9934 - acc: 0.4928\n",
      "Epoch 00018: val_acc did not improve from 0.48125\n",
      "155/155 [==============================] - 138s 892ms/step - loss: 2.9907 - acc: 0.4932 - val_loss: 1.7420 - val_acc: 0.4700\n",
      "Epoch 19/50\n",
      "154/155 [============================>.] - ETA: 0s - loss: 2.8352 - acc: 0.5170\n",
      "Epoch 00019: val_acc did not improve from 0.48125\n",
      "155/155 [==============================] - 140s 904ms/step - loss: 2.8403 - acc: 0.5164 - val_loss: 1.7482 - val_acc: 0.4787\n",
      "Epoch 20/50\n",
      "154/155 [============================>.] - ETA: 0s - loss: 2.7889 - acc: 0.5099\n",
      "Epoch 00020: val_acc did not improve from 0.48125\n",
      "155/155 [==============================] - 123s 791ms/step - loss: 2.7856 - acc: 0.5097 - val_loss: 1.7518 - val_acc: 0.4800\n",
      "Epoch 21/50\n",
      "154/155 [============================>.] - ETA: 0s - loss: 2.7034 - acc: 0.5159\n",
      "Epoch 00021: val_acc did not improve from 0.48125\n",
      "155/155 [==============================] - 119s 767ms/step - loss: 2.7053 - acc: 0.5166 - val_loss: 1.6710 - val_acc: 0.4806\n",
      "Epoch 22/50\n",
      "154/155 [============================>.] - ETA: 0s - loss: 2.8762 - acc: 0.5267\n",
      "Epoch 00022: val_acc improved from 0.48125 to 0.49375, saving model to vgg_16_-saved-model-22-acc-0.49.hdf5\n",
      "155/155 [==============================] - 117s 753ms/step - loss: 2.8653 - acc: 0.5271 - val_loss: 1.6745 - val_acc: 0.4938\n",
      "Epoch 23/50\n",
      "154/155 [============================>.] - ETA: 0s - loss: 2.7385 - acc: 0.5395\n",
      "Epoch 00023: val_acc improved from 0.49375 to 0.49437, saving model to vgg_16_-saved-model-23-acc-0.49.hdf5\n",
      "155/155 [==============================] - 115s 742ms/step - loss: 2.7386 - acc: 0.5397 - val_loss: 1.6689 - val_acc: 0.4944\n",
      "Epoch 24/50\n",
      "154/155 [============================>.] - ETA: 0s - loss: 2.6988 - acc: 0.5403\n",
      "Epoch 00024: val_acc improved from 0.49437 to 0.52500, saving model to vgg_16_-saved-model-24-acc-0.52.hdf5\n",
      "155/155 [==============================] - 121s 781ms/step - loss: 2.6964 - acc: 0.5415 - val_loss: 1.6083 - val_acc: 0.5250\n",
      "Epoch 25/50\n",
      "154/155 [============================>.] - ETA: 0s - loss: 2.7138 - acc: 0.5361\n",
      "Epoch 00025: val_acc did not improve from 0.52500\n",
      "155/155 [==============================] - 118s 761ms/step - loss: 2.7062 - acc: 0.5364 - val_loss: 1.6442 - val_acc: 0.5038\n",
      "Epoch 26/50\n",
      "154/155 [============================>.] - ETA: 0s - loss: 2.6987 - acc: 0.5411\n",
      "Epoch 00026: val_acc did not improve from 0.52500\n",
      "155/155 [==============================] - 118s 760ms/step - loss: 2.6987 - acc: 0.5405 - val_loss: 1.6691 - val_acc: 0.5031\n",
      "Epoch 27/50\n",
      "154/155 [============================>.] - ETA: 0s - loss: 2.7490 - acc: 0.5493\n",
      "Epoch 00027: val_acc did not improve from 0.52500\n",
      "155/155 [==============================] - 115s 739ms/step - loss: 2.7497 - acc: 0.5499 - val_loss: 1.7548 - val_acc: 0.4800\n",
      "Epoch 28/50\n",
      "154/155 [============================>.] - ETA: 0s - loss: 2.7058 - acc: 0.5535\n",
      "Epoch 00028: val_acc did not improve from 0.52500\n",
      "155/155 [==============================] - 125s 809ms/step - loss: 2.7143 - acc: 0.5534 - val_loss: 1.7132 - val_acc: 0.4869\n",
      "Epoch 29/50\n",
      "154/155 [============================>.] - ETA: 0s - loss: 2.6552 - acc: 0.5576\n",
      "Epoch 00029: val_acc did not improve from 0.52500\n",
      "155/155 [==============================] - 119s 767ms/step - loss: 2.6583 - acc: 0.5572 - val_loss: 1.6952 - val_acc: 0.4944\n",
      "Epoch 30/50\n",
      "154/155 [============================>.] - ETA: 0s - loss: 2.6517 - acc: 0.5448\n",
      "Epoch 00030: val_acc did not improve from 0.52500\n",
      "155/155 [==============================] - 120s 774ms/step - loss: 2.6564 - acc: 0.5453 - val_loss: 1.7722 - val_acc: 0.4800\n",
      "Epoch 31/50\n",
      "154/155 [============================>.] - ETA: 0s - loss: 2.6141 - acc: 0.5688\n",
      "Epoch 00031: val_acc did not improve from 0.52500\n",
      "155/155 [==============================] - 120s 774ms/step - loss: 2.6159 - acc: 0.5679 - val_loss: 1.7430 - val_acc: 0.4731\n",
      "Epoch 32/50\n",
      "154/155 [============================>.] - ETA: 0s - loss: 2.6496 - acc: 0.5622\n",
      "Epoch 00032: val_acc did not improve from 0.52500\n",
      "155/155 [==============================] - 122s 784ms/step - loss: 2.6430 - acc: 0.5628 - val_loss: 1.7571 - val_acc: 0.4769\n",
      "Epoch 33/50\n",
      "154/155 [============================>.] - ETA: 0s - loss: 2.5110 - acc: 0.5826\n",
      "Epoch 00033: val_acc did not improve from 0.52500\n",
      "155/155 [==============================] - 119s 765ms/step - loss: 2.5231 - acc: 0.5820 - val_loss: 1.6767 - val_acc: 0.4981\n",
      "Epoch 34/50\n",
      "154/155 [============================>.] - ETA: 0s - loss: 2.7087 - acc: 0.5724\n",
      "Epoch 00034: val_acc did not improve from 0.52500\n",
      "155/155 [==============================] - 121s 778ms/step - loss: 2.7053 - acc: 0.5728 - val_loss: 1.6499 - val_acc: 0.5138\n",
      "Epoch 35/50\n",
      "154/155 [============================>.] - ETA: 0s - loss: 2.6624 - acc: 0.5688\n",
      "Epoch 00035: val_acc did not improve from 0.52500\n",
      "155/155 [==============================] - 143s 923ms/step - loss: 2.6521 - acc: 0.5689 - val_loss: 1.6522 - val_acc: 0.5131\n",
      "Epoch 36/50\n",
      "154/155 [============================>.] - ETA: 0s - loss: 2.5156 - acc: 0.5814\n",
      "Epoch 00036: val_acc did not improve from 0.52500\n",
      "155/155 [==============================] - 128s 827ms/step - loss: 2.5216 - acc: 0.5814 - val_loss: 1.7389 - val_acc: 0.4975\n",
      "Epoch 37/50\n",
      "154/155 [============================>.] - ETA: 0s - loss: 2.5722 - acc: 0.5893\n",
      "Epoch 00037: val_acc did not improve from 0.52500\n",
      "155/155 [==============================] - 131s 845ms/step - loss: 2.5732 - acc: 0.5901 - val_loss: 1.7048 - val_acc: 0.4969\n",
      "Epoch 38/50\n",
      "154/155 [============================>.] - ETA: 0s - loss: 2.5247 - acc: 0.5929\n",
      "Epoch 00038: val_acc did not improve from 0.52500\n",
      "155/155 [==============================] - 138s 889ms/step - loss: 2.5157 - acc: 0.5937 - val_loss: 1.6811 - val_acc: 0.4963\n",
      "Epoch 39/50\n",
      "154/155 [============================>.] - ETA: 0s - loss: 2.5613 - acc: 0.5929\n",
      "Epoch 00039: val_acc did not improve from 0.52500\n",
      "155/155 [==============================] - 139s 895ms/step - loss: 2.5774 - acc: 0.5921 - val_loss: 1.6949 - val_acc: 0.5044\n",
      "Epoch 40/50\n",
      "154/155 [============================>.] - ETA: 0s - loss: 2.4613 - acc: 0.6033\n",
      "Epoch 00040: val_acc did not improve from 0.52500\n",
      "155/155 [==============================] - 138s 890ms/step - loss: 2.4657 - acc: 0.6024 - val_loss: 1.7147 - val_acc: 0.4931\n",
      "Epoch 41/50\n",
      "154/155 [============================>.] - ETA: 0s - loss: 2.5009 - acc: 0.6072\n",
      "Epoch 00041: val_acc did not improve from 0.52500\n",
      "155/155 [==============================] - 138s 889ms/step - loss: 2.5019 - acc: 0.6069 - val_loss: 1.7430 - val_acc: 0.4919\n",
      "Epoch 42/50\n",
      "154/155 [============================>.] - ETA: 0s - loss: 2.4505 - acc: 0.6110\n",
      "Epoch 00042: val_acc did not improve from 0.52500\n",
      "155/155 [==============================] - 138s 891ms/step - loss: 2.4541 - acc: 0.6107 - val_loss: 1.7343 - val_acc: 0.5025\n",
      "Epoch 43/50\n",
      "154/155 [============================>.] - ETA: 0s - loss: 2.6896 - acc: 0.5899\n",
      "Epoch 00043: val_acc did not improve from 0.52500\n",
      "155/155 [==============================] - 139s 896ms/step - loss: 2.6924 - acc: 0.5905 - val_loss: 1.7160 - val_acc: 0.5081\n",
      "Epoch 44/50\n",
      "154/155 [============================>.] - ETA: 0s - loss: 2.6540 - acc: 0.6035\n",
      "Epoch 00044: val_acc did not improve from 0.52500\n",
      "155/155 [==============================] - 138s 887ms/step - loss: 2.6565 - acc: 0.6040 - val_loss: 1.7119 - val_acc: 0.5125\n",
      "Epoch 00044: early stopping\n"
     ]
    }
   ],
   "source": [
    "\n",
    "vgg16_filepath = 'vgg_16_' + '-saved-model-{epoch:02d}-acc-{val_acc:.2f}.hdf5'\n",
    "vgg16_checkpoint = ModelCheckpoint(filepath=vgg16_filepath,\n",
    "                                   save_best_only=True,\n",
    "                                   monitor=\"val_acc\",\n",
    "                                   mode=\"max\",\n",
    "                                   verbose=1\n",
    "                                   )\n",
    "early = EarlyStopping(monitor='val_acc', min_delta=0, patience=20, verbose=1, mode='auto')\n",
    "\n",
    "vgg16_tensorboard = TensorBoard(log_dir=\"logs/{}\".format(time()),\n",
    "                                write_graph=True,\n",
    "                                write_images=True,\n",
    "                                histogram_freq=0)\n",
    "vgg16_history_callback = History()\n",
    "\n",
    "Step_size_train = train_generator.n // train_generator.batch_size\n",
    "Step_size_valid = validation_generator.n // validation_generator.batch_size\n",
    "Step_size_test = test_generator.n // test_generator.batch_size\n",
    "print(Step_size_train, Step_size_valid)\n",
    "vgg_history = VGG.fit_generator(\n",
    "    generator=train_generator,\n",
    "    validation_data=validation_generator,\n",
    "    epochs=EPOCH,\n",
    "    callbacks=[vgg16_history_callback, vgg16_checkpoint, vgg16_tensorboard, early],\n",
    "    steps_per_epoch=Step_size_train,\n",
    "    validation_steps=Step_size_valid\n",
    ")\n"
   ],
   "metadata": {
    "collapsed": false,
    "pycharm": {
     "name": "#%%\n"
    }
   }
  },
  {
   "cell_type": "code",
   "execution_count": 8,
   "outputs": [
    {
     "data": {
      "text/plain": "<matplotlib.legend.Legend at 0x7f7c5b72e090>"
     },
     "execution_count": 8,
     "metadata": {},
     "output_type": "execute_result"
    },
    {
     "data": {
      "text/plain": "<Figure size 432x288 with 1 Axes>",
      "image/png": "[encoded data removed]"
     },
     "metadata": {
      "needs_background": "light"
     },
     "output_type": "display_data"
    }
   ],
   "source": [
    "plt.plot(vgg16_history_callback.history[\"acc\"])\n",
    "plt.plot(vgg16_history_callback.history['val_acc'])\n",
    "plt.legend(['accuracy', 'validation accuracy'])"
   ],
   "metadata": {
    "collapsed": false,
    "pycharm": {
     "name": "#%%\n"
    }
   }
  },
  {
   "cell_type": "code",
   "execution_count": 9,
   "outputs": [
    {
     "data": {
      "text/plain": "<matplotlib.legend.Legend at 0x7f7c3b788f90>"
     },
     "execution_count": 9,
     "metadata": {},
     "output_type": "execute_result"
    },
    {
     "data": {
      "text/plain": "<Figure size 432x288 with 1 Axes>",
      "image/png": "[encoded data removed]"
     },
     "metadata": {
      "needs_background": "light"
     },
     "output_type": "display_data"
    }
   ],
   "source": [
    "plt.plot(vgg16_history_callback.history[\"loss\"])\n",
    "plt.plot(vgg16_history_callback.history['val_loss'])\n",
    "plt.legend(['accuracy', 'validation accuracy'])"
   ],
   "metadata": {
    "collapsed": false,
    "pycharm": {
     "name": "#%%\n"
    }
   }
  },
  {
   "cell_type": "code",
   "execution_count": 10,
   "outputs": [
    {
     "name": "stdout",
     "output_type": "stream",
     "text": [
      "777/777 [==============================] - 41s 52ms/step\n"
     ]
    }
   ],
   "source": [
    "score, acc = VGG.evaluate_generator(generator=validation_generator,\n",
    "                       steps=Step_size_valid)\n",
    "test_generator.reset()\n",
    "\n",
    "pred = VGG.predict_generator(generator=test_generator,\n",
    "                             steps=Step_size_test,\n",
    "                             verbose=1)\n",
    "predicted_class_indces = np.argmax(pred, axis=1)"
   ],
   "metadata": {
    "collapsed": false,
    "pycharm": {
     "name": "#%%\n"
    }
   }
  },
  {
   "cell_type": "code",
   "execution_count": 11,
   "outputs": [],
   "source": [
    "labels = train_generator.class_indices\n",
    "labels = dict((v, k) for k, v in labels.items())\n",
    "predictions = [labels[k] for k in predicted_class_indces]"
   ],
   "metadata": {
    "collapsed": false,
    "pycharm": {
     "name": "#%%\n"
    }
   }
  },
  {
   "cell_type": "code",
   "execution_count": 12,
   "outputs": [],
   "source": [
    "filenames = test_generator.filenames\n",
    "results = pd.DataFrame({\"Filename\": filenames,\n",
    "                        \"Predictions\": predictions})\n",
    "results.to_csv(\"results.csv\", index=False)"
   ],
   "metadata": {
    "collapsed": false,
    "pycharm": {
     "name": "#%%\n"
    }
   }
  },
  {
   "cell_type": "code",
   "execution_count": 13,
   "outputs": [
    {
     "name": "stdout",
     "output_type": "stream",
     "text": [
      "Test score  1.6944713306427002\n",
      "Test acc 0.51625\n"
     ]
    },
    {
     "data": {
      "text/plain": "                                      Filename             Predictions\n0                  Abyssinian/Abyssinian_1.jpg              Abyssinian\n1                 Abyssinian/Abyssinian_10.jpg              Abyssinian\n2                 Abyssinian/Abyssinian_11.jpg              Abyssinian\n3                 Abyssinian/Abyssinian_12.jpg                  Sphynx\n4                 Abyssinian/Abyssinian_13.jpg              Abyssinian\n..                                         ...                     ...\n772  yorkshire_terrier/yorkshire_terrier_4.jpg       yorkshire_terrier\n773  yorkshire_terrier/yorkshire_terrier_5.jpg  english_cocker_spaniel\n774  yorkshire_terrier/yorkshire_terrier_6.jpg                  beagle\n775  yorkshire_terrier/yorkshire_terrier_7.jpg              leonberger\n776  yorkshire_terrier/yorkshire_terrier_9.jpg  english_cocker_spaniel\n\n[777 rows x 2 columns]",
      "text/html": "<div>\n<style scoped>\n    .dataframe tbody tr th:only-of-type {\n        vertical-align: middle;\n    }\n\n    .dataframe tbody tr th {\n        vertical-align: top;\n    }\n\n    .dataframe thead th {\n        text-align: right;\n    }\n</style>\n<table border=\"1\" class=\"dataframe\">\n  <thead>\n    <tr style=\"text-align: right;\">\n      <th></th>\n      <th>Filename</th>\n      <th>Predictions</th>\n    </tr>\n  </thead>\n  <tbody>\n    <tr>\n      <th>0</th>\n      <td>Abyssinian/Abyssinian_1.jpg</td>\n      <td>Abyssinian</td>\n    </tr>\n    <tr>\n      <th>1</th>\n      <td>Abyssinian/Abyssinian_10.jpg</td>\n      <td>Abyssinian</td>\n    </tr>\n    <tr>\n      <th>2</th>\n      <td>Abyssinian/Abyssinian_11.jpg</td>\n      <td>Abyssinian</td>\n    </tr>\n    <tr>\n      <th>3</th>\n      <td>Abyssinian/Abyssinian_12.jpg</td>\n      <td>Sphynx</td>\n    </tr>\n    <tr>\n      <th>4</th>\n      <td>Abyssinian/Abyssinian_13.jpg</td>\n      <td>Abyssinian</td>\n    </tr>\n    <tr>\n      <th>...</th>\n      <td>...</td>\n      <td>...</td>\n    </tr>\n    <tr>\n      <th>772</th>\n      <td>yorkshire_terrier/yorkshire_terrier_4.jpg</td>\n      <td>yorkshire_terrier</td>\n    </tr>\n    <tr>\n      <th>773</th>\n      <td>yorkshire_terrier/yorkshire_terrier_5.jpg</td>\n      <td>english_cocker_spaniel</td>\n    </tr>\n    <tr>\n      <th>774</th>\n      <td>yorkshire_terrier/yorkshire_terrier_6.jpg</td>\n      <td>beagle</td>\n    </tr>\n    <tr>\n      <th>775</th>\n      <td>yorkshire_terrier/yorkshire_terrier_7.jpg</td>\n      <td>leonberger</td>\n    </tr>\n    <tr>\n      <th>776</th>\n      <td>yorkshire_terrier/yorkshire_terrier_9.jpg</td>\n      <td>english_cocker_spaniel</td>\n    </tr>\n  </tbody>\n</table>\n<p>777 rows × 2 columns</p>\n</div>"
     },
     "execution_count": 13,
     "metadata": {},
     "output_type": "execute_result"
    }
   ],
   "source": [
    "print(\"Test score \", score)\n",
    "print(\"Test acc\", acc)\n",
    "results"
   ],
   "metadata": {
    "collapsed": false,
    "pycharm": {
     "name": "#%%\n"
    }
   }
  },
  {
   "cell_type": "code",
   "execution_count": 13,
   "outputs": [],
   "source": [],
   "metadata": {
    "collapsed": false,
    "pycharm": {
     "name": "#%%\n"
    }
   }
  },
  {
   "cell_type": "code",
   "execution_count": 13,
   "outputs": [],
   "source": [],
   "metadata": {
    "collapsed": false,
    "pycharm": {
     "name": "#%%\n"
    }
   }
  }
 ],
 "metadata": {
  "kernelspec": {
   "display_name": "Python 3 (ipykernel)",
   "language": "python",
   "name": "python3"
  },
  "language_info": {
   "codemirror_mode": {
    "name": "ipython",
    "version": 3
   },
   "file_extension": ".py",
   "mimetype": "text/x-python",
   "name": "python",
   "nbconvert_exporter": "python",
   "pygments_lexer": "ipython3",
   "version": "3.7.13"
  }
 },
 "nbformat": 4,
 "nbformat_minor": 5
}