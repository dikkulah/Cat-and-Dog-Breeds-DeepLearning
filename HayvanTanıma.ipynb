{
 "cells": [
  {
   "cell_type": "code",
   "execution_count": 1,
   "id": "8f13370b",
   "metadata": {
    "pycharm": {
     "name": "#%%\n"
    }
   },
   "outputs": [],
   "source": [
    "#\"Hayvan Tanıma Git Repostory Oluşturuldu\""
   ]
  },
  {
   "cell_type": "code",
   "execution_count": 2,
   "id": "91a60425",
   "metadata": {
    "pycharm": {
     "name": "#%%\n"
    }
   },
   "outputs": [
    {
     "name": "stderr",
     "output_type": "stream",
     "text": [
      "/home/ufuk/anaconda3/envs/tensor/lib/python3.7/site-packages/tensorflow/python/framework/dtypes.py:516: FutureWarning: Passing (type, 1) or '1type' as a synonym of type is deprecated; in a future version of numpy, it will be understood as (type, (1,)) / '(1,)type'.\n",
      "  _np_qint8 = np.dtype([(\"qint8\", np.int8, 1)])\n",
      "/home/ufuk/anaconda3/envs/tensor/lib/python3.7/site-packages/tensorflow/python/framework/dtypes.py:517: FutureWarning: Passing (type, 1) or '1type' as a synonym of type is deprecated; in a future version of numpy, it will be understood as (type, (1,)) / '(1,)type'.\n",
      "  _np_quint8 = np.dtype([(\"quint8\", np.uint8, 1)])\n",
      "/home/ufuk/anaconda3/envs/tensor/lib/python3.7/site-packages/tensorflow/python/framework/dtypes.py:518: FutureWarning: Passing (type, 1) or '1type' as a synonym of type is deprecated; in a future version of numpy, it will be understood as (type, (1,)) / '(1,)type'.\n",
      "  _np_qint16 = np.dtype([(\"qint16\", np.int16, 1)])\n",
      "/home/ufuk/anaconda3/envs/tensor/lib/python3.7/site-packages/tensorflow/python/framework/dtypes.py:519: FutureWarning: Passing (type, 1) or '1type' as a synonym of type is deprecated; in a future version of numpy, it will be understood as (type, (1,)) / '(1,)type'.\n",
      "  _np_quint16 = np.dtype([(\"quint16\", np.uint16, 1)])\n",
      "/home/ufuk/anaconda3/envs/tensor/lib/python3.7/site-packages/tensorflow/python/framework/dtypes.py:520: FutureWarning: Passing (type, 1) or '1type' as a synonym of type is deprecated; in a future version of numpy, it will be understood as (type, (1,)) / '(1,)type'.\n",
      "  _np_qint32 = np.dtype([(\"qint32\", np.int32, 1)])\n",
      "/home/ufuk/anaconda3/envs/tensor/lib/python3.7/site-packages/tensorflow/python/framework/dtypes.py:525: FutureWarning: Passing (type, 1) or '1type' as a synonym of type is deprecated; in a future version of numpy, it will be understood as (type, (1,)) / '(1,)type'.\n",
      "  np_resource = np.dtype([(\"resource\", np.ubyte, 1)])\n",
      "/home/ufuk/anaconda3/envs/tensor/lib/python3.7/site-packages/tensorboard/compat/tensorflow_stub/dtypes.py:541: FutureWarning: Passing (type, 1) or '1type' as a synonym of type is deprecated; in a future version of numpy, it will be understood as (type, (1,)) / '(1,)type'.\n",
      "  _np_qint8 = np.dtype([(\"qint8\", np.int8, 1)])\n",
      "/home/ufuk/anaconda3/envs/tensor/lib/python3.7/site-packages/tensorboard/compat/tensorflow_stub/dtypes.py:542: FutureWarning: Passing (type, 1) or '1type' as a synonym of type is deprecated; in a future version of numpy, it will be understood as (type, (1,)) / '(1,)type'.\n",
      "  _np_quint8 = np.dtype([(\"quint8\", np.uint8, 1)])\n",
      "/home/ufuk/anaconda3/envs/tensor/lib/python3.7/site-packages/tensorboard/compat/tensorflow_stub/dtypes.py:543: FutureWarning: Passing (type, 1) or '1type' as a synonym of type is deprecated; in a future version of numpy, it will be understood as (type, (1,)) / '(1,)type'.\n",
      "  _np_qint16 = np.dtype([(\"qint16\", np.int16, 1)])\n",
      "/home/ufuk/anaconda3/envs/tensor/lib/python3.7/site-packages/tensorboard/compat/tensorflow_stub/dtypes.py:544: FutureWarning: Passing (type, 1) or '1type' as a synonym of type is deprecated; in a future version of numpy, it will be understood as (type, (1,)) / '(1,)type'.\n",
      "  _np_quint16 = np.dtype([(\"quint16\", np.uint16, 1)])\n",
      "/home/ufuk/anaconda3/envs/tensor/lib/python3.7/site-packages/tensorboard/compat/tensorflow_stub/dtypes.py:545: FutureWarning: Passing (type, 1) or '1type' as a synonym of type is deprecated; in a future version of numpy, it will be understood as (type, (1,)) / '(1,)type'.\n",
      "  _np_qint32 = np.dtype([(\"qint32\", np.int32, 1)])\n",
      "/home/ufuk/anaconda3/envs/tensor/lib/python3.7/site-packages/tensorboard/compat/tensorflow_stub/dtypes.py:550: FutureWarning: Passing (type, 1) or '1type' as a synonym of type is deprecated; in a future version of numpy, it will be understood as (type, (1,)) / '(1,)type'.\n",
      "  np_resource = np.dtype([(\"resource\", np.ubyte, 1)])\n"
     ]
    }
   ],
   "source": [
    "import os\n",
    "from tensorflow.python.keras.optimizers import SGD\n",
    "\n",
    "import matplotlib.pyplot as plt\n",
    "from tensorflow import keras\n",
    "from tensorflow.keras.models import Model, Sequential\n",
    "from tensorflow.keras.layers import Dense, Flatten, Conv2D, MaxPool2D, Dropout\n",
    "from tensorflow.keras.applications.vgg16 import VGG16, preprocess_input\n",
    "from tensorflow.keras.preprocessing.image import ImageDataGenerator\n",
    "from tensorflow.keras.callbacks import ModelCheckpoint, EarlyStopping, TensorBoard, History\n",
    "import tensorflow as tf\n",
    "from time import time\n",
    "import numpy as np\n",
    "import pandas as pd\n",
    "\n",
    "os.environ[\"TF_CPP_MIN_LOG_LEVEL\"] = \"2\"  # UYARILARI KAPATMA\n"
   ]
  },
  {
   "cell_type": "code",
   "execution_count": 3,
   "outputs": [
    {
     "name": "stdout",
     "output_type": "stream",
     "text": [
      "Found 4987 images belonging to 37 classes.\n",
      "Found 1626 images belonging to 37 classes.\n",
      "Found 777 images belonging to 37 classes.\n"
     ]
    }
   ],
   "source": [
    "#print(os.listdir(\"./images/train\"))\n",
    "SIZE = 224\n",
    "EPOCH = 50\n",
    "BATCH = 32\n",
    "train_directory = \"images/train/\"\n",
    "valid_directory = \"images/valid/\"\n",
    "test_directory = \"images/test/\"\n",
    "\n",
    "data_aug = ImageDataGenerator(rotation_range=40,\n",
    "                              width_shift_range=0.2,\n",
    "                              height_shift_range=0.2,\n",
    "                              shear_range=0.2,\n",
    "                              rescale=1. / 255,\n",
    "                              zoom_range=0.2,\n",
    "                              horizontal_flip=True,\n",
    "                              fill_mode=\"nearest\",\n",
    "                              validation_split=0.25\n",
    "                              )\n",
    "test_aug = ImageDataGenerator(rescale = 1./255)\n",
    "#Max batch size= available GPU memory bytes / 4 / (size of tensors + trainable parameters)\n",
    "train_generator = data_aug.flow_from_directory(directory=train_directory,\n",
    "                                               batch_size=BATCH,\n",
    "                                               shuffle=True,\n",
    "                                               class_mode=\"categorical\",\n",
    "                                               color_mode=\"rgb\",\n",
    "                                               target_size=(SIZE, SIZE),\n",
    "                                               interpolation=\"nearest\",\n",
    "                                               subset=\"training\",\n",
    "                                               seed=42\n",
    "                                               )\n",
    "validation_generator = data_aug.flow_from_directory(directory=train_directory,\n",
    "                                                    batch_size=BATCH,\n",
    "                                                    shuffle=True,\n",
    "                                                    class_mode=\"categorical\",\n",
    "                                                    color_mode=\"rgb\",\n",
    "                                                    target_size=(SIZE, SIZE),\n",
    "                                                    interpolation=\"nearest\",\n",
    "                                                    subset=\"validation\",\n",
    "                                                    seed=42\n",
    "                                                    )\n",
    "test_generator = test_aug.flow_from_directory(directory=test_directory,\n",
    "                                              batch_size=1,\n",
    "                                              shuffle=False,\n",
    "                                              class_mode=\"categorical\",\n",
    "                                              target_size=(SIZE, SIZE)\n",
    "                                              )\n",
    "\n",
    "\n"
   ],
   "metadata": {
    "collapsed": false,
    "pycharm": {
     "name": "#%%\n"
    }
   }
  },
  {
   "cell_type": "code",
   "execution_count": 4,
   "outputs": [
    {
     "name": "stdout",
     "output_type": "stream",
     "text": [
      "{'Abyssinian': 0, 'Bengal': 1, 'Birman': 2, 'Bombay': 3, 'British_Shorthair': 4, 'Egyptian_Mau': 5, 'Maine_Coon': 6, 'Persian': 7, 'Ragdoll': 8, 'Russian_Blue': 9, 'Siamese': 10, 'Sphynx': 11, 'american_bulldog': 12, 'american_pit_bull_terrier': 13, 'basset_hound': 14, 'beagle': 15, 'boxer': 16, 'chihuahua': 17, 'english_cocker_spaniel': 18, 'english_setter': 19, 'german_shorthaired': 20, 'great_pyrenees': 21, 'havanese': 22, 'japanese_chin': 23, 'keeshond': 24, 'leonberger': 25, 'miniature_pinscher': 26, 'newfoundland': 27, 'pomeranian': 28, 'pug': 29, 'saint_bernard': 30, 'samoyed': 31, 'scottish_terrier': 32, 'shiba_inu': 33, 'staffordshire_bull_terrier': 34, 'wheaten_terrier': 35, 'yorkshire_terrier': 36}\n"
     ]
    }
   ],
   "source": [
    "print(train_generator.class_indices)"
   ],
   "metadata": {
    "collapsed": false,
    "pycharm": {
     "name": "#%%\n"
    }
   }
  },
  {
   "cell_type": "code",
   "execution_count": 5,
   "outputs": [],
   "source": [
    "tf.keras.backend.clear_session()"
   ],
   "metadata": {
    "collapsed": false,
    "pycharm": {
     "name": "#%%\n"
    }
   }
  },
  {
   "cell_type": "code",
   "execution_count": 6,
   "outputs": [
    {
     "name": "stdout",
     "output_type": "stream",
     "text": [
      "WARNING:tensorflow:From /home/ufuk/anaconda3/envs/tensor/lib/python3.7/site-packages/tensorflow/python/ops/init_ops.py:1251: calling VarianceScaling.__init__ (from tensorflow.python.ops.init_ops) with dtype is deprecated and will be removed in a future version.\n",
      "Instructions for updating:\n",
      "Call initializer instance with the dtype argument instead of passing it to the constructor\n",
      "Model: \"sequential\"\n",
      "_________________________________________________________________\n",
      "Layer (type)                 Output Shape              Param #   \n",
      "=================================================================\n",
      "vgg16 (Model)                (None, 512)               14714688  \n",
      "_________________________________________________________________\n",
      "flatten (Flatten)            (None, 512)               0         \n",
      "_________________________________________________________________\n",
      "dense (Dense)                (None, 4096)              2101248   \n",
      "_________________________________________________________________\n",
      "dropout (Dropout)            (None, 4096)              0         \n",
      "_________________________________________________________________\n",
      "dense_1 (Dense)              (None, 1024)              4195328   \n",
      "_________________________________________________________________\n",
      "dropout_1 (Dropout)          (None, 1024)              0         \n",
      "_________________________________________________________________\n",
      "dense_2 (Dense)              (None, 37)                37925     \n",
      "=================================================================\n",
      "Total params: 21,049,189\n",
      "Trainable params: 6,334,501\n",
      "Non-trainable params: 14,714,688\n",
      "_________________________________________________________________\n",
      "0 input_1 False\n",
      "1 block1_conv1 False\n",
      "2 block1_conv2 False\n",
      "3 block1_pool False\n",
      "4 block2_conv1 False\n",
      "5 block2_conv2 False\n",
      "6 block2_pool False\n",
      "7 block3_conv1 False\n",
      "8 block3_conv2 False\n",
      "9 block3_conv3 False\n",
      "10 block3_pool False\n",
      "11 block4_conv1 False\n",
      "12 block4_conv2 False\n",
      "13 block4_conv3 False\n",
      "14 block4_pool False\n",
      "15 block5_conv1 False\n",
      "16 block5_conv2 False\n",
      "17 block5_conv3 False\n",
      "18 block5_pool False\n",
      "19 global_average_pooling2d False\n"
     ]
    }
   ],
   "source": [
    "\n",
    "vgg16_model = VGG16(pooling=\"avg\", input_shape=(224, 224, 3), weights=\"imagenet\", include_top=False)\n",
    "for layer in vgg16_model.layers:\n",
    "    layer.trainable = False\n",
    "VGG = tf.keras.Sequential([\n",
    "    vgg16_model,\n",
    "    Flatten(),\n",
    "    Conv2D(),\n",
    "\n",
    "    Dense(units=4096, activation=\"relu\"),\n",
    "    Dense(units=1024, activation=\"relu\"),\n",
    "    Dense(units=37, activation=\"softmax\"),\n",
    "])\n",
    "opt = SGD(lr=0.0001, momentum=0.9, decay=0.01)\n",
    "\n",
    "VGG.compile(loss=\"categorical_crossentropy\", optimizer=\"adam\",\n",
    "            metrics=[\"acc\"])\n",
    "\n",
    "VGG.summary()\n",
    "for i, layer in enumerate(vgg16_model.layers):\n",
    "    print(i, layer.name, layer.trainable)"
   ],
   "metadata": {
    "collapsed": false,
    "pycharm": {
     "name": "#%%\n"
    }
   }
  },
  {
   "cell_type": "code",
   "execution_count": 7,
   "outputs": [
    {
     "name": "stdout",
     "output_type": "stream",
     "text": [
      "155 50\n",
      "Epoch 1/50\n",
      "  2/155 [..............................] - ETA: 11:30 - loss: 4.0519 - acc: 0.0156    "
     ]
    },
    {
     "name": "stderr",
     "output_type": "stream",
     "text": [
      "2022-05-02 13:52:26.368286: E tensorflow/core/platform/default/device_tracer.cc:68] CUPTI error: CUPTI_ERROR_INVALID_PARAMETER\n"
     ]
    },
    {
     "name": "stdout",
     "output_type": "stream",
     "text": [
      "154/155 [============================>.] - ETA: 0s - loss: 3.3184 - acc: 0.0782\n",
      "Epoch 00001: val_acc improved from -inf to 0.18125, saving model to vgg_16_-saved-model-01-acc-0.18.hdf5\n",
      "155/155 [==============================] - 129s 831ms/step - loss: 3.3146 - acc: 0.0797 - val_loss: 2.7325 - val_acc: 0.1813\n",
      "Epoch 2/50\n",
      "154/155 [============================>.] - ETA: 0s - loss: 2.5609 - acc: 0.2129\n",
      "Epoch 00002: val_acc improved from 0.18125 to 0.29063, saving model to vgg_16_-saved-model-02-acc-0.29.hdf5\n",
      "155/155 [==============================] - 114s 737ms/step - loss: 2.5605 - acc: 0.2135 - val_loss: 2.3435 - val_acc: 0.2906\n",
      "Epoch 3/50\n",
      "154/155 [============================>.] - ETA: 0s - loss: 2.2272 - acc: 0.3100\n",
      "Epoch 00003: val_acc improved from 0.29063 to 0.32000, saving model to vgg_16_-saved-model-03-acc-0.32.hdf5\n",
      "155/155 [==============================] - 111s 719ms/step - loss: 2.2257 - acc: 0.3104 - val_loss: 2.2085 - val_acc: 0.3200\n",
      "Epoch 4/50\n",
      "154/155 [============================>.] - ETA: 0s - loss: 2.0858 - acc: 0.3640\n",
      "Epoch 00004: val_acc improved from 0.32000 to 0.35500, saving model to vgg_16_-saved-model-04-acc-0.35.hdf5\n",
      "155/155 [==============================] - 110s 708ms/step - loss: 2.0848 - acc: 0.3637 - val_loss: 2.1176 - val_acc: 0.3550\n",
      "Epoch 5/50\n",
      "154/155 [============================>.] - ETA: 0s - loss: 1.9519 - acc: 0.3959\n",
      "Epoch 00005: val_acc improved from 0.35500 to 0.36062, saving model to vgg_16_-saved-model-05-acc-0.36.hdf5\n",
      "155/155 [==============================] - 109s 704ms/step - loss: 1.9510 - acc: 0.3960 - val_loss: 2.0706 - val_acc: 0.3606\n",
      "Epoch 6/50\n",
      "154/155 [============================>.] - ETA: 0s - loss: 1.8512 - acc: 0.4195\n",
      "Epoch 00006: val_acc improved from 0.36062 to 0.36937, saving model to vgg_16_-saved-model-06-acc-0.37.hdf5\n",
      "155/155 [==============================] - 106s 686ms/step - loss: 1.8494 - acc: 0.4202 - val_loss: 2.0553 - val_acc: 0.3694\n",
      "Epoch 7/50\n",
      "154/155 [============================>.] - ETA: 0s - loss: 1.8255 - acc: 0.4375\n",
      "Epoch 00007: val_acc improved from 0.36937 to 0.41813, saving model to vgg_16_-saved-model-07-acc-0.42.hdf5\n",
      "155/155 [==============================] - 106s 682ms/step - loss: 1.8256 - acc: 0.4369 - val_loss: 1.8721 - val_acc: 0.4181\n",
      "Epoch 8/50\n",
      "154/155 [============================>.] - ETA: 0s - loss: 1.7132 - acc: 0.4660\n",
      "Epoch 00008: val_acc did not improve from 0.41813\n",
      "155/155 [==============================] - 110s 710ms/step - loss: 1.7175 - acc: 0.4654 - val_loss: 1.8356 - val_acc: 0.4162\n",
      "Epoch 9/50\n",
      "154/155 [============================>.] - ETA: 0s - loss: 1.7192 - acc: 0.4596\n",
      "Epoch 00009: val_acc improved from 0.41813 to 0.44250, saving model to vgg_16_-saved-model-09-acc-0.44.hdf5\n",
      "155/155 [==============================] - 111s 719ms/step - loss: 1.7179 - acc: 0.4607 - val_loss: 1.8617 - val_acc: 0.4425\n",
      "Epoch 10/50\n",
      "154/155 [============================>.] - ETA: 0s - loss: 1.6369 - acc: 0.4868\n",
      "Epoch 00010: val_acc improved from 0.44250 to 0.45500, saving model to vgg_16_-saved-model-10-acc-0.46.hdf5\n",
      "155/155 [==============================] - 113s 732ms/step - loss: 1.6373 - acc: 0.4871 - val_loss: 1.8094 - val_acc: 0.4550\n",
      "Epoch 11/50\n",
      "154/155 [============================>.] - ETA: 0s - loss: 1.6068 - acc: 0.4960\n",
      "Epoch 00011: val_acc improved from 0.45500 to 0.46187, saving model to vgg_16_-saved-model-11-acc-0.46.hdf5\n",
      "155/155 [==============================] - 116s 750ms/step - loss: 1.6056 - acc: 0.4969 - val_loss: 1.7666 - val_acc: 0.4619\n",
      "Epoch 12/50\n",
      "154/155 [============================>.] - ETA: 0s - loss: 1.5734 - acc: 0.5082\n",
      "Epoch 00012: val_acc did not improve from 0.46187\n",
      "155/155 [==============================] - 115s 740ms/step - loss: 1.5746 - acc: 0.5078 - val_loss: 1.7201 - val_acc: 0.4581\n",
      "Epoch 13/50\n",
      "154/155 [============================>.] - ETA: 0s - loss: 1.5341 - acc: 0.5200\n",
      "Epoch 00013: val_acc did not improve from 0.46187\n",
      "155/155 [==============================] - 116s 749ms/step - loss: 1.5347 - acc: 0.5195 - val_loss: 1.8488 - val_acc: 0.4431\n",
      "Epoch 14/50\n",
      "154/155 [============================>.] - ETA: 0s - loss: 1.5078 - acc: 0.5306\n",
      "Epoch 00014: val_acc did not improve from 0.46187\n",
      "155/155 [==============================] - 118s 762ms/step - loss: 1.5093 - acc: 0.5302 - val_loss: 1.8275 - val_acc: 0.4575\n",
      "Epoch 15/50\n",
      "154/155 [============================>.] - ETA: 0s - loss: 1.4666 - acc: 0.5394\n",
      "Epoch 00015: val_acc did not improve from 0.46187\n",
      "155/155 [==============================] - 109s 701ms/step - loss: 1.4693 - acc: 0.5388 - val_loss: 1.7823 - val_acc: 0.4512\n",
      "Epoch 16/50\n",
      "154/155 [============================>.] - ETA: 0s - loss: 1.4576 - acc: 0.5407\n",
      "Epoch 00016: val_acc did not improve from 0.46187\n",
      "155/155 [==============================] - 107s 689ms/step - loss: 1.4565 - acc: 0.5403 - val_loss: 1.7667 - val_acc: 0.4519\n",
      "Epoch 17/50\n",
      "154/155 [============================>.] - ETA: 0s - loss: 1.4282 - acc: 0.5576\n",
      "Epoch 00017: val_acc improved from 0.46187 to 0.47750, saving model to vgg_16_-saved-model-17-acc-0.48.hdf5\n",
      "155/155 [==============================] - 106s 684ms/step - loss: 1.4267 - acc: 0.5584 - val_loss: 1.7837 - val_acc: 0.4775\n",
      "Epoch 18/50\n",
      "154/155 [============================>.] - ETA: 0s - loss: 1.3982 - acc: 0.5535\n",
      "Epoch 00018: val_acc did not improve from 0.47750\n",
      "155/155 [==============================] - 106s 682ms/step - loss: 1.3967 - acc: 0.5544 - val_loss: 1.7573 - val_acc: 0.4675\n",
      "Epoch 19/50\n",
      "154/155 [============================>.] - ETA: 0s - loss: 1.3803 - acc: 0.5694\n",
      "Epoch 00019: val_acc improved from 0.47750 to 0.50625, saving model to vgg_16_-saved-model-19-acc-0.51.hdf5\n",
      "155/155 [==============================] - 112s 720ms/step - loss: 1.3810 - acc: 0.5697 - val_loss: 1.6498 - val_acc: 0.5063\n",
      "Epoch 20/50\n",
      "154/155 [============================>.] - ETA: 0s - loss: 1.3326 - acc: 0.5797\n",
      "Epoch 00020: val_acc did not improve from 0.50625\n",
      "155/155 [==============================] - 109s 703ms/step - loss: 1.3337 - acc: 0.5788 - val_loss: 1.7600 - val_acc: 0.4744\n",
      "Epoch 21/50\n",
      "154/155 [============================>.] - ETA: 0s - loss: 1.3562 - acc: 0.5659\n",
      "Epoch 00021: val_acc did not improve from 0.50625\n",
      "155/155 [==============================] - 115s 741ms/step - loss: 1.3594 - acc: 0.5659 - val_loss: 1.8415 - val_acc: 0.4462\n",
      "Epoch 22/50\n",
      "154/155 [============================>.] - ETA: 0s - loss: 1.3523 - acc: 0.5728\n",
      "Epoch 00022: val_acc did not improve from 0.50625\n",
      "155/155 [==============================] - 117s 754ms/step - loss: 1.3532 - acc: 0.5718 - val_loss: 1.7316 - val_acc: 0.4837\n",
      "Epoch 23/50\n",
      "154/155 [============================>.] - ETA: 0s - loss: 1.2831 - acc: 0.5984\n",
      "Epoch 00023: val_acc did not improve from 0.50625\n",
      "155/155 [==============================] - 116s 752ms/step - loss: 1.2818 - acc: 0.5988 - val_loss: 1.6828 - val_acc: 0.5063\n",
      "Epoch 24/50\n",
      "154/155 [============================>.] - ETA: 0s - loss: 1.2954 - acc: 0.5866\n",
      "Epoch 00024: val_acc did not improve from 0.50625\n",
      "155/155 [==============================] - 110s 712ms/step - loss: 1.2952 - acc: 0.5865 - val_loss: 1.6917 - val_acc: 0.4950\n",
      "Epoch 25/50\n",
      "154/155 [============================>.] - ETA: 0s - loss: 1.2669 - acc: 0.5941\n",
      "Epoch 00025: val_acc improved from 0.50625 to 0.51125, saving model to vgg_16_-saved-model-25-acc-0.51.hdf5\n",
      "155/155 [==============================] - 113s 728ms/step - loss: 1.2664 - acc: 0.5946 - val_loss: 1.6240 - val_acc: 0.5113\n",
      "Epoch 26/50\n",
      "154/155 [============================>.] - ETA: 0s - loss: 1.2417 - acc: 0.5964\n",
      "Epoch 00026: val_acc did not improve from 0.51125\n",
      "155/155 [==============================] - 124s 803ms/step - loss: 1.2418 - acc: 0.5970 - val_loss: 1.6787 - val_acc: 0.5063\n",
      "Epoch 27/50\n",
      "154/155 [============================>.] - ETA: 0s - loss: 1.2287 - acc: 0.6017\n",
      "Epoch 00027: val_acc did not improve from 0.51125\n",
      "155/155 [==============================] - 120s 773ms/step - loss: 1.2268 - acc: 0.6020 - val_loss: 1.7797 - val_acc: 0.4681\n",
      "Epoch 28/50\n",
      "154/155 [============================>.] - ETA: 0s - loss: 1.2089 - acc: 0.6126\n",
      "Epoch 00028: val_acc did not improve from 0.51125\n",
      "155/155 [==============================] - 125s 809ms/step - loss: 1.2083 - acc: 0.6127 - val_loss: 1.7108 - val_acc: 0.4925\n",
      "Epoch 29/50\n",
      "154/155 [============================>.] - ETA: 0s - loss: 1.1696 - acc: 0.6226\n",
      "Epoch 00029: val_acc did not improve from 0.51125\n",
      "155/155 [==============================] - 118s 759ms/step - loss: 1.1715 - acc: 0.6222 - val_loss: 1.6965 - val_acc: 0.4950\n",
      "Epoch 30/50\n",
      "154/155 [============================>.] - ETA: 0s - loss: 1.1631 - acc: 0.6301\n",
      "Epoch 00030: val_acc did not improve from 0.51125\n",
      "155/155 [==============================] - 113s 732ms/step - loss: 1.1645 - acc: 0.6301 - val_loss: 1.7004 - val_acc: 0.4938\n",
      "Epoch 31/50\n",
      "131/155 [========================>.....] - ETA: 13s - loss: 1.1400 - acc: 0.6360"
     ]
    },
    {
     "ename": "KeyboardInterrupt",
     "evalue": "",
     "output_type": "error",
     "traceback": [
      "\u001B[0;31m---------------------------------------------------------------------------\u001B[0m",
      "\u001B[0;31mKeyboardInterrupt\u001B[0m                         Traceback (most recent call last)",
      "\u001B[0;32m/tmp/ipykernel_7582/604334133.py\u001B[0m in \u001B[0;36m<module>\u001B[0;34m\u001B[0m\n\u001B[1;32m     24\u001B[0m     \u001B[0mcallbacks\u001B[0m\u001B[0;34m=\u001B[0m\u001B[0;34m[\u001B[0m\u001B[0mvgg16_history_callback\u001B[0m\u001B[0;34m,\u001B[0m \u001B[0mvgg16_checkpoint\u001B[0m\u001B[0;34m,\u001B[0m \u001B[0mvgg16_tensorboard\u001B[0m\u001B[0;34m,\u001B[0m \u001B[0mearly\u001B[0m\u001B[0;34m]\u001B[0m\u001B[0;34m,\u001B[0m\u001B[0;34m\u001B[0m\u001B[0;34m\u001B[0m\u001B[0m\n\u001B[1;32m     25\u001B[0m     \u001B[0msteps_per_epoch\u001B[0m\u001B[0;34m=\u001B[0m\u001B[0mStep_size_train\u001B[0m\u001B[0;34m,\u001B[0m\u001B[0;34m\u001B[0m\u001B[0;34m\u001B[0m\u001B[0m\n\u001B[0;32m---> 26\u001B[0;31m     \u001B[0mvalidation_steps\u001B[0m\u001B[0;34m=\u001B[0m\u001B[0mStep_size_valid\u001B[0m\u001B[0;34m\u001B[0m\u001B[0;34m\u001B[0m\u001B[0m\n\u001B[0m\u001B[1;32m     27\u001B[0m )\n\u001B[1;32m     28\u001B[0m \u001B[0;34m\u001B[0m\u001B[0m\n",
      "\u001B[0;32m~/anaconda3/envs/tensor/lib/python3.7/site-packages/tensorflow/python/keras/engine/training.py\u001B[0m in \u001B[0;36mfit_generator\u001B[0;34m(self, generator, steps_per_epoch, epochs, verbose, callbacks, validation_data, validation_steps, validation_freq, class_weight, max_queue_size, workers, use_multiprocessing, shuffle, initial_epoch)\u001B[0m\n\u001B[1;32m   1431\u001B[0m         \u001B[0mshuffle\u001B[0m\u001B[0;34m=\u001B[0m\u001B[0mshuffle\u001B[0m\u001B[0;34m,\u001B[0m\u001B[0;34m\u001B[0m\u001B[0;34m\u001B[0m\u001B[0m\n\u001B[1;32m   1432\u001B[0m         \u001B[0minitial_epoch\u001B[0m\u001B[0;34m=\u001B[0m\u001B[0minitial_epoch\u001B[0m\u001B[0;34m,\u001B[0m\u001B[0;34m\u001B[0m\u001B[0;34m\u001B[0m\u001B[0m\n\u001B[0;32m-> 1433\u001B[0;31m         steps_name='steps_per_epoch')\n\u001B[0m\u001B[1;32m   1434\u001B[0m \u001B[0;34m\u001B[0m\u001B[0m\n\u001B[1;32m   1435\u001B[0m   def evaluate_generator(self,\n",
      "\u001B[0;32m~/anaconda3/envs/tensor/lib/python3.7/site-packages/tensorflow/python/keras/engine/training_generator.py\u001B[0m in \u001B[0;36mmodel_iteration\u001B[0;34m(model, data, steps_per_epoch, epochs, verbose, callbacks, validation_data, validation_steps, validation_freq, class_weight, max_queue_size, workers, use_multiprocessing, shuffle, initial_epoch, mode, batch_size, steps_name, **kwargs)\u001B[0m\n\u001B[1;32m    262\u001B[0m \u001B[0;34m\u001B[0m\u001B[0m\n\u001B[1;32m    263\u001B[0m       \u001B[0mis_deferred\u001B[0m \u001B[0;34m=\u001B[0m \u001B[0;32mnot\u001B[0m \u001B[0mmodel\u001B[0m\u001B[0;34m.\u001B[0m\u001B[0m_is_compiled\u001B[0m\u001B[0;34m\u001B[0m\u001B[0;34m\u001B[0m\u001B[0m\n\u001B[0;32m--> 264\u001B[0;31m       \u001B[0mbatch_outs\u001B[0m \u001B[0;34m=\u001B[0m \u001B[0mbatch_function\u001B[0m\u001B[0;34m(\u001B[0m\u001B[0;34m*\u001B[0m\u001B[0mbatch_data\u001B[0m\u001B[0;34m)\u001B[0m\u001B[0;34m\u001B[0m\u001B[0;34m\u001B[0m\u001B[0m\n\u001B[0m\u001B[1;32m    265\u001B[0m       \u001B[0;32mif\u001B[0m \u001B[0;32mnot\u001B[0m \u001B[0misinstance\u001B[0m\u001B[0;34m(\u001B[0m\u001B[0mbatch_outs\u001B[0m\u001B[0;34m,\u001B[0m \u001B[0mlist\u001B[0m\u001B[0;34m)\u001B[0m\u001B[0;34m:\u001B[0m\u001B[0;34m\u001B[0m\u001B[0;34m\u001B[0m\u001B[0m\n\u001B[1;32m    266\u001B[0m         \u001B[0mbatch_outs\u001B[0m \u001B[0;34m=\u001B[0m \u001B[0;34m[\u001B[0m\u001B[0mbatch_outs\u001B[0m\u001B[0;34m]\u001B[0m\u001B[0;34m\u001B[0m\u001B[0;34m\u001B[0m\u001B[0m\n",
      "\u001B[0;32m~/anaconda3/envs/tensor/lib/python3.7/site-packages/tensorflow/python/keras/engine/training.py\u001B[0m in \u001B[0;36mtrain_on_batch\u001B[0;34m(self, x, y, sample_weight, class_weight, reset_metrics)\u001B[0m\n\u001B[1;32m   1173\u001B[0m       \u001B[0mself\u001B[0m\u001B[0;34m.\u001B[0m\u001B[0m_update_sample_weight_modes\u001B[0m\u001B[0;34m(\u001B[0m\u001B[0msample_weights\u001B[0m\u001B[0;34m=\u001B[0m\u001B[0msample_weights\u001B[0m\u001B[0;34m)\u001B[0m\u001B[0;34m\u001B[0m\u001B[0;34m\u001B[0m\u001B[0m\n\u001B[1;32m   1174\u001B[0m       \u001B[0mself\u001B[0m\u001B[0;34m.\u001B[0m\u001B[0m_make_train_function\u001B[0m\u001B[0;34m(\u001B[0m\u001B[0;34m)\u001B[0m\u001B[0;34m\u001B[0m\u001B[0;34m\u001B[0m\u001B[0m\n\u001B[0;32m-> 1175\u001B[0;31m       \u001B[0moutputs\u001B[0m \u001B[0;34m=\u001B[0m \u001B[0mself\u001B[0m\u001B[0;34m.\u001B[0m\u001B[0mtrain_function\u001B[0m\u001B[0;34m(\u001B[0m\u001B[0mins\u001B[0m\u001B[0;34m)\u001B[0m  \u001B[0;31m# pylint: disable=not-callable\u001B[0m\u001B[0;34m\u001B[0m\u001B[0;34m\u001B[0m\u001B[0m\n\u001B[0m\u001B[1;32m   1176\u001B[0m \u001B[0;34m\u001B[0m\u001B[0m\n\u001B[1;32m   1177\u001B[0m     \u001B[0;32mif\u001B[0m \u001B[0mreset_metrics\u001B[0m\u001B[0;34m:\u001B[0m\u001B[0;34m\u001B[0m\u001B[0;34m\u001B[0m\u001B[0m\n",
      "\u001B[0;32m~/anaconda3/envs/tensor/lib/python3.7/site-packages/tensorflow/python/keras/backend.py\u001B[0m in \u001B[0;36m__call__\u001B[0;34m(self, inputs)\u001B[0m\n\u001B[1;32m   3290\u001B[0m \u001B[0;34m\u001B[0m\u001B[0m\n\u001B[1;32m   3291\u001B[0m     fetched = self._callable_fn(*array_vals,\n\u001B[0;32m-> 3292\u001B[0;31m                                 run_metadata=self.run_metadata)\n\u001B[0m\u001B[1;32m   3293\u001B[0m     \u001B[0mself\u001B[0m\u001B[0;34m.\u001B[0m\u001B[0m_call_fetch_callbacks\u001B[0m\u001B[0;34m(\u001B[0m\u001B[0mfetched\u001B[0m\u001B[0;34m[\u001B[0m\u001B[0;34m-\u001B[0m\u001B[0mlen\u001B[0m\u001B[0;34m(\u001B[0m\u001B[0mself\u001B[0m\u001B[0;34m.\u001B[0m\u001B[0m_fetches\u001B[0m\u001B[0;34m)\u001B[0m\u001B[0;34m:\u001B[0m\u001B[0;34m]\u001B[0m\u001B[0;34m)\u001B[0m\u001B[0;34m\u001B[0m\u001B[0;34m\u001B[0m\u001B[0m\n\u001B[1;32m   3294\u001B[0m     output_structure = nest.pack_sequence_as(\n",
      "\u001B[0;32m~/anaconda3/envs/tensor/lib/python3.7/site-packages/tensorflow/python/client/session.py\u001B[0m in \u001B[0;36m__call__\u001B[0;34m(self, *args, **kwargs)\u001B[0m\n\u001B[1;32m   1456\u001B[0m         ret = tf_session.TF_SessionRunCallable(self._session._session,\n\u001B[1;32m   1457\u001B[0m                                                \u001B[0mself\u001B[0m\u001B[0;34m.\u001B[0m\u001B[0m_handle\u001B[0m\u001B[0;34m,\u001B[0m \u001B[0margs\u001B[0m\u001B[0;34m,\u001B[0m\u001B[0;34m\u001B[0m\u001B[0;34m\u001B[0m\u001B[0m\n\u001B[0;32m-> 1458\u001B[0;31m                                                run_metadata_ptr)\n\u001B[0m\u001B[1;32m   1459\u001B[0m         \u001B[0;32mif\u001B[0m \u001B[0mrun_metadata\u001B[0m\u001B[0;34m:\u001B[0m\u001B[0;34m\u001B[0m\u001B[0;34m\u001B[0m\u001B[0m\n\u001B[1;32m   1460\u001B[0m           \u001B[0mproto_data\u001B[0m \u001B[0;34m=\u001B[0m \u001B[0mtf_session\u001B[0m\u001B[0;34m.\u001B[0m\u001B[0mTF_GetBuffer\u001B[0m\u001B[0;34m(\u001B[0m\u001B[0mrun_metadata_ptr\u001B[0m\u001B[0;34m)\u001B[0m\u001B[0;34m\u001B[0m\u001B[0;34m\u001B[0m\u001B[0m\n",
      "\u001B[0;31mKeyboardInterrupt\u001B[0m: "
     ]
    }
   ],
   "source": [
    "\n",
    "vgg16_filepath = 'vgg_16_' + '-saved-model-{epoch:02d}-acc-{val_acc:.2f}.hdf5'\n",
    "vgg16_checkpoint = ModelCheckpoint(filepath=vgg16_filepath,\n",
    "                                   save_best_only=True,\n",
    "                                   monitor=\"val_acc\",\n",
    "                                   mode=\"max\",\n",
    "                                   verbose=1\n",
    "                                   )\n",
    "early = EarlyStopping(monitor='val_acc', min_delta=0, patience=20, verbose=1, mode='auto')\n",
    "\n",
    "vgg16_tensorboard = TensorBoard(log_dir=\"logs/{}\".format(time()),\n",
    "                                write_graph=True,\n",
    "                                write_images=True,\n",
    "                                histogram_freq=0)\n",
    "vgg16_history_callback = History()\n",
    "\n",
    "Step_size_train = train_generator.n // train_generator.batch_size\n",
    "Step_size_valid = validation_generator.n // validation_generator.batch_size\n",
    "Step_size_test = test_generator.n // test_generator.batch_size\n",
    "print(Step_size_train, Step_size_valid)\n",
    "vgg_history = VGG.fit_generator(\n",
    "    generator=train_generator,\n",
    "    validation_data=validation_generator,\n",
    "    epochs=EPOCH,\n",
    "    callbacks=[vgg16_history_callback, vgg16_checkpoint, vgg16_tensorboard, early],\n",
    "    steps_per_epoch=Step_size_train,\n",
    "    validation_steps=Step_size_valid\n",
    ")\n"
   ],
   "metadata": {
    "collapsed": false,
    "pycharm": {
     "name": "#%%\n"
    }
   }
  },
  {
   "cell_type": "code",
   "execution_count": 8,
   "outputs": [
    {
     "data": {
      "text/plain": "<matplotlib.legend.Legend at 0x7f6c1c6e3f50>"
     },
     "execution_count": 8,
     "metadata": {},
     "output_type": "execute_result"
    },
    {
     "data": {
      "text/plain": "<Figure size 432x288 with 1 Axes>",
      "image/png": "[encoded data removed]"
     },
     "metadata": {
      "needs_background": "light"
     },
     "output_type": "display_data"
    }
   ],
   "source": [
    "plt.plot(vgg16_history_callback.history[\"acc\"])\n",
    "plt.plot(vgg16_history_callback.history['val_acc'])\n",
    "plt.legend(['accuracy', 'validation accuracy'])"
   ],
   "metadata": {
    "collapsed": false,
    "pycharm": {
     "name": "#%%\n"
    }
   }
  },
  {
   "cell_type": "code",
   "execution_count": 9,
   "outputs": [
    {
     "data": {
      "text/plain": "<matplotlib.legend.Legend at 0x7f6c1c5fa850>"
     },
     "execution_count": 9,
     "metadata": {},
     "output_type": "execute_result"
    },
    {
     "data": {
      "text/plain": "<Figure size 432x288 with 1 Axes>",
      "image/png": "[encoded data removed]"
     },
     "metadata": {
      "needs_background": "light"
     },
     "output_type": "display_data"
    }
   ],
   "source": [
    "plt.plot(vgg16_history_callback.history[\"loss\"])\n",
    "plt.plot(vgg16_history_callback.history['val_loss'])\n",
    "plt.legend(['accuracy', 'validation accuracy'])"
   ],
   "metadata": {
    "collapsed": false,
    "pycharm": {
     "name": "#%%\n"
    }
   }
  },
  {
   "cell_type": "code",
   "execution_count": 10,
   "outputs": [
    {
     "name": "stdout",
     "output_type": "stream",
     "text": [
      "777/777 [==============================] - 32s 42ms/step\n"
     ]
    }
   ],
   "source": [
    "score, acc = VGG.evaluate_generator(generator=validation_generator,\n",
    "                       steps=Step_size_valid)\n",
    "test_generator.reset()\n",
    "\n",
    "pred = VGG.predict_generator(generator=test_generator,\n",
    "                             steps=Step_size_test,\n",
    "                             verbose=1)\n",
    "predicted_class_indces = np.argmax(pred, axis=1)"
   ],
   "metadata": {
    "collapsed": false,
    "pycharm": {
     "name": "#%%\n"
    }
   }
  },
  {
   "cell_type": "code",
   "execution_count": 11,
   "outputs": [],
   "source": [
    "labels = train_generator.class_indices\n",
    "labels = dict((v, k) for k, v in labels.items())\n",
    "predictions = [labels[k] for k in predicted_class_indces]"
   ],
   "metadata": {
    "collapsed": false,
    "pycharm": {
     "name": "#%%\n"
    }
   }
  },
  {
   "cell_type": "code",
   "execution_count": 12,
   "outputs": [],
   "source": [
    "filenames = test_generator.filenames\n",
    "results = pd.DataFrame({\"Filename\": filenames,\n",
    "                        \"Predictions\": predictions})\n",
    "results.to_csv(\"results.csv\", index=False)"
   ],
   "metadata": {
    "collapsed": false,
    "pycharm": {
     "name": "#%%\n"
    }
   }
  },
  {
   "cell_type": "code",
   "execution_count": 13,
   "outputs": [
    {
     "name": "stdout",
     "output_type": "stream",
     "text": [
      "Test score  1.6686983788013459\n",
      "Test acc 0.501875\n"
     ]
    },
    {
     "data": {
      "text/plain": "                                      Filename             Predictions\n0                  Abyssinian/Abyssinian_1.jpg            Russian_Blue\n1                 Abyssinian/Abyssinian_10.jpg              Abyssinian\n2                 Abyssinian/Abyssinian_11.jpg            Russian_Blue\n3                 Abyssinian/Abyssinian_12.jpg            Russian_Blue\n4                 Abyssinian/Abyssinian_13.jpg            Russian_Blue\n..                                         ...                     ...\n772  yorkshire_terrier/yorkshire_terrier_4.jpg       yorkshire_terrier\n773  yorkshire_terrier/yorkshire_terrier_5.jpg        scottish_terrier\n774  yorkshire_terrier/yorkshire_terrier_6.jpg       yorkshire_terrier\n775  yorkshire_terrier/yorkshire_terrier_7.jpg                keeshond\n776  yorkshire_terrier/yorkshire_terrier_9.jpg  english_cocker_spaniel\n\n[777 rows x 2 columns]",
      "text/html": "<div>\n<style scoped>\n    .dataframe tbody tr th:only-of-type {\n        vertical-align: middle;\n    }\n\n    .dataframe tbody tr th {\n        vertical-align: top;\n    }\n\n    .dataframe thead th {\n        text-align: right;\n    }\n</style>\n<table border=\"1\" class=\"dataframe\">\n  <thead>\n    <tr style=\"text-align: right;\">\n      <th></th>\n      <th>Filename</th>\n      <th>Predictions</th>\n    </tr>\n  </thead>\n  <tbody>\n    <tr>\n      <th>0</th>\n      <td>Abyssinian/Abyssinian_1.jpg</td>\n      <td>Russian_Blue</td>\n    </tr>\n    <tr>\n      <th>1</th>\n      <td>Abyssinian/Abyssinian_10.jpg</td>\n      <td>Abyssinian</td>\n    </tr>\n    <tr>\n      <th>2</th>\n      <td>Abyssinian/Abyssinian_11.jpg</td>\n      <td>Russian_Blue</td>\n    </tr>\n    <tr>\n      <th>3</th>\n      <td>Abyssinian/Abyssinian_12.jpg</td>\n      <td>Russian_Blue</td>\n    </tr>\n    <tr>\n      <th>4</th>\n      <td>Abyssinian/Abyssinian_13.jpg</td>\n      <td>Russian_Blue</td>\n    </tr>\n    <tr>\n      <th>...</th>\n      <td>...</td>\n      <td>...</td>\n    </tr>\n    <tr>\n      <th>772</th>\n      <td>yorkshire_terrier/yorkshire_terrier_4.jpg</td>\n      <td>yorkshire_terrier</td>\n    </tr>\n    <tr>\n      <th>773</th>\n      <td>yorkshire_terrier/yorkshire_terrier_5.jpg</td>\n      <td>scottish_terrier</td>\n    </tr>\n    <tr>\n      <th>774</th>\n      <td>yorkshire_terrier/yorkshire_terrier_6.jpg</td>\n      <td>yorkshire_terrier</td>\n    </tr>\n    <tr>\n      <th>775</th>\n      <td>yorkshire_terrier/yorkshire_terrier_7.jpg</td>\n      <td>keeshond</td>\n    </tr>\n    <tr>\n      <th>776</th>\n      <td>yorkshire_terrier/yorkshire_terrier_9.jpg</td>\n      <td>english_cocker_spaniel</td>\n    </tr>\n  </tbody>\n</table>\n<p>777 rows × 2 columns</p>\n</div>"
     },
     "execution_count": 13,
     "metadata": {},
     "output_type": "execute_result"
    }
   ],
   "source": [
    "print(\"Test score \", score)\n",
    "print(\"Test acc\", acc)\n",
    "results"
   ],
   "metadata": {
    "collapsed": false,
    "pycharm": {
     "name": "#%%\n"
    }
   }
  },
  {
   "cell_type": "code",
   "execution_count": null,
   "outputs": [],
   "source": [],
   "metadata": {
    "collapsed": false,
    "pycharm": {
     "name": "#%%\n"
    }
   }
  },
  {
   "cell_type": "code",
   "execution_count": null,
   "outputs": [],
   "source": [],
   "metadata": {
    "collapsed": false,
    "pycharm": {
     "name": "#%%\n"
    }
   }
  }
 ],
 "metadata": {
  "kernelspec": {
   "display_name": "Python 3 (ipykernel)",
   "language": "python",
   "name": "python3"
  },
  "language_info": {
   "codemirror_mode": {
    "name": "ipython",
    "version": 3
   },
   "file_extension": ".py",
   "mimetype": "text/x-python",
   "name": "python",
   "nbconvert_exporter": "python",
   "pygments_lexer": "ipython3",
   "version": "3.7.13"
  }
 },
 "nbformat": 4,
 "nbformat_minor": 5
}