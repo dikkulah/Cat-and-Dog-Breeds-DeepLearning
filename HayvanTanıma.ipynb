{
 "cells": [
  {
   "cell_type": "code",
   "execution_count": 34,
   "id": "8f13370b",
   "metadata": {
    "pycharm": {
     "name": "#%%\n"
    }
   },
   "outputs": [],
   "source": [
    "#\"Hayvan Tanıma Git Repostory Oluşturuldu\""
   ]
  },
  {
   "cell_type": "code",
   "execution_count": 35,
   "id": "91a60425",
   "metadata": {
    "pycharm": {
     "name": "#%%\n"
    }
   },
   "outputs": [],
   "source": [
    "import os\n",
    "from tensorflow.python.keras.optimizers import SGD\n",
    "\n",
    "import matplotlib.pyplot as plt\n",
    "from tensorflow import keras\n",
    "from tensorflow.keras.models import Model, Sequential\n",
    "from tensorflow.keras.layers import Dense, Flatten, Conv2D, MaxPool2D, Dropout\n",
    "from tensorflow.keras.applications.vgg16 import VGG16, preprocess_input\n",
    "from tensorflow.keras.preprocessing.image import ImageDataGenerator\n",
    "from tensorflow.keras.callbacks import ModelCheckpoint, EarlyStopping, TensorBoard, History\n",
    "import tensorflow as tf\n",
    "from time import time\n",
    "import numpy as np\n",
    "import pandas as pd\n",
    "\n",
    "os.environ[\"TF_CPP_MIN_LOG_LEVEL\"] = \"2\"  # UYARILARI KAPATMA\n"
   ]
  },
  {
   "cell_type": "code",
   "execution_count": 36,
   "outputs": [
    {
     "name": "stdout",
     "output_type": "stream",
     "text": [
      "Found 4987 images belonging to 37 classes.\n",
      "Found 1626 images belonging to 37 classes.\n",
      "Found 777 images belonging to 37 classes.\n"
     ]
    }
   ],
   "source": [
    "#print(os.listdir(\"./images/train\"))\n",
    "SIZE = 224\n",
    "EPOCH = 50\n",
    "BATCH = 32\n",
    "train_directory = \"images/train/\"\n",
    "valid_directory = \"images/valid/\"\n",
    "test_directory = \"images/test/\"\n",
    "\n",
    "data_aug = ImageDataGenerator(rotation_range=40,\n",
    "                              width_shift_range=0.2,\n",
    "                              height_shift_range=0.2,\n",
    "                              shear_range=0.2,\n",
    "                              rescale=1. / 255,\n",
    "                              zoom_range=0.2,\n",
    "                              horizontal_flip=True,\n",
    "                              fill_mode=\"nearest\",\n",
    "                              validation_split=0.25\n",
    "                              )\n",
    "test_aug = ImageDataGenerator(rescale = 1./255)\n",
    "#Max batch size= available GPU memory bytes / 4 / (size of tensors + trainable parameters)\n",
    "train_generator = data_aug.flow_from_directory(directory=train_directory,\n",
    "                                               batch_size=BATCH,\n",
    "                                               shuffle=True,\n",
    "                                               class_mode=\"categorical\",\n",
    "                                               color_mode=\"rgb\",\n",
    "                                               target_size=(SIZE, SIZE),\n",
    "                                               interpolation=\"nearest\",\n",
    "                                               subset=\"training\",\n",
    "                                               seed=42\n",
    "                                               )\n",
    "validation_generator = data_aug.flow_from_directory(directory=train_directory,\n",
    "                                                    batch_size=BATCH,\n",
    "                                                    shuffle=True,\n",
    "                                                    class_mode=\"categorical\",\n",
    "                                                    color_mode=\"rgb\",\n",
    "                                                    target_size=(SIZE, SIZE),\n",
    "                                                    interpolation=\"nearest\",\n",
    "                                                    subset=\"validation\",\n",
    "                                                    seed=42\n",
    "                                                    )\n",
    "test_generator = test_aug.flow_from_directory(directory=test_directory,\n",
    "                                              batch_size=1,\n",
    "                                              shuffle=False,\n",
    "                                              class_mode=\"categorical\",\n",
    "                                              target_size=(SIZE, SIZE)\n",
    "                                              )\n",
    "\n",
    "\n"
   ],
   "metadata": {
    "collapsed": false,
    "pycharm": {
     "name": "#%%\n"
    }
   }
  },
  {
   "cell_type": "code",
   "execution_count": 37,
   "outputs": [
    {
     "name": "stdout",
     "output_type": "stream",
     "text": [
      "{'Abyssinian': 0, 'Bengal': 1, 'Birman': 2, 'Bombay': 3, 'British_Shorthair': 4, 'Egyptian_Mau': 5, 'Maine_Coon': 6, 'Persian': 7, 'Ragdoll': 8, 'Russian_Blue': 9, 'Siamese': 10, 'Sphynx': 11, 'american_bulldog': 12, 'american_pit_bull_terrier': 13, 'basset_hound': 14, 'beagle': 15, 'boxer': 16, 'chihuahua': 17, 'english_cocker_spaniel': 18, 'english_setter': 19, 'german_shorthaired': 20, 'great_pyrenees': 21, 'havanese': 22, 'japanese_chin': 23, 'keeshond': 24, 'leonberger': 25, 'miniature_pinscher': 26, 'newfoundland': 27, 'pomeranian': 28, 'pug': 29, 'saint_bernard': 30, 'samoyed': 31, 'scottish_terrier': 32, 'shiba_inu': 33, 'staffordshire_bull_terrier': 34, 'wheaten_terrier': 35, 'yorkshire_terrier': 36}\n"
     ]
    }
   ],
   "source": [
    "print(train_generator.class_indices)"
   ],
   "metadata": {
    "collapsed": false,
    "pycharm": {
     "name": "#%%\n"
    }
   }
  },
  {
   "cell_type": "code",
   "execution_count": 38,
   "outputs": [],
   "source": [
    "tf.keras.backend.clear_session()"
   ],
   "metadata": {
    "collapsed": false,
    "pycharm": {
     "name": "#%%\n"
    }
   }
  },
  {
   "cell_type": "code",
   "execution_count": 39,
   "outputs": [
    {
     "name": "stdout",
     "output_type": "stream",
     "text": [
      "Model: \"sequential\"\n",
      "_________________________________________________________________\n",
      "Layer (type)                 Output Shape              Param #   \n",
      "=================================================================\n",
      "vgg16 (Model)                (None, 512)               14714688  \n",
      "_________________________________________________________________\n",
      "flatten (Flatten)            (None, 512)               0         \n",
      "_________________________________________________________________\n",
      "dense (Dense)                (None, 4096)              2101248   \n",
      "_________________________________________________________________\n",
      "dropout (Dropout)            (None, 4096)              0         \n",
      "_________________________________________________________________\n",
      "dense_1 (Dense)              (None, 1024)              4195328   \n",
      "_________________________________________________________________\n",
      "dropout_1 (Dropout)          (None, 1024)              0         \n",
      "_________________________________________________________________\n",
      "dense_2 (Dense)              (None, 37)                37925     \n",
      "=================================================================\n",
      "Total params: 21,049,189\n",
      "Trainable params: 6,334,501\n",
      "Non-trainable params: 14,714,688\n",
      "_________________________________________________________________\n",
      "0 input_1 False\n",
      "1 block1_conv1 False\n",
      "2 block1_conv2 False\n",
      "3 block1_pool False\n",
      "4 block2_conv1 False\n",
      "5 block2_conv2 False\n",
      "6 block2_pool False\n",
      "7 block3_conv1 False\n",
      "8 block3_conv2 False\n",
      "9 block3_conv3 False\n",
      "10 block3_pool False\n",
      "11 block4_conv1 False\n",
      "12 block4_conv2 False\n",
      "13 block4_conv3 False\n",
      "14 block4_pool False\n",
      "15 block5_conv1 False\n",
      "16 block5_conv2 False\n",
      "17 block5_conv3 False\n",
      "18 block5_pool False\n",
      "19 global_average_pooling2d False\n"
     ]
    }
   ],
   "source": [
    "\n",
    "vgg16_model = VGG16(pooling=\"avg\", input_shape=(224, 224, 3), weights=\"imagenet\", include_top=False)\n",
    "for layer in vgg16_model.layers:\n",
    "    layer.trainable = False\n",
    "VGG = tf.keras.Sequential([\n",
    "    vgg16_model,\n",
    "    Flatten(),\n",
    "    Dense(units=4096, activation=\"relu\"),\n",
    "    Dropout(0.1),\n",
    "    Dense(units=1024, activation=\"relu\"),\n",
    "    Dropout(0.1),\n",
    "    Dense(units=37, activation=\"softmax\"),\n",
    "])\n",
    "opt = SGD(lr=0.0005, momentum=0.9, decay=0.01)\n",
    "\n",
    "VGG.compile(loss=\"categorical_crossentropy\", optimizer=\"adam\",\n",
    "            metrics=[\"acc\"])\n",
    "\n",
    "VGG.summary()\n",
    "for i, layer in enumerate(vgg16_model.layers):\n",
    "    print(i, layer.name, layer.trainable)"
   ],
   "metadata": {
    "collapsed": false,
    "pycharm": {
     "name": "#%%\n"
    }
   }
  },
  {
   "cell_type": "code",
   "execution_count": 40,
   "outputs": [
    {
     "name": "stdout",
     "output_type": "stream",
     "text": [
      "155 50\n",
      "Epoch 1/50\n",
      "  2/155 [..............................] - ETA: 3:42 - loss: 3.9544 - acc: 0.0156    "
     ]
    },
    {
     "name": "stderr",
     "output_type": "stream",
     "text": [
      "2022-05-02 02:20:46.365654: E tensorflow/core/platform/default/device_tracer.cc:68] CUPTI error: CUPTI_ERROR_INVALID_PARAMETER\n"
     ]
    },
    {
     "name": "stdout",
     "output_type": "stream",
     "text": [
      "154/155 [============================>.] - ETA: 0s - loss: 3.3388 - acc: 0.0750\n",
      "Epoch 00001: val_acc improved from -inf to 0.15313, saving model to vgg_16_-saved-model-01-acc-0.15.hdf5\n",
      "155/155 [==============================] - 136s 874ms/step - loss: 3.3364 - acc: 0.0757 - val_loss: 2.8617 - val_acc: 0.1531\n",
      "Epoch 2/50\n",
      "154/155 [============================>.] - ETA: 0s - loss: 2.6423 - acc: 0.2035\n",
      "Epoch 00002: val_acc improved from 0.15313 to 0.23812, saving model to vgg_16_-saved-model-02-acc-0.24.hdf5\n",
      "155/155 [==============================] - 139s 900ms/step - loss: 2.6402 - acc: 0.2048 - val_loss: 2.4800 - val_acc: 0.2381\n",
      "Epoch 3/50\n",
      "154/155 [============================>.] - ETA: 0s - loss: 2.2853 - acc: 0.2941\n",
      "Epoch 00003: val_acc improved from 0.23812 to 0.32063, saving model to vgg_16_-saved-model-03-acc-0.32.hdf5\n",
      "155/155 [==============================] - 141s 907ms/step - loss: 2.2861 - acc: 0.2940 - val_loss: 2.1731 - val_acc: 0.3206\n",
      "Epoch 4/50\n",
      "154/155 [============================>.] - ETA: 0s - loss: 2.1065 - acc: 0.3431\n",
      "Epoch 00004: val_acc improved from 0.32063 to 0.33750, saving model to vgg_16_-saved-model-04-acc-0.34.hdf5\n",
      "155/155 [==============================] - 139s 897ms/step - loss: 2.1035 - acc: 0.3439 - val_loss: 2.1362 - val_acc: 0.3375\n",
      "Epoch 5/50\n",
      "154/155 [============================>.] - ETA: 0s - loss: 1.9640 - acc: 0.3941\n",
      "Epoch 00005: val_acc improved from 0.33750 to 0.39625, saving model to vgg_16_-saved-model-05-acc-0.40.hdf5\n",
      "155/155 [==============================] - 138s 890ms/step - loss: 1.9653 - acc: 0.3937 - val_loss: 1.9777 - val_acc: 0.3963\n",
      "Epoch 6/50\n",
      "154/155 [============================>.] - ETA: 0s - loss: 1.8744 - acc: 0.4178\n",
      "Epoch 00006: val_acc improved from 0.39625 to 0.40875, saving model to vgg_16_-saved-model-06-acc-0.41.hdf5\n",
      "155/155 [==============================] - 139s 894ms/step - loss: 1.8756 - acc: 0.4182 - val_loss: 1.9116 - val_acc: 0.4087\n",
      "Epoch 7/50\n",
      "154/155 [============================>.] - ETA: 0s - loss: 1.7955 - acc: 0.4438\n",
      "Epoch 00007: val_acc improved from 0.40875 to 0.42250, saving model to vgg_16_-saved-model-07-acc-0.42.hdf5\n",
      "155/155 [==============================] - 141s 910ms/step - loss: 1.7941 - acc: 0.4440 - val_loss: 1.8628 - val_acc: 0.4225\n",
      "Epoch 8/50\n",
      "154/155 [============================>.] - ETA: 0s - loss: 1.7277 - acc: 0.4544\n",
      "Epoch 00008: val_acc did not improve from 0.42250\n",
      "155/155 [==============================] - 139s 899ms/step - loss: 1.7269 - acc: 0.4545 - val_loss: 1.8830 - val_acc: 0.4013\n",
      "Epoch 9/50\n",
      "154/155 [============================>.] - ETA: 0s - loss: 1.7103 - acc: 0.4674\n",
      "Epoch 00009: val_acc improved from 0.42250 to 0.44438, saving model to vgg_16_-saved-model-09-acc-0.44.hdf5\n",
      "155/155 [==============================] - 141s 907ms/step - loss: 1.7087 - acc: 0.4678 - val_loss: 1.8009 - val_acc: 0.4444\n",
      "Epoch 10/50\n",
      "154/155 [============================>.] - ETA: 0s - loss: 1.6378 - acc: 0.4860\n",
      "Epoch 00010: val_acc improved from 0.44438 to 0.45750, saving model to vgg_16_-saved-model-10-acc-0.46.hdf5\n",
      "155/155 [==============================] - 134s 865ms/step - loss: 1.6393 - acc: 0.4859 - val_loss: 1.7752 - val_acc: 0.4575\n",
      "Epoch 11/50\n",
      "154/155 [============================>.] - ETA: 0s - loss: 1.6101 - acc: 0.4884\n",
      "Epoch 00011: val_acc did not improve from 0.45750\n",
      "155/155 [==============================] - 139s 897ms/step - loss: 1.6108 - acc: 0.4883 - val_loss: 1.7913 - val_acc: 0.4456\n",
      "Epoch 12/50\n",
      "154/155 [============================>.] - ETA: 0s - loss: 1.5930 - acc: 0.4962\n",
      "Epoch 00012: val_acc did not improve from 0.45750\n",
      "155/155 [==============================] - 134s 866ms/step - loss: 1.5920 - acc: 0.4961 - val_loss: 1.7564 - val_acc: 0.4575\n",
      "Epoch 13/50\n",
      "154/155 [============================>.] - ETA: 0s - loss: 1.5544 - acc: 0.5161\n",
      "Epoch 00013: val_acc did not improve from 0.45750\n",
      "155/155 [==============================] - 137s 882ms/step - loss: 1.5540 - acc: 0.5156 - val_loss: 1.7621 - val_acc: 0.4437\n",
      "Epoch 14/50\n",
      "154/155 [============================>.] - ETA: 0s - loss: 1.5195 - acc: 0.5216\n",
      "Epoch 00014: val_acc improved from 0.45750 to 0.45937, saving model to vgg_16_-saved-model-14-acc-0.46.hdf5\n",
      "155/155 [==============================] - 141s 909ms/step - loss: 1.5207 - acc: 0.5217 - val_loss: 1.7844 - val_acc: 0.4594\n",
      "Epoch 15/50\n",
      "154/155 [============================>.] - ETA: 0s - loss: 1.4853 - acc: 0.5348\n",
      "Epoch 00015: val_acc improved from 0.45937 to 0.47625, saving model to vgg_16_-saved-model-15-acc-0.48.hdf5\n",
      "155/155 [==============================] - 145s 935ms/step - loss: 1.4836 - acc: 0.5356 - val_loss: 1.7226 - val_acc: 0.4762\n",
      "Epoch 16/50\n",
      "154/155 [============================>.] - ETA: 0s - loss: 1.4819 - acc: 0.5306\n",
      "Epoch 00016: val_acc did not improve from 0.47625\n",
      "155/155 [==============================] - 147s 948ms/step - loss: 1.4824 - acc: 0.5304 - val_loss: 1.7287 - val_acc: 0.4625\n",
      "Epoch 17/50\n",
      "154/155 [============================>.] - ETA: 0s - loss: 1.4412 - acc: 0.5501\n",
      "Epoch 00017: val_acc did not improve from 0.47625\n",
      "155/155 [==============================] - 147s 946ms/step - loss: 1.4429 - acc: 0.5495 - val_loss: 1.7163 - val_acc: 0.4656\n",
      "Epoch 18/50\n",
      "154/155 [============================>.] - ETA: 0s - loss: 1.4025 - acc: 0.5639\n",
      "Epoch 00018: val_acc improved from 0.47625 to 0.48000, saving model to vgg_16_-saved-model-18-acc-0.48.hdf5\n",
      "155/155 [==============================] - 147s 951ms/step - loss: 1.4024 - acc: 0.5645 - val_loss: 1.7485 - val_acc: 0.4800\n",
      "Epoch 19/50\n",
      "154/155 [============================>.] - ETA: 0s - loss: 1.3820 - acc: 0.5635\n",
      "Epoch 00019: val_acc did not improve from 0.48000\n",
      "155/155 [==============================] - 146s 943ms/step - loss: 1.3842 - acc: 0.5623 - val_loss: 1.7233 - val_acc: 0.4600\n",
      "Epoch 20/50\n",
      "154/155 [============================>.] - ETA: 0s - loss: 1.3889 - acc: 0.5598\n",
      "Epoch 00020: val_acc did not improve from 0.48000\n",
      "155/155 [==============================] - 130s 842ms/step - loss: 1.3885 - acc: 0.5600 - val_loss: 1.7502 - val_acc: 0.4737\n",
      "Epoch 21/50\n",
      "154/155 [============================>.] - ETA: 0s - loss: 1.3849 - acc: 0.5556\n",
      "Epoch 00021: val_acc improved from 0.48000 to 0.48063, saving model to vgg_16_-saved-model-21-acc-0.48.hdf5\n",
      "155/155 [==============================] - 140s 901ms/step - loss: 1.3840 - acc: 0.5558 - val_loss: 1.6816 - val_acc: 0.4806\n",
      "Epoch 22/50\n",
      "154/155 [============================>.] - ETA: 0s - loss: 1.3258 - acc: 0.5809\n",
      "Epoch 00022: val_acc improved from 0.48063 to 0.49687, saving model to vgg_16_-saved-model-22-acc-0.50.hdf5\n",
      "155/155 [==============================] - 135s 872ms/step - loss: 1.3266 - acc: 0.5804 - val_loss: 1.6434 - val_acc: 0.4969\n",
      "Epoch 23/50\n",
      "154/155 [============================>.] - ETA: 0s - loss: 1.3188 - acc: 0.5751\n",
      "Epoch 00023: val_acc did not improve from 0.49687\n",
      "155/155 [==============================] - 143s 922ms/step - loss: 1.3169 - acc: 0.5762 - val_loss: 1.7233 - val_acc: 0.4875\n",
      "Epoch 24/50\n",
      "154/155 [============================>.] - ETA: 0s - loss: 1.3070 - acc: 0.5811\n",
      "Epoch 00024: val_acc did not improve from 0.49687\n",
      "155/155 [==============================] - 143s 920ms/step - loss: 1.3065 - acc: 0.5814 - val_loss: 1.6857 - val_acc: 0.4931\n",
      "Epoch 25/50\n",
      "154/155 [============================>.] - ETA: 0s - loss: 1.2847 - acc: 0.5876\n",
      "Epoch 00025: val_acc did not improve from 0.49687\n",
      "155/155 [==============================] - 137s 884ms/step - loss: 1.2831 - acc: 0.5883 - val_loss: 1.7530 - val_acc: 0.4869\n",
      "Epoch 26/50\n",
      "154/155 [============================>.] - ETA: 0s - loss: 1.2461 - acc: 0.5998\n",
      "Epoch 00026: val_acc did not improve from 0.49687\n",
      "155/155 [==============================] - 138s 889ms/step - loss: 1.2470 - acc: 0.5992 - val_loss: 1.8035 - val_acc: 0.4750\n",
      "Epoch 27/50\n",
      "154/155 [============================>.] - ETA: 0s - loss: 1.2627 - acc: 0.5939\n",
      "Epoch 00027: val_acc did not improve from 0.49687\n",
      "155/155 [==============================] - 138s 890ms/step - loss: 1.2623 - acc: 0.5941 - val_loss: 1.7120 - val_acc: 0.4875\n",
      "Epoch 28/50\n",
      "154/155 [============================>.] - ETA: 0s - loss: 1.2415 - acc: 0.6082\n",
      "Epoch 00028: val_acc did not improve from 0.49687\n",
      "155/155 [==============================] - 139s 896ms/step - loss: 1.2405 - acc: 0.6085 - val_loss: 1.7713 - val_acc: 0.4750\n",
      "Epoch 29/50\n",
      "154/155 [============================>.] - ETA: 0s - loss: 1.1912 - acc: 0.6220\n",
      "Epoch 00029: val_acc improved from 0.49687 to 0.50375, saving model to vgg_16_-saved-model-29-acc-0.50.hdf5\n",
      "155/155 [==============================] - 140s 902ms/step - loss: 1.1912 - acc: 0.6218 - val_loss: 1.6850 - val_acc: 0.5038\n",
      "Epoch 30/50\n",
      "154/155 [============================>.] - ETA: 0s - loss: 1.1690 - acc: 0.6287\n",
      "Epoch 00030: val_acc did not improve from 0.50375\n",
      "155/155 [==============================] - 138s 887ms/step - loss: 1.1672 - acc: 0.6293 - val_loss: 1.7476 - val_acc: 0.4956\n",
      "Epoch 31/50\n",
      "154/155 [============================>.] - ETA: 0s - loss: 1.1664 - acc: 0.6216\n",
      "Epoch 00031: val_acc did not improve from 0.50375\n",
      "155/155 [==============================] - 137s 886ms/step - loss: 1.1651 - acc: 0.6220 - val_loss: 1.7795 - val_acc: 0.4837\n",
      "Epoch 32/50\n",
      "154/155 [============================>.] - ETA: 0s - loss: 1.1495 - acc: 0.6251\n",
      "Epoch 00032: val_acc did not improve from 0.50375\n",
      "155/155 [==============================] - 136s 877ms/step - loss: 1.1484 - acc: 0.6261 - val_loss: 1.7592 - val_acc: 0.4794\n",
      "Epoch 33/50\n",
      "154/155 [============================>.] - ETA: 0s - loss: 1.1646 - acc: 0.6236\n",
      "Epoch 00033: val_acc did not improve from 0.50375\n",
      "155/155 [==============================] - 137s 885ms/step - loss: 1.1646 - acc: 0.6236 - val_loss: 1.6654 - val_acc: 0.4919\n",
      "Epoch 34/50\n",
      "154/155 [============================>.] - ETA: 0s - loss: 1.0969 - acc: 0.6502\n",
      "Epoch 00034: val_acc improved from 0.50375 to 0.51688, saving model to vgg_16_-saved-model-34-acc-0.52.hdf5\n",
      "155/155 [==============================] - 144s 930ms/step - loss: 1.1010 - acc: 0.6486 - val_loss: 1.6701 - val_acc: 0.5169\n",
      "Epoch 35/50\n",
      "154/155 [============================>.] - ETA: 0s - loss: 1.1071 - acc: 0.6415\n",
      "Epoch 00035: val_acc did not improve from 0.51688\n",
      "155/155 [==============================] - 143s 922ms/step - loss: 1.1055 - acc: 0.6414 - val_loss: 1.7094 - val_acc: 0.5025\n",
      "Epoch 36/50\n",
      "154/155 [============================>.] - ETA: 0s - loss: 1.0742 - acc: 0.6551\n",
      "Epoch 00036: val_acc improved from 0.51688 to 0.52188, saving model to vgg_16_-saved-model-36-acc-0.52.hdf5\n",
      "155/155 [==============================] - 135s 868ms/step - loss: 1.0745 - acc: 0.6549 - val_loss: 1.7263 - val_acc: 0.5219\n",
      "Epoch 37/50\n",
      "154/155 [============================>.] - ETA: 0s - loss: 1.0865 - acc: 0.6425\n",
      "Epoch 00037: val_acc did not improve from 0.52188\n",
      "155/155 [==============================] - 135s 874ms/step - loss: 1.0872 - acc: 0.6424 - val_loss: 1.7662 - val_acc: 0.4938\n",
      "Epoch 38/50\n",
      "154/155 [============================>.] - ETA: 0s - loss: 1.0768 - acc: 0.6575\n",
      "Epoch 00038: val_acc did not improve from 0.52188\n",
      "155/155 [==============================] - 138s 888ms/step - loss: 1.0782 - acc: 0.6567 - val_loss: 1.7248 - val_acc: 0.5081\n",
      "Epoch 39/50\n",
      "154/155 [============================>.] - ETA: 0s - loss: 1.0665 - acc: 0.6535\n",
      "Epoch 00039: val_acc did not improve from 0.52188\n",
      "155/155 [==============================] - 135s 868ms/step - loss: 1.0668 - acc: 0.6537 - val_loss: 1.7987 - val_acc: 0.4863\n",
      "Epoch 40/50\n",
      "116/155 [=====================>........] - ETA: 2:03 - loss: 1.0456 - acc: 0.6650"
     ]
    },
    {
     "ename": "KeyboardInterrupt",
     "evalue": "",
     "output_type": "error",
     "traceback": [
      "\u001B[0;31m---------------------------------------------------------------------------\u001B[0m",
      "\u001B[0;31mKeyboardInterrupt\u001B[0m                         Traceback (most recent call last)",
      "\u001B[0;32m/tmp/ipykernel_99917/604334133.py\u001B[0m in \u001B[0;36m<module>\u001B[0;34m\u001B[0m\n\u001B[1;32m     24\u001B[0m     \u001B[0mcallbacks\u001B[0m\u001B[0;34m=\u001B[0m\u001B[0;34m[\u001B[0m\u001B[0mvgg16_history_callback\u001B[0m\u001B[0;34m,\u001B[0m \u001B[0mvgg16_checkpoint\u001B[0m\u001B[0;34m,\u001B[0m \u001B[0mvgg16_tensorboard\u001B[0m\u001B[0;34m,\u001B[0m \u001B[0mearly\u001B[0m\u001B[0;34m]\u001B[0m\u001B[0;34m,\u001B[0m\u001B[0;34m\u001B[0m\u001B[0;34m\u001B[0m\u001B[0m\n\u001B[1;32m     25\u001B[0m     \u001B[0msteps_per_epoch\u001B[0m\u001B[0;34m=\u001B[0m\u001B[0mStep_size_train\u001B[0m\u001B[0;34m,\u001B[0m\u001B[0;34m\u001B[0m\u001B[0;34m\u001B[0m\u001B[0m\n\u001B[0;32m---> 26\u001B[0;31m     \u001B[0mvalidation_steps\u001B[0m\u001B[0;34m=\u001B[0m\u001B[0mStep_size_valid\u001B[0m\u001B[0;34m\u001B[0m\u001B[0;34m\u001B[0m\u001B[0m\n\u001B[0m\u001B[1;32m     27\u001B[0m )\n\u001B[1;32m     28\u001B[0m \u001B[0;34m\u001B[0m\u001B[0m\n",
      "\u001B[0;32m~/anaconda3/envs/tensor/lib/python3.7/site-packages/tensorflow/python/keras/engine/training.py\u001B[0m in \u001B[0;36mfit_generator\u001B[0;34m(self, generator, steps_per_epoch, epochs, verbose, callbacks, validation_data, validation_steps, validation_freq, class_weight, max_queue_size, workers, use_multiprocessing, shuffle, initial_epoch)\u001B[0m\n\u001B[1;32m   1431\u001B[0m         \u001B[0mshuffle\u001B[0m\u001B[0;34m=\u001B[0m\u001B[0mshuffle\u001B[0m\u001B[0;34m,\u001B[0m\u001B[0;34m\u001B[0m\u001B[0;34m\u001B[0m\u001B[0m\n\u001B[1;32m   1432\u001B[0m         \u001B[0minitial_epoch\u001B[0m\u001B[0;34m=\u001B[0m\u001B[0minitial_epoch\u001B[0m\u001B[0;34m,\u001B[0m\u001B[0;34m\u001B[0m\u001B[0;34m\u001B[0m\u001B[0m\n\u001B[0;32m-> 1433\u001B[0;31m         steps_name='steps_per_epoch')\n\u001B[0m\u001B[1;32m   1434\u001B[0m \u001B[0;34m\u001B[0m\u001B[0m\n\u001B[1;32m   1435\u001B[0m   def evaluate_generator(self,\n",
      "\u001B[0;32m~/anaconda3/envs/tensor/lib/python3.7/site-packages/tensorflow/python/keras/engine/training_generator.py\u001B[0m in \u001B[0;36mmodel_iteration\u001B[0;34m(model, data, steps_per_epoch, epochs, verbose, callbacks, validation_data, validation_steps, validation_freq, class_weight, max_queue_size, workers, use_multiprocessing, shuffle, initial_epoch, mode, batch_size, steps_name, **kwargs)\u001B[0m\n\u001B[1;32m    262\u001B[0m \u001B[0;34m\u001B[0m\u001B[0m\n\u001B[1;32m    263\u001B[0m       \u001B[0mis_deferred\u001B[0m \u001B[0;34m=\u001B[0m \u001B[0;32mnot\u001B[0m \u001B[0mmodel\u001B[0m\u001B[0;34m.\u001B[0m\u001B[0m_is_compiled\u001B[0m\u001B[0;34m\u001B[0m\u001B[0;34m\u001B[0m\u001B[0m\n\u001B[0;32m--> 264\u001B[0;31m       \u001B[0mbatch_outs\u001B[0m \u001B[0;34m=\u001B[0m \u001B[0mbatch_function\u001B[0m\u001B[0;34m(\u001B[0m\u001B[0;34m*\u001B[0m\u001B[0mbatch_data\u001B[0m\u001B[0;34m)\u001B[0m\u001B[0;34m\u001B[0m\u001B[0;34m\u001B[0m\u001B[0m\n\u001B[0m\u001B[1;32m    265\u001B[0m       \u001B[0;32mif\u001B[0m \u001B[0;32mnot\u001B[0m \u001B[0misinstance\u001B[0m\u001B[0;34m(\u001B[0m\u001B[0mbatch_outs\u001B[0m\u001B[0;34m,\u001B[0m \u001B[0mlist\u001B[0m\u001B[0;34m)\u001B[0m\u001B[0;34m:\u001B[0m\u001B[0;34m\u001B[0m\u001B[0;34m\u001B[0m\u001B[0m\n\u001B[1;32m    266\u001B[0m         \u001B[0mbatch_outs\u001B[0m \u001B[0;34m=\u001B[0m \u001B[0;34m[\u001B[0m\u001B[0mbatch_outs\u001B[0m\u001B[0;34m]\u001B[0m\u001B[0;34m\u001B[0m\u001B[0;34m\u001B[0m\u001B[0m\n",
      "\u001B[0;32m~/anaconda3/envs/tensor/lib/python3.7/site-packages/tensorflow/python/keras/engine/training.py\u001B[0m in \u001B[0;36mtrain_on_batch\u001B[0;34m(self, x, y, sample_weight, class_weight, reset_metrics)\u001B[0m\n\u001B[1;32m   1173\u001B[0m       \u001B[0mself\u001B[0m\u001B[0;34m.\u001B[0m\u001B[0m_update_sample_weight_modes\u001B[0m\u001B[0;34m(\u001B[0m\u001B[0msample_weights\u001B[0m\u001B[0;34m=\u001B[0m\u001B[0msample_weights\u001B[0m\u001B[0;34m)\u001B[0m\u001B[0;34m\u001B[0m\u001B[0;34m\u001B[0m\u001B[0m\n\u001B[1;32m   1174\u001B[0m       \u001B[0mself\u001B[0m\u001B[0;34m.\u001B[0m\u001B[0m_make_train_function\u001B[0m\u001B[0;34m(\u001B[0m\u001B[0;34m)\u001B[0m\u001B[0;34m\u001B[0m\u001B[0;34m\u001B[0m\u001B[0m\n\u001B[0;32m-> 1175\u001B[0;31m       \u001B[0moutputs\u001B[0m \u001B[0;34m=\u001B[0m \u001B[0mself\u001B[0m\u001B[0;34m.\u001B[0m\u001B[0mtrain_function\u001B[0m\u001B[0;34m(\u001B[0m\u001B[0mins\u001B[0m\u001B[0;34m)\u001B[0m  \u001B[0;31m# pylint: disable=not-callable\u001B[0m\u001B[0;34m\u001B[0m\u001B[0;34m\u001B[0m\u001B[0m\n\u001B[0m\u001B[1;32m   1176\u001B[0m \u001B[0;34m\u001B[0m\u001B[0m\n\u001B[1;32m   1177\u001B[0m     \u001B[0;32mif\u001B[0m \u001B[0mreset_metrics\u001B[0m\u001B[0;34m:\u001B[0m\u001B[0;34m\u001B[0m\u001B[0;34m\u001B[0m\u001B[0m\n",
      "\u001B[0;32m~/anaconda3/envs/tensor/lib/python3.7/site-packages/tensorflow/python/keras/backend.py\u001B[0m in \u001B[0;36m__call__\u001B[0;34m(self, inputs)\u001B[0m\n\u001B[1;32m   3290\u001B[0m \u001B[0;34m\u001B[0m\u001B[0m\n\u001B[1;32m   3291\u001B[0m     fetched = self._callable_fn(*array_vals,\n\u001B[0;32m-> 3292\u001B[0;31m                                 run_metadata=self.run_metadata)\n\u001B[0m\u001B[1;32m   3293\u001B[0m     \u001B[0mself\u001B[0m\u001B[0;34m.\u001B[0m\u001B[0m_call_fetch_callbacks\u001B[0m\u001B[0;34m(\u001B[0m\u001B[0mfetched\u001B[0m\u001B[0;34m[\u001B[0m\u001B[0;34m-\u001B[0m\u001B[0mlen\u001B[0m\u001B[0;34m(\u001B[0m\u001B[0mself\u001B[0m\u001B[0;34m.\u001B[0m\u001B[0m_fetches\u001B[0m\u001B[0;34m)\u001B[0m\u001B[0;34m:\u001B[0m\u001B[0;34m]\u001B[0m\u001B[0;34m)\u001B[0m\u001B[0;34m\u001B[0m\u001B[0;34m\u001B[0m\u001B[0m\n\u001B[1;32m   3294\u001B[0m     output_structure = nest.pack_sequence_as(\n",
      "\u001B[0;32m~/anaconda3/envs/tensor/lib/python3.7/site-packages/tensorflow/python/client/session.py\u001B[0m in \u001B[0;36m__call__\u001B[0;34m(self, *args, **kwargs)\u001B[0m\n\u001B[1;32m   1456\u001B[0m         ret = tf_session.TF_SessionRunCallable(self._session._session,\n\u001B[1;32m   1457\u001B[0m                                                \u001B[0mself\u001B[0m\u001B[0;34m.\u001B[0m\u001B[0m_handle\u001B[0m\u001B[0;34m,\u001B[0m \u001B[0margs\u001B[0m\u001B[0;34m,\u001B[0m\u001B[0;34m\u001B[0m\u001B[0;34m\u001B[0m\u001B[0m\n\u001B[0;32m-> 1458\u001B[0;31m                                                run_metadata_ptr)\n\u001B[0m\u001B[1;32m   1459\u001B[0m         \u001B[0;32mif\u001B[0m \u001B[0mrun_metadata\u001B[0m\u001B[0;34m:\u001B[0m\u001B[0;34m\u001B[0m\u001B[0;34m\u001B[0m\u001B[0m\n\u001B[1;32m   1460\u001B[0m           \u001B[0mproto_data\u001B[0m \u001B[0;34m=\u001B[0m \u001B[0mtf_session\u001B[0m\u001B[0;34m.\u001B[0m\u001B[0mTF_GetBuffer\u001B[0m\u001B[0;34m(\u001B[0m\u001B[0mrun_metadata_ptr\u001B[0m\u001B[0;34m)\u001B[0m\u001B[0;34m\u001B[0m\u001B[0;34m\u001B[0m\u001B[0m\n",
      "\u001B[0;31mKeyboardInterrupt\u001B[0m: "
     ]
    }
   ],
   "source": [
    "\n",
    "vgg16_filepath = 'vgg_16_' + '-saved-model-{epoch:02d}-acc-{val_acc:.2f}.hdf5'\n",
    "vgg16_checkpoint = ModelCheckpoint(filepath=vgg16_filepath,\n",
    "                                   save_best_only=True,\n",
    "                                   monitor=\"val_acc\",\n",
    "                                   mode=\"max\",\n",
    "                                   verbose=1\n",
    "                                   )\n",
    "early = EarlyStopping(monitor='val_acc', min_delta=0, patience=20, verbose=1, mode='auto')\n",
    "\n",
    "vgg16_tensorboard = TensorBoard(log_dir=\"logs/{}\".format(time()),\n",
    "                                write_graph=True,\n",
    "                                write_images=True,\n",
    "                                histogram_freq=0)\n",
    "vgg16_history_callback = History()\n",
    "\n",
    "Step_size_train = train_generator.n // train_generator.batch_size\n",
    "Step_size_valid = validation_generator.n // validation_generator.batch_size\n",
    "Step_size_test = test_generator.n // test_generator.batch_size\n",
    "print(Step_size_train, Step_size_valid)\n",
    "vgg_history = VGG.fit_generator(\n",
    "    generator=train_generator,\n",
    "    validation_data=validation_generator,\n",
    "    epochs=EPOCH,\n",
    "    callbacks=[vgg16_history_callback, vgg16_checkpoint, vgg16_tensorboard, early],\n",
    "    steps_per_epoch=Step_size_train,\n",
    "    validation_steps=Step_size_valid\n",
    ")\n"
   ],
   "metadata": {
    "collapsed": false,
    "pycharm": {
     "name": "#%%\n"
    }
   }
  },
  {
   "cell_type": "code",
   "execution_count": 41,
   "outputs": [
    {
     "data": {
      "text/plain": "<matplotlib.legend.Legend at 0x7f7c392b8210>"
     },
     "execution_count": 41,
     "metadata": {},
     "output_type": "execute_result"
    },
    {
     "data": {
      "text/plain": "<Figure size 432x288 with 1 Axes>",
      "image/png": "[encoded data removed]"
     },
     "metadata": {
      "needs_background": "light"
     },
     "output_type": "display_data"
    }
   ],
   "source": [
    "plt.plot(vgg16_history_callback.history[\"acc\"])\n",
    "plt.plot(vgg16_history_callback.history['val_acc'])\n",
    "plt.legend(['accuracy', 'validation accuracy'])"
   ],
   "metadata": {
    "collapsed": false,
    "pycharm": {
     "name": "#%%\n"
    }
   }
  },
  {
   "cell_type": "code",
   "execution_count": 42,
   "outputs": [
    {
     "data": {
      "text/plain": "<matplotlib.legend.Legend at 0x7f7c5b7a2a50>"
     },
     "execution_count": 42,
     "metadata": {},
     "output_type": "execute_result"
    },
    {
     "data": {
      "text/plain": "<Figure size 432x288 with 1 Axes>",
      "image/png": "[encoded data removed]"
     },
     "metadata": {
      "needs_background": "light"
     },
     "output_type": "display_data"
    }
   ],
   "source": [
    "plt.plot(vgg16_history_callback.history[\"loss\"])\n",
    "plt.plot(vgg16_history_callback.history['val_loss'])\n",
    "plt.legend(['accuracy', 'validation accuracy'])"
   ],
   "metadata": {
    "collapsed": false,
    "pycharm": {
     "name": "#%%\n"
    }
   }
  },
  {
   "cell_type": "code",
   "execution_count": 43,
   "outputs": [
    {
     "ename": "KeyboardInterrupt",
     "evalue": "",
     "output_type": "error",
     "traceback": [
      "\u001B[0;31m---------------------------------------------------------------------------\u001B[0m",
      "\u001B[0;31mKeyboardInterrupt\u001B[0m                         Traceback (most recent call last)",
      "\u001B[0;32m/tmp/ipykernel_99917/2815687082.py\u001B[0m in \u001B[0;36m<module>\u001B[0;34m\u001B[0m\n\u001B[1;32m      1\u001B[0m score, acc = VGG.evaluate_generator(generator=validation_generator,\n\u001B[0;32m----> 2\u001B[0;31m                        steps=Step_size_valid)\n\u001B[0m\u001B[1;32m      3\u001B[0m \u001B[0mtest_generator\u001B[0m\u001B[0;34m.\u001B[0m\u001B[0mreset\u001B[0m\u001B[0;34m(\u001B[0m\u001B[0;34m)\u001B[0m\u001B[0;34m\u001B[0m\u001B[0;34m\u001B[0m\u001B[0m\n\u001B[1;32m      4\u001B[0m \u001B[0;34m\u001B[0m\u001B[0m\n\u001B[1;32m      5\u001B[0m pred = VGG.predict_generator(generator=test_generator,\n",
      "\u001B[0;32m~/anaconda3/envs/tensor/lib/python3.7/site-packages/tensorflow/python/keras/engine/training.py\u001B[0m in \u001B[0;36mevaluate_generator\u001B[0;34m(self, generator, steps, callbacks, max_queue_size, workers, use_multiprocessing, verbose)\u001B[0m\n\u001B[1;32m   1496\u001B[0m         \u001B[0muse_multiprocessing\u001B[0m\u001B[0;34m=\u001B[0m\u001B[0muse_multiprocessing\u001B[0m\u001B[0;34m,\u001B[0m\u001B[0;34m\u001B[0m\u001B[0;34m\u001B[0m\u001B[0m\n\u001B[1;32m   1497\u001B[0m         \u001B[0mverbose\u001B[0m\u001B[0;34m=\u001B[0m\u001B[0mverbose\u001B[0m\u001B[0;34m,\u001B[0m\u001B[0;34m\u001B[0m\u001B[0;34m\u001B[0m\u001B[0m\n\u001B[0;32m-> 1498\u001B[0;31m         callbacks=callbacks)\n\u001B[0m\u001B[1;32m   1499\u001B[0m \u001B[0;34m\u001B[0m\u001B[0m\n\u001B[1;32m   1500\u001B[0m   def predict_generator(self,\n",
      "\u001B[0;32m~/anaconda3/envs/tensor/lib/python3.7/site-packages/tensorflow/python/keras/engine/training_generator.py\u001B[0m in \u001B[0;36mmodel_iteration\u001B[0;34m(model, data, steps_per_epoch, epochs, verbose, callbacks, validation_data, validation_steps, validation_freq, class_weight, max_queue_size, workers, use_multiprocessing, shuffle, initial_epoch, mode, batch_size, steps_name, **kwargs)\u001B[0m\n\u001B[1;32m    262\u001B[0m \u001B[0;34m\u001B[0m\u001B[0m\n\u001B[1;32m    263\u001B[0m       \u001B[0mis_deferred\u001B[0m \u001B[0;34m=\u001B[0m \u001B[0;32mnot\u001B[0m \u001B[0mmodel\u001B[0m\u001B[0;34m.\u001B[0m\u001B[0m_is_compiled\u001B[0m\u001B[0;34m\u001B[0m\u001B[0;34m\u001B[0m\u001B[0m\n\u001B[0;32m--> 264\u001B[0;31m       \u001B[0mbatch_outs\u001B[0m \u001B[0;34m=\u001B[0m \u001B[0mbatch_function\u001B[0m\u001B[0;34m(\u001B[0m\u001B[0;34m*\u001B[0m\u001B[0mbatch_data\u001B[0m\u001B[0;34m)\u001B[0m\u001B[0;34m\u001B[0m\u001B[0;34m\u001B[0m\u001B[0m\n\u001B[0m\u001B[1;32m    265\u001B[0m       \u001B[0;32mif\u001B[0m \u001B[0;32mnot\u001B[0m \u001B[0misinstance\u001B[0m\u001B[0;34m(\u001B[0m\u001B[0mbatch_outs\u001B[0m\u001B[0;34m,\u001B[0m \u001B[0mlist\u001B[0m\u001B[0;34m)\u001B[0m\u001B[0;34m:\u001B[0m\u001B[0;34m\u001B[0m\u001B[0;34m\u001B[0m\u001B[0m\n\u001B[1;32m    266\u001B[0m         \u001B[0mbatch_outs\u001B[0m \u001B[0;34m=\u001B[0m \u001B[0;34m[\u001B[0m\u001B[0mbatch_outs\u001B[0m\u001B[0;34m]\u001B[0m\u001B[0;34m\u001B[0m\u001B[0;34m\u001B[0m\u001B[0m\n",
      "\u001B[0;32m~/anaconda3/envs/tensor/lib/python3.7/site-packages/tensorflow/python/keras/engine/training.py\u001B[0m in \u001B[0;36mtest_on_batch\u001B[0;34m(self, x, y, sample_weight, reset_metrics)\u001B[0m\n\u001B[1;32m   1245\u001B[0m       \u001B[0mself\u001B[0m\u001B[0;34m.\u001B[0m\u001B[0m_update_sample_weight_modes\u001B[0m\u001B[0;34m(\u001B[0m\u001B[0msample_weights\u001B[0m\u001B[0;34m=\u001B[0m\u001B[0msample_weights\u001B[0m\u001B[0;34m)\u001B[0m\u001B[0;34m\u001B[0m\u001B[0;34m\u001B[0m\u001B[0m\n\u001B[1;32m   1246\u001B[0m       \u001B[0mself\u001B[0m\u001B[0;34m.\u001B[0m\u001B[0m_make_test_function\u001B[0m\u001B[0;34m(\u001B[0m\u001B[0;34m)\u001B[0m\u001B[0;34m\u001B[0m\u001B[0;34m\u001B[0m\u001B[0m\n\u001B[0;32m-> 1247\u001B[0;31m       \u001B[0moutputs\u001B[0m \u001B[0;34m=\u001B[0m \u001B[0mself\u001B[0m\u001B[0;34m.\u001B[0m\u001B[0mtest_function\u001B[0m\u001B[0;34m(\u001B[0m\u001B[0minputs\u001B[0m\u001B[0;34m)\u001B[0m  \u001B[0;31m# pylint: disable=not-callable\u001B[0m\u001B[0;34m\u001B[0m\u001B[0;34m\u001B[0m\u001B[0m\n\u001B[0m\u001B[1;32m   1248\u001B[0m \u001B[0;34m\u001B[0m\u001B[0m\n\u001B[1;32m   1249\u001B[0m     \u001B[0;32mif\u001B[0m \u001B[0mreset_metrics\u001B[0m\u001B[0;34m:\u001B[0m\u001B[0;34m\u001B[0m\u001B[0;34m\u001B[0m\u001B[0m\n",
      "\u001B[0;32m~/anaconda3/envs/tensor/lib/python3.7/site-packages/tensorflow/python/keras/backend.py\u001B[0m in \u001B[0;36m__call__\u001B[0;34m(self, inputs)\u001B[0m\n\u001B[1;32m   3290\u001B[0m \u001B[0;34m\u001B[0m\u001B[0m\n\u001B[1;32m   3291\u001B[0m     fetched = self._callable_fn(*array_vals,\n\u001B[0;32m-> 3292\u001B[0;31m                                 run_metadata=self.run_metadata)\n\u001B[0m\u001B[1;32m   3293\u001B[0m     \u001B[0mself\u001B[0m\u001B[0;34m.\u001B[0m\u001B[0m_call_fetch_callbacks\u001B[0m\u001B[0;34m(\u001B[0m\u001B[0mfetched\u001B[0m\u001B[0;34m[\u001B[0m\u001B[0;34m-\u001B[0m\u001B[0mlen\u001B[0m\u001B[0;34m(\u001B[0m\u001B[0mself\u001B[0m\u001B[0;34m.\u001B[0m\u001B[0m_fetches\u001B[0m\u001B[0;34m)\u001B[0m\u001B[0;34m:\u001B[0m\u001B[0;34m]\u001B[0m\u001B[0;34m)\u001B[0m\u001B[0;34m\u001B[0m\u001B[0;34m\u001B[0m\u001B[0m\n\u001B[1;32m   3294\u001B[0m     output_structure = nest.pack_sequence_as(\n",
      "\u001B[0;32m~/anaconda3/envs/tensor/lib/python3.7/site-packages/tensorflow/python/client/session.py\u001B[0m in \u001B[0;36m__call__\u001B[0;34m(self, *args, **kwargs)\u001B[0m\n\u001B[1;32m   1456\u001B[0m         ret = tf_session.TF_SessionRunCallable(self._session._session,\n\u001B[1;32m   1457\u001B[0m                                                \u001B[0mself\u001B[0m\u001B[0;34m.\u001B[0m\u001B[0m_handle\u001B[0m\u001B[0;34m,\u001B[0m \u001B[0margs\u001B[0m\u001B[0;34m,\u001B[0m\u001B[0;34m\u001B[0m\u001B[0;34m\u001B[0m\u001B[0m\n\u001B[0;32m-> 1458\u001B[0;31m                                                run_metadata_ptr)\n\u001B[0m\u001B[1;32m   1459\u001B[0m         \u001B[0;32mif\u001B[0m \u001B[0mrun_metadata\u001B[0m\u001B[0;34m:\u001B[0m\u001B[0;34m\u001B[0m\u001B[0;34m\u001B[0m\u001B[0m\n\u001B[1;32m   1460\u001B[0m           \u001B[0mproto_data\u001B[0m \u001B[0;34m=\u001B[0m \u001B[0mtf_session\u001B[0m\u001B[0;34m.\u001B[0m\u001B[0mTF_GetBuffer\u001B[0m\u001B[0;34m(\u001B[0m\u001B[0mrun_metadata_ptr\u001B[0m\u001B[0;34m)\u001B[0m\u001B[0;34m\u001B[0m\u001B[0;34m\u001B[0m\u001B[0m\n",
      "\u001B[0;31mKeyboardInterrupt\u001B[0m: "
     ]
    }
   ],
   "source": [
    "score, acc = VGG.evaluate_generator(generator=validation_generator,\n",
    "                       steps=Step_size_valid)\n",
    "test_generator.reset()\n",
    "\n",
    "pred = VGG.predict_generator(generator=test_generator,\n",
    "                             steps=Step_size_test,\n",
    "                             verbose=1)\n",
    "predicted_class_indces = np.argmax(pred, axis=1)"
   ],
   "metadata": {
    "collapsed": false,
    "pycharm": {
     "name": "#%%\n"
    }
   }
  },
  {
   "cell_type": "code",
   "execution_count": null,
   "outputs": [],
   "source": [
    "labels = train_generator.class_indices\n",
    "labels = dict((v, k) for k, v in labels.items())\n",
    "predictions = [labels[k] for k in predicted_class_indces]"
   ],
   "metadata": {
    "collapsed": false,
    "pycharm": {
     "name": "#%%\n"
    }
   }
  },
  {
   "cell_type": "code",
   "execution_count": null,
   "outputs": [],
   "source": [
    "filenames = test_generator.filenames\n",
    "results = pd.DataFrame({\"Filename\": filenames,\n",
    "                        \"Predictions\": predictions})\n",
    "results.to_csv(\"results.csv\", index=False)"
   ],
   "metadata": {
    "collapsed": false,
    "pycharm": {
     "name": "#%%\n"
    }
   }
  },
  {
   "cell_type": "code",
   "execution_count": null,
   "outputs": [],
   "source": [
    "print(\"Test score \", score)\n",
    "print(\"Test acc\", acc)\n",
    "results"
   ],
   "metadata": {
    "collapsed": false,
    "pycharm": {
     "name": "#%%\n"
    }
   }
  },
  {
   "cell_type": "code",
   "execution_count": null,
   "outputs": [],
   "source": [],
   "metadata": {
    "collapsed": false,
    "pycharm": {
     "name": "#%%\n"
    }
   }
  },
  {
   "cell_type": "code",
   "execution_count": null,
   "outputs": [],
   "source": [],
   "metadata": {
    "collapsed": false,
    "pycharm": {
     "name": "#%%\n"
    }
   }
  }
 ],
 "metadata": {
  "kernelspec": {
   "display_name": "Python 3 (ipykernel)",
   "language": "python",
   "name": "python3"
  },
  "language_info": {
   "codemirror_mode": {
    "name": "ipython",
    "version": 3
   },
   "file_extension": ".py",
   "mimetype": "text/x-python",
   "name": "python",
   "nbconvert_exporter": "python",
   "pygments_lexer": "ipython3",
   "version": "3.7.13"
  }
 },
 "nbformat": 4,
 "nbformat_minor": 5
}