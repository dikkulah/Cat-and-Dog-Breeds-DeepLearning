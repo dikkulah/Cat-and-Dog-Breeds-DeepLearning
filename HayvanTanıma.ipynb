{
 "cells": [
  {
   "cell_type": "code",
   "execution_count": 1,
   "id": "8f13370b",
   "metadata": {
    "pycharm": {
     "name": "#%%\n"
    }
   },
   "outputs": [],
   "source": [
    "#\"Hayvan Tanıma Git Repostory Oluşturuldu\""
   ]
  },
  {
   "cell_type": "code",
   "execution_count": 2,
   "id": "91a60425",
   "metadata": {
    "pycharm": {
     "name": "#%%\n"
    }
   },
   "outputs": [
    {
     "name": "stderr",
     "output_type": "stream",
     "text": [
      "/home/ufuk/anaconda3/envs/tensor/lib/python3.7/site-packages/tensorflow/python/framework/dtypes.py:516: FutureWarning: Passing (type, 1) or '1type' as a synonym of type is deprecated; in a future version of numpy, it will be understood as (type, (1,)) / '(1,)type'.\n",
      "  _np_qint8 = np.dtype([(\"qint8\", np.int8, 1)])\n",
      "/home/ufuk/anaconda3/envs/tensor/lib/python3.7/site-packages/tensorflow/python/framework/dtypes.py:517: FutureWarning: Passing (type, 1) or '1type' as a synonym of type is deprecated; in a future version of numpy, it will be understood as (type, (1,)) / '(1,)type'.\n",
      "  _np_quint8 = np.dtype([(\"quint8\", np.uint8, 1)])\n",
      "/home/ufuk/anaconda3/envs/tensor/lib/python3.7/site-packages/tensorflow/python/framework/dtypes.py:518: FutureWarning: Passing (type, 1) or '1type' as a synonym of type is deprecated; in a future version of numpy, it will be understood as (type, (1,)) / '(1,)type'.\n",
      "  _np_qint16 = np.dtype([(\"qint16\", np.int16, 1)])\n",
      "/home/ufuk/anaconda3/envs/tensor/lib/python3.7/site-packages/tensorflow/python/framework/dtypes.py:519: FutureWarning: Passing (type, 1) or '1type' as a synonym of type is deprecated; in a future version of numpy, it will be understood as (type, (1,)) / '(1,)type'.\n",
      "  _np_quint16 = np.dtype([(\"quint16\", np.uint16, 1)])\n",
      "/home/ufuk/anaconda3/envs/tensor/lib/python3.7/site-packages/tensorflow/python/framework/dtypes.py:520: FutureWarning: Passing (type, 1) or '1type' as a synonym of type is deprecated; in a future version of numpy, it will be understood as (type, (1,)) / '(1,)type'.\n",
      "  _np_qint32 = np.dtype([(\"qint32\", np.int32, 1)])\n",
      "/home/ufuk/anaconda3/envs/tensor/lib/python3.7/site-packages/tensorflow/python/framework/dtypes.py:525: FutureWarning: Passing (type, 1) or '1type' as a synonym of type is deprecated; in a future version of numpy, it will be understood as (type, (1,)) / '(1,)type'.\n",
      "  np_resource = np.dtype([(\"resource\", np.ubyte, 1)])\n",
      "/home/ufuk/anaconda3/envs/tensor/lib/python3.7/site-packages/tensorboard/compat/tensorflow_stub/dtypes.py:541: FutureWarning: Passing (type, 1) or '1type' as a synonym of type is deprecated; in a future version of numpy, it will be understood as (type, (1,)) / '(1,)type'.\n",
      "  _np_qint8 = np.dtype([(\"qint8\", np.int8, 1)])\n",
      "/home/ufuk/anaconda3/envs/tensor/lib/python3.7/site-packages/tensorboard/compat/tensorflow_stub/dtypes.py:542: FutureWarning: Passing (type, 1) or '1type' as a synonym of type is deprecated; in a future version of numpy, it will be understood as (type, (1,)) / '(1,)type'.\n",
      "  _np_quint8 = np.dtype([(\"quint8\", np.uint8, 1)])\n",
      "/home/ufuk/anaconda3/envs/tensor/lib/python3.7/site-packages/tensorboard/compat/tensorflow_stub/dtypes.py:543: FutureWarning: Passing (type, 1) or '1type' as a synonym of type is deprecated; in a future version of numpy, it will be understood as (type, (1,)) / '(1,)type'.\n",
      "  _np_qint16 = np.dtype([(\"qint16\", np.int16, 1)])\n",
      "/home/ufuk/anaconda3/envs/tensor/lib/python3.7/site-packages/tensorboard/compat/tensorflow_stub/dtypes.py:544: FutureWarning: Passing (type, 1) or '1type' as a synonym of type is deprecated; in a future version of numpy, it will be understood as (type, (1,)) / '(1,)type'.\n",
      "  _np_quint16 = np.dtype([(\"quint16\", np.uint16, 1)])\n",
      "/home/ufuk/anaconda3/envs/tensor/lib/python3.7/site-packages/tensorboard/compat/tensorflow_stub/dtypes.py:545: FutureWarning: Passing (type, 1) or '1type' as a synonym of type is deprecated; in a future version of numpy, it will be understood as (type, (1,)) / '(1,)type'.\n",
      "  _np_qint32 = np.dtype([(\"qint32\", np.int32, 1)])\n",
      "/home/ufuk/anaconda3/envs/tensor/lib/python3.7/site-packages/tensorboard/compat/tensorflow_stub/dtypes.py:550: FutureWarning: Passing (type, 1) or '1type' as a synonym of type is deprecated; in a future version of numpy, it will be understood as (type, (1,)) / '(1,)type'.\n",
      "  np_resource = np.dtype([(\"resource\", np.ubyte, 1)])\n"
     ]
    }
   ],
   "source": [
    "import os\n",
    "\n",
    "import matplotlib.pyplot as plt\n",
    "from tensorflow import keras\n",
    "from tensorflow.keras.models import Model, Sequential\n",
    "from tensorflow.keras.layers import Dense, Flatten, Conv2D, MaxPool2D, Dropout\n",
    "from tensorflow.keras.applications.vgg16 import VGG16, preprocess_input\n",
    "from tensorflow.keras.preprocessing.image import ImageDataGenerator\n",
    "from tensorflow.keras.callbacks import ModelCheckpoint, EarlyStopping, TensorBoard, History\n",
    "import tensorflow as tf\n",
    "from time import time\n",
    "import numpy as np\n",
    "import pandas as pd\n",
    "\n",
    "os.environ[\"TF_CPP_MIN_LOG_LEVEL\"] = \"2\"  # UYARILARI KAPATMA\n"
   ]
  },
  {
   "cell_type": "code",
   "execution_count": 3,
   "outputs": [
    {
     "name": "stdout",
     "output_type": "stream",
     "text": [
      "Found 5652 images belonging to 37 classes.\n",
      "Found 961 images belonging to 37 classes.\n",
      "Found 777 images belonging to 37 classes.\n"
     ]
    }
   ],
   "source": [
    "#print(os.listdir(\"./images/train\"))\n",
    "SIZE = 224\n",
    "EPOCH = 50\n",
    "BATCH = 32\n",
    "train_directory = \"images/train/\"\n",
    "valid_directory = \"images/valid/\"\n",
    "test_directory = \"images/test/\"\n",
    "\n",
    "data_aug = ImageDataGenerator(rotation_range=40,\n",
    "                              width_shift_range=0.2,\n",
    "                              height_shift_range=0.2,\n",
    "                              shear_range=0.2,\n",
    "                              rescale=1. / 255,\n",
    "                              zoom_range=0.2,\n",
    "                              horizontal_flip=True,\n",
    "                              fill_mode=\"nearest\",\n",
    "                              validation_split=0.25\n",
    "                              )\n",
    "test_aug = ImageDataGenerator(rescale = 1./255)\n",
    "#Max batch size= available GPU memory bytes / 4 / (size of tensors + trainable parameters)\n",
    "train_generator = data_aug.flow_from_directory(directory=train_directory,\n",
    "                                               batch_size=BATCH,\n",
    "                                               shuffle=True,\n",
    "                                               class_mode=\"categorical\",\n",
    "                                               color_mode=\"rgb\",\n",
    "                                               target_size=(SIZE, SIZE),\n",
    "                                               interpolation=\"nearest\",\n",
    "                                               subset=\"training\",\n",
    "                                               seed=42\n",
    "                                               )\n",
    "validation_generator = data_aug.flow_from_directory(directory=train_directory,\n",
    "                                                    batch_size=BATCH,\n",
    "                                                    shuffle=True,\n",
    "                                                    class_mode=\"categorical\",\n",
    "                                                    color_mode=\"rgb\",\n",
    "                                                    target_size=(SIZE, SIZE),\n",
    "                                                    interpolation=\"nearest\",\n",
    "                                                    subset=\"validation\",\n",
    "                                                    seed=42\n",
    "                                                    )\n",
    "test_generator = test_aug.flow_from_directory(directory=test_directory,\n",
    "                                              batch_size=1,\n",
    "                                              shuffle=False,\n",
    "                                              class_mode=\"categorical\",\n",
    "                                              target_size=(SIZE, SIZE)\n",
    "                                              )\n",
    "\n",
    "\n"
   ],
   "metadata": {
    "collapsed": false,
    "pycharm": {
     "name": "#%%\n"
    }
   }
  },
  {
   "cell_type": "code",
   "execution_count": 4,
   "outputs": [
    {
     "name": "stdout",
     "output_type": "stream",
     "text": [
      "{'Abyssinian': 0, 'Bengal': 1, 'Birman': 2, 'Bombay': 3, 'British_Shorthair': 4, 'Egyptian_Mau': 5, 'Maine_Coon': 6, 'Persian': 7, 'Ragdoll': 8, 'Russian_Blue': 9, 'Siamese': 10, 'Sphynx': 11, 'american_bulldog': 12, 'american_pit_bull_terrier': 13, 'basset_hound': 14, 'beagle': 15, 'boxer': 16, 'chihuahua': 17, 'english_cocker_spaniel': 18, 'english_setter': 19, 'german_shorthaired': 20, 'great_pyrenees': 21, 'havanese': 22, 'japanese_chin': 23, 'keeshond': 24, 'leonberger': 25, 'miniature_pinscher': 26, 'newfoundland': 27, 'pomeranian': 28, 'pug': 29, 'saint_bernard': 30, 'samoyed': 31, 'scottish_terrier': 32, 'shiba_inu': 33, 'staffordshire_bull_terrier': 34, 'wheaten_terrier': 35, 'yorkshire_terrier': 36}\n"
     ]
    }
   ],
   "source": [
    "print(train_generator.class_indices)"
   ],
   "metadata": {
    "collapsed": false,
    "pycharm": {
     "name": "#%%\n"
    }
   }
  },
  {
   "cell_type": "code",
   "execution_count": 5,
   "outputs": [],
   "source": [
    "tf.keras.backend.clear_session()"
   ],
   "metadata": {
    "collapsed": false,
    "pycharm": {
     "name": "#%%\n"
    }
   }
  },
  {
   "cell_type": "code",
   "execution_count": 6,
   "outputs": [
    {
     "name": "stdout",
     "output_type": "stream",
     "text": [
      "WARNING:tensorflow:From /home/ufuk/anaconda3/envs/tensor/lib/python3.7/site-packages/tensorflow/python/ops/init_ops.py:1251: calling VarianceScaling.__init__ (from tensorflow.python.ops.init_ops) with dtype is deprecated and will be removed in a future version.\n",
      "Instructions for updating:\n",
      "Call initializer instance with the dtype argument instead of passing it to the constructor\n",
      "Model: \"sequential\"\n",
      "_________________________________________________________________\n",
      "Layer (type)                 Output Shape              Param #   \n",
      "=================================================================\n",
      "vgg16 (Model)                (None, 512)               14714688  \n",
      "_________________________________________________________________\n",
      "flatten (Flatten)            (None, 512)               0         \n",
      "_________________________________________________________________\n",
      "dense (Dense)                (None, 4096)              2101248   \n",
      "_________________________________________________________________\n",
      "dropout (Dropout)            (None, 4096)              0         \n",
      "_________________________________________________________________\n",
      "dense_1 (Dense)              (None, 1024)              4195328   \n",
      "_________________________________________________________________\n",
      "dropout_1 (Dropout)          (None, 1024)              0         \n",
      "_________________________________________________________________\n",
      "dense_2 (Dense)              (None, 37)                37925     \n",
      "_________________________________________________________________\n",
      "dropout_2 (Dropout)          (None, 37)                0         \n",
      "=================================================================\n",
      "Total params: 21,049,189\n",
      "Trainable params: 6,334,501\n",
      "Non-trainable params: 14,714,688\n",
      "_________________________________________________________________\n",
      "0 input_1 False\n",
      "1 block1_conv1 False\n",
      "2 block1_conv2 False\n",
      "3 block1_pool False\n",
      "4 block2_conv1 False\n",
      "5 block2_conv2 False\n",
      "6 block2_pool False\n",
      "7 block3_conv1 False\n",
      "8 block3_conv2 False\n",
      "9 block3_conv3 False\n",
      "10 block3_pool False\n",
      "11 block4_conv1 False\n",
      "12 block4_conv2 False\n",
      "13 block4_conv3 False\n",
      "14 block4_pool False\n",
      "15 block5_conv1 False\n",
      "16 block5_conv2 False\n",
      "17 block5_conv3 False\n",
      "18 block5_pool False\n",
      "19 global_average_pooling2d False\n"
     ]
    }
   ],
   "source": [
    "\n",
    "vgg16_model = VGG16(pooling=\"avg\", input_shape=(224, 224, 3), weights=\"imagenet\", include_top=False)\n",
    "for layer in vgg16_model.layers:\n",
    "    layer.trainable = False\n",
    "VGG = tf.keras.Sequential([\n",
    "    vgg16_model,\n",
    "    Flatten(),\n",
    "    Dense(units=4096, activation=\"relu\"),\n",
    "    Dropout(0.1),\n",
    "    Dense(units=1024, activation=\"relu\"),\n",
    "    Dropout(0.1),\n",
    "    Dense(units=37, activation=\"softmax\"),\n",
    "    Dropout(0.1)\n",
    "])\n",
    "VGG.compile(loss=\"categorical_crossentropy\", optimizer=\"adam\",\n",
    "            metrics=[\"acc\"])\n",
    "\n",
    "VGG.summary()\n",
    "for i, layer in enumerate(vgg16_model.layers):\n",
    "    print(i, layer.name, layer.trainable)"
   ],
   "metadata": {
    "collapsed": false,
    "pycharm": {
     "name": "#%%\n"
    }
   }
  },
  {
   "cell_type": "code",
   "execution_count": 7,
   "outputs": [
    {
     "name": "stdout",
     "output_type": "stream",
     "text": [
      "176 30\n",
      "Epoch 1/50\n",
      "WARNING:tensorflow:From /home/ufuk/anaconda3/envs/tensor/lib/python3.7/site-packages/tensorflow/python/ops/math_grad.py:1250: add_dispatch_support.<locals>.wrapper (from tensorflow.python.ops.array_ops) is deprecated and will be removed in a future version.\n",
      "Instructions for updating:\n",
      "Use tf.where in 2.0, which has the same broadcast rule as np.where\n",
      "  2/176 [..............................] - ETA: 10:43 - loss: 5.4567 - acc: 0.0312"
     ]
    },
    {
     "name": "stderr",
     "output_type": "stream",
     "text": [
      "2022-05-01 20:40:38.125843: E tensorflow/core/platform/default/device_tracer.cc:68] CUPTI error: CUPTI_ERROR_INVALID_PARAMETER\n"
     ]
    },
    {
     "name": "stdout",
     "output_type": "stream",
     "text": [
      "175/176 [============================>.] - ETA: 0s - loss: 4.4662 - acc: 0.0793\n",
      "Epoch 00001: val_acc improved from -inf to 0.16146, saving model to vgg_16_-saved-model-01-acc-0.16.hdf5\n",
      "176/176 [==============================] - 125s 711ms/step - loss: 4.4629 - acc: 0.0799 - val_loss: 2.8267 - val_acc: 0.1615\n",
      "Epoch 2/50\n",
      "175/176 [============================>.] - ETA: 0s - loss: 3.9413 - acc: 0.1977\n",
      "Epoch 00002: val_acc improved from 0.16146 to 0.25000, saving model to vgg_16_-saved-model-02-acc-0.25.hdf5\n",
      "176/176 [==============================] - 114s 646ms/step - loss: 3.9387 - acc: 0.1977 - val_loss: 2.3691 - val_acc: 0.2500\n",
      "Epoch 3/50\n",
      "175/176 [============================>.] - ETA: 0s - loss: 3.6782 - acc: 0.2827\n",
      "Epoch 00003: val_acc improved from 0.25000 to 0.31563, saving model to vgg_16_-saved-model-03-acc-0.32.hdf5\n",
      "176/176 [==============================] - 109s 622ms/step - loss: 3.6720 - acc: 0.2829 - val_loss: 2.2696 - val_acc: 0.3156\n",
      "Epoch 4/50\n",
      "175/176 [============================>.] - ETA: 0s - loss: 3.4468 - acc: 0.3275\n",
      "Epoch 00004: val_acc improved from 0.31563 to 0.37708, saving model to vgg_16_-saved-model-04-acc-0.38.hdf5\n",
      "176/176 [==============================] - 111s 628ms/step - loss: 3.4452 - acc: 0.3276 - val_loss: 2.0535 - val_acc: 0.3771\n",
      "Epoch 5/50\n",
      "175/176 [============================>.] - ETA: 0s - loss: 3.2669 - acc: 0.3649\n",
      "Epoch 00005: val_acc improved from 0.37708 to 0.41979, saving model to vgg_16_-saved-model-05-acc-0.42.hdf5\n",
      "176/176 [==============================] - 113s 640ms/step - loss: 3.2665 - acc: 0.3648 - val_loss: 1.8978 - val_acc: 0.4198\n",
      "Epoch 6/50\n",
      "175/176 [============================>.] - ETA: 0s - loss: 3.1848 - acc: 0.3908\n",
      "Epoch 00006: val_acc did not improve from 0.41979\n",
      "176/176 [==============================] - 112s 634ms/step - loss: 3.1849 - acc: 0.3909 - val_loss: 1.9066 - val_acc: 0.3896\n",
      "Epoch 7/50\n",
      "175/176 [============================>.] - ETA: 0s - loss: 3.1172 - acc: 0.4069\n",
      "Epoch 00007: val_acc improved from 0.41979 to 0.43854, saving model to vgg_16_-saved-model-07-acc-0.44.hdf5\n",
      "176/176 [==============================] - 114s 647ms/step - loss: 3.1142 - acc: 0.4080 - val_loss: 1.8724 - val_acc: 0.4385\n",
      "Epoch 8/50\n",
      "175/176 [============================>.] - ETA: 0s - loss: 3.0062 - acc: 0.4263\n",
      "Epoch 00008: val_acc did not improve from 0.43854\n",
      "176/176 [==============================] - 112s 635ms/step - loss: 3.0081 - acc: 0.4260 - val_loss: 1.8606 - val_acc: 0.4177\n",
      "Epoch 9/50\n",
      "175/176 [============================>.] - ETA: 0s - loss: 3.0839 - acc: 0.4338\n",
      "Epoch 00009: val_acc did not improve from 0.43854\n",
      "176/176 [==============================] - 110s 622ms/step - loss: 3.0861 - acc: 0.4335 - val_loss: 1.8756 - val_acc: 0.4333\n",
      "Epoch 10/50\n",
      "175/176 [============================>.] - ETA: 0s - loss: 3.1022 - acc: 0.4350\n",
      "Epoch 00010: val_acc improved from 0.43854 to 0.46875, saving model to vgg_16_-saved-model-10-acc-0.47.hdf5\n",
      "176/176 [==============================] - 111s 628ms/step - loss: 3.1027 - acc: 0.4349 - val_loss: 1.7130 - val_acc: 0.4688\n",
      "Epoch 11/50\n",
      "175/176 [============================>.] - ETA: 0s - loss: 3.0082 - acc: 0.4567\n",
      "Epoch 00011: val_acc did not improve from 0.46875\n",
      "176/176 [==============================] - 113s 642ms/step - loss: 3.0093 - acc: 0.4564 - val_loss: 1.8309 - val_acc: 0.4292\n",
      "Epoch 12/50\n",
      "175/176 [============================>.] - ETA: 0s - loss: 3.0650 - acc: 0.4522\n",
      "Epoch 00012: val_acc did not improve from 0.46875\n",
      "176/176 [==============================] - 115s 656ms/step - loss: 3.0755 - acc: 0.4521 - val_loss: 1.7325 - val_acc: 0.4677\n",
      "Epoch 13/50\n",
      "175/176 [============================>.] - ETA: 0s - loss: 2.8861 - acc: 0.4898\n",
      "Epoch 00013: val_acc did not improve from 0.46875\n",
      "176/176 [==============================] - 110s 625ms/step - loss: 2.8890 - acc: 0.4897 - val_loss: 1.7182 - val_acc: 0.4688\n",
      "Epoch 14/50\n",
      "175/176 [============================>.] - ETA: 0s - loss: 2.9186 - acc: 0.4726\n",
      "Epoch 00014: val_acc improved from 0.46875 to 0.47917, saving model to vgg_16_-saved-model-14-acc-0.48.hdf5\n",
      "176/176 [==============================] - 111s 630ms/step - loss: 2.9140 - acc: 0.4730 - val_loss: 1.6883 - val_acc: 0.4792\n",
      "Epoch 15/50\n",
      "175/176 [============================>.] - ETA: 0s - loss: 2.9778 - acc: 0.4862\n",
      "Epoch 00015: val_acc improved from 0.47917 to 0.48854, saving model to vgg_16_-saved-model-15-acc-0.49.hdf5\n",
      "176/176 [==============================] - 114s 646ms/step - loss: 2.9801 - acc: 0.4861 - val_loss: 1.6654 - val_acc: 0.4885\n",
      "Epoch 16/50\n",
      "175/176 [============================>.] - ETA: 0s - loss: 2.7602 - acc: 0.5029\n",
      "Epoch 00016: val_acc did not improve from 0.48854\n",
      "176/176 [==============================] - 114s 647ms/step - loss: 2.7613 - acc: 0.5020 - val_loss: 1.7056 - val_acc: 0.4750\n",
      "Epoch 17/50\n",
      "175/176 [============================>.] - ETA: 0s - loss: 2.8450 - acc: 0.5055\n",
      "Epoch 00017: val_acc did not improve from 0.48854\n",
      "176/176 [==============================] - 110s 623ms/step - loss: 2.8435 - acc: 0.5059 - val_loss: 1.7096 - val_acc: 0.4802\n",
      "Epoch 18/50\n",
      "175/176 [============================>.] - ETA: 0s - loss: 2.8676 - acc: 0.5011\n",
      "Epoch 00018: val_acc improved from 0.48854 to 0.49583, saving model to vgg_16_-saved-model-18-acc-0.50.hdf5\n",
      "176/176 [==============================] - 110s 623ms/step - loss: 2.8746 - acc: 0.5005 - val_loss: 1.6754 - val_acc: 0.4958\n",
      "Epoch 19/50\n",
      "175/176 [============================>.] - ETA: 0s - loss: 2.9436 - acc: 0.5048\n",
      "Epoch 00019: val_acc did not improve from 0.49583\n",
      "176/176 [==============================] - 109s 621ms/step - loss: 2.9439 - acc: 0.5055 - val_loss: 1.6148 - val_acc: 0.4958\n",
      "Epoch 20/50\n",
      "175/176 [============================>.] - ETA: 0s - loss: 2.9205 - acc: 0.5098\n",
      "Epoch 00020: val_acc did not improve from 0.49583\n",
      "176/176 [==============================] - 109s 622ms/step - loss: 2.9166 - acc: 0.5096 - val_loss: 1.6906 - val_acc: 0.4896\n",
      "Epoch 21/50\n",
      "175/176 [============================>.] - ETA: 0s - loss: 2.8511 - acc: 0.5147\n",
      "Epoch 00021: val_acc did not improve from 0.49583\n",
      "176/176 [==============================] - 109s 620ms/step - loss: 2.8575 - acc: 0.5151 - val_loss: 1.5896 - val_acc: 0.4958\n",
      "Epoch 22/50\n",
      "175/176 [============================>.] - ETA: 0s - loss: 2.7649 - acc: 0.5280\n",
      "Epoch 00022: val_acc improved from 0.49583 to 0.52708, saving model to vgg_16_-saved-model-22-acc-0.53.hdf5\n",
      "176/176 [==============================] - 112s 637ms/step - loss: 2.7592 - acc: 0.5282 - val_loss: 1.5922 - val_acc: 0.5271\n",
      "Epoch 23/50\n",
      "175/176 [============================>.] - ETA: 0s - loss: 2.7272 - acc: 0.5278\n",
      "Epoch 00023: val_acc did not improve from 0.52708\n",
      "176/176 [==============================] - 115s 653ms/step - loss: 2.7371 - acc: 0.5273 - val_loss: 1.6876 - val_acc: 0.4896\n",
      "Epoch 24/50\n",
      "175/176 [============================>.] - ETA: 0s - loss: 2.7275 - acc: 0.5388\n",
      "Epoch 00024: val_acc did not improve from 0.52708\n",
      "176/176 [==============================] - 119s 678ms/step - loss: 2.7277 - acc: 0.5388 - val_loss: 1.6367 - val_acc: 0.5052\n",
      "Epoch 25/50\n",
      "175/176 [============================>.] - ETA: 0s - loss: 2.7686 - acc: 0.5410\n",
      "Epoch 00025: val_acc improved from 0.52708 to 0.53125, saving model to vgg_16_-saved-model-25-acc-0.53.hdf5\n",
      "176/176 [==============================] - 124s 705ms/step - loss: 2.7726 - acc: 0.5407 - val_loss: 1.5979 - val_acc: 0.5312\n",
      "Epoch 26/50\n",
      "175/176 [============================>.] - ETA: 0s - loss: 2.6449 - acc: 0.5510\n",
      "Epoch 00026: val_acc did not improve from 0.53125\n",
      "176/176 [==============================] - 132s 750ms/step - loss: 2.6505 - acc: 0.5504 - val_loss: 1.7206 - val_acc: 0.4875\n",
      "Epoch 27/50\n",
      "175/176 [============================>.] - ETA: 0s - loss: 2.7018 - acc: 0.5539\n",
      "Epoch 00027: val_acc did not improve from 0.53125\n",
      "176/176 [==============================] - 129s 730ms/step - loss: 2.7058 - acc: 0.5532 - val_loss: 1.7040 - val_acc: 0.5156\n",
      "Epoch 28/50\n",
      "175/176 [============================>.] - ETA: 0s - loss: 2.6646 - acc: 0.5598\n",
      "Epoch 00028: val_acc did not improve from 0.53125\n",
      "176/176 [==============================] - 125s 712ms/step - loss: 2.6630 - acc: 0.5594 - val_loss: 1.6581 - val_acc: 0.5073\n",
      "Epoch 29/50\n",
      "175/176 [============================>.] - ETA: 0s - loss: 2.5708 - acc: 0.5598\n",
      "Epoch 00029: val_acc did not improve from 0.53125\n",
      "176/176 [==============================] - 121s 685ms/step - loss: 2.5726 - acc: 0.5596 - val_loss: 1.6206 - val_acc: 0.4958\n",
      "Epoch 30/50\n",
      "175/176 [============================>.] - ETA: 0s - loss: 2.6299 - acc: 0.5675\n",
      "Epoch 00030: val_acc did not improve from 0.53125\n",
      "176/176 [==============================] - 109s 617ms/step - loss: 2.6286 - acc: 0.5680 - val_loss: 1.6350 - val_acc: 0.5042\n",
      "Epoch 31/50\n",
      "175/176 [============================>.] - ETA: 0s - loss: 2.6621 - acc: 0.5714\n",
      "Epoch 00031: val_acc did not improve from 0.53125\n",
      "176/176 [==============================] - 116s 658ms/step - loss: 2.6725 - acc: 0.5710 - val_loss: 1.6174 - val_acc: 0.5135\n",
      "Epoch 32/50\n",
      "175/176 [============================>.] - ETA: 0s - loss: 2.5753 - acc: 0.5730\n",
      "Epoch 00032: val_acc did not improve from 0.53125\n",
      "176/176 [==============================] - 123s 701ms/step - loss: 2.5768 - acc: 0.5733 - val_loss: 1.5806 - val_acc: 0.5312\n",
      "Epoch 33/50\n",
      "175/176 [============================>.] - ETA: 0s - loss: 2.5749 - acc: 0.5732\n",
      "Epoch 00033: val_acc did not improve from 0.53125\n",
      "176/176 [==============================] - 119s 674ms/step - loss: 2.5727 - acc: 0.5728 - val_loss: 1.6086 - val_acc: 0.5281\n",
      "Epoch 34/50\n",
      "175/176 [============================>.] - ETA: 0s - loss: 2.5474 - acc: 0.5848\n",
      "Epoch 00034: val_acc did not improve from 0.53125\n",
      "176/176 [==============================] - 124s 702ms/step - loss: 2.5565 - acc: 0.5842 - val_loss: 1.5813 - val_acc: 0.5167\n",
      "Epoch 35/50\n",
      "175/176 [============================>.] - ETA: 0s - loss: 2.4865 - acc: 0.6004\n",
      "Epoch 00035: val_acc improved from 0.53125 to 0.54375, saving model to vgg_16_-saved-model-35-acc-0.54.hdf5\n",
      "176/176 [==============================] - 124s 706ms/step - loss: 2.4888 - acc: 0.6002 - val_loss: 1.5380 - val_acc: 0.5437\n",
      "Epoch 36/50\n",
      "175/176 [============================>.] - ETA: 0s - loss: 2.5574 - acc: 0.5991\n",
      "Epoch 00036: val_acc did not improve from 0.54375\n",
      "176/176 [==============================] - 127s 719ms/step - loss: 2.5563 - acc: 0.5989 - val_loss: 1.6002 - val_acc: 0.5219\n",
      "Epoch 37/50\n",
      "175/176 [============================>.] - ETA: 0s - loss: 2.5408 - acc: 0.5873\n",
      "Epoch 00037: val_acc did not improve from 0.54375\n",
      "176/176 [==============================] - 123s 698ms/step - loss: 2.5369 - acc: 0.5879 - val_loss: 1.6563 - val_acc: 0.5188\n",
      "Epoch 38/50\n",
      "175/176 [============================>.] - ETA: 0s - loss: 2.5748 - acc: 0.5954\n",
      "Epoch 00038: val_acc did not improve from 0.54375\n",
      "176/176 [==============================] - 125s 711ms/step - loss: 2.5744 - acc: 0.5956 - val_loss: 1.6419 - val_acc: 0.5219\n",
      "Epoch 39/50\n",
      "175/176 [============================>.] - ETA: 0s - loss: 2.4595 - acc: 0.6015\n",
      "Epoch 00039: val_acc did not improve from 0.54375\n",
      "176/176 [==============================] - 121s 685ms/step - loss: 2.4698 - acc: 0.6009 - val_loss: 1.7110 - val_acc: 0.4885\n",
      "Epoch 40/50\n",
      "175/176 [============================>.] - ETA: 0s - loss: 2.4444 - acc: 0.6129\n",
      "Epoch 00040: val_acc did not improve from 0.54375\n",
      "176/176 [==============================] - 124s 702ms/step - loss: 2.4574 - acc: 0.6119 - val_loss: 1.6121 - val_acc: 0.5365\n",
      "Epoch 41/50\n",
      "175/176 [============================>.] - ETA: 0s - loss: 2.4451 - acc: 0.6138\n",
      "Epoch 00041: val_acc did not improve from 0.54375\n",
      "176/176 [==============================] - 112s 636ms/step - loss: 2.4485 - acc: 0.6133 - val_loss: 1.5732 - val_acc: 0.5312\n",
      "Epoch 42/50\n",
      "175/176 [============================>.] - ETA: 0s - loss: 2.5144 - acc: 0.6154\n",
      "Epoch 00042: val_acc did not improve from 0.54375\n",
      "176/176 [==============================] - 114s 646ms/step - loss: 2.5068 - acc: 0.6161 - val_loss: 1.6359 - val_acc: 0.5188\n",
      "Epoch 43/50\n",
      "175/176 [============================>.] - ETA: 0s - loss: 2.5725 - acc: 0.6185\n",
      "Epoch 00043: val_acc did not improve from 0.54375\n",
      "176/176 [==============================] - 115s 654ms/step - loss: 2.5794 - acc: 0.6180 - val_loss: 1.6630 - val_acc: 0.5156\n",
      "Epoch 44/50\n",
      "175/176 [============================>.] - ETA: 0s - loss: 2.4384 - acc: 0.6188\n",
      "Epoch 00044: val_acc did not improve from 0.54375\n",
      "176/176 [==============================] - 111s 633ms/step - loss: 2.4394 - acc: 0.6192 - val_loss: 1.5514 - val_acc: 0.5385\n",
      "Epoch 45/50\n",
      "175/176 [============================>.] - ETA: 0s - loss: 2.5383 - acc: 0.6187\n",
      "Epoch 00045: val_acc did not improve from 0.54375\n",
      "176/176 [==============================] - 113s 639ms/step - loss: 2.5299 - acc: 0.6195 - val_loss: 1.6016 - val_acc: 0.5292\n",
      "Epoch 46/50\n",
      "175/176 [============================>.] - ETA: 0s - loss: 2.4572 - acc: 0.6304\n",
      "Epoch 00046: val_acc did not improve from 0.54375\n",
      "176/176 [==============================] - 114s 648ms/step - loss: 2.4541 - acc: 0.6303 - val_loss: 1.5467 - val_acc: 0.5229\n",
      "Epoch 47/50\n",
      "175/176 [============================>.] - ETA: 0s - loss: 2.2960 - acc: 0.6349\n",
      "Epoch 00047: val_acc did not improve from 0.54375\n",
      "176/176 [==============================] - 111s 630ms/step - loss: 2.2954 - acc: 0.6352 - val_loss: 1.5387 - val_acc: 0.5437\n",
      "Epoch 48/50\n",
      "175/176 [============================>.] - ETA: 0s - loss: 2.2433 - acc: 0.6510\n",
      "Epoch 00048: val_acc did not improve from 0.54375\n",
      "176/176 [==============================] - 107s 608ms/step - loss: 2.2493 - acc: 0.6509 - val_loss: 1.6096 - val_acc: 0.5208\n",
      "Epoch 49/50\n",
      "175/176 [============================>.] - ETA: 0s - loss: 2.3516 - acc: 0.6432\n",
      "Epoch 00049: val_acc did not improve from 0.54375\n",
      "176/176 [==============================] - 115s 654ms/step - loss: 2.3508 - acc: 0.6426 - val_loss: 1.6248 - val_acc: 0.5417\n",
      "Epoch 50/50\n",
      "175/176 [============================>.] - ETA: 0s - loss: 2.3106 - acc: 0.6494\n",
      "Epoch 00050: val_acc did not improve from 0.54375\n",
      "176/176 [==============================] - 114s 649ms/step - loss: 2.3059 - acc: 0.6494 - val_loss: 1.5927 - val_acc: 0.5156\n"
     ]
    }
   ],
   "source": [
    "from tensorflow.python.keras.callbacks import ReduceLROnPlateau\n",
    "\n",
    "vgg16_filepath = 'vgg_16_' + '-saved-model-{epoch:02d}-acc-{val_acc:.2f}.hdf5'\n",
    "vgg16_checkpoint = ModelCheckpoint(filepath=vgg16_filepath,\n",
    "                                   save_best_only=True,\n",
    "                                   monitor=\"val_acc\",\n",
    "                                   mode=\"max\",\n",
    "                                   verbose=1\n",
    "                                   )\n",
    "early = EarlyStopping(monitor='val_acc', min_delta=0, patience=20, verbose=1, mode='auto')\n",
    "vgg16_lr_reduce = ReduceLROnPlateau(factor=0.9,\n",
    "                               cooldown=1,\n",
    "                               patience=5,\n",
    "                               min_lr=0.0001)\n",
    "vgg16_tensorboard = TensorBoard(log_dir=\"logs/{}\".format(time()),\n",
    "                                write_graph=True,\n",
    "                                write_images=True,\n",
    "                                histogram_freq=0)\n",
    "vgg16_history_callback = History()\n",
    "\n",
    "Step_size_train = train_generator.n // train_generator.batch_size\n",
    "Step_size_valid = validation_generator.n // validation_generator.batch_size\n",
    "Step_size_test = test_generator.n // test_generator.batch_size\n",
    "print(Step_size_train, Step_size_valid)\n",
    "vgg_history = VGG.fit_generator(\n",
    "    generator=train_generator,\n",
    "    validation_data=validation_generator,\n",
    "    epochs=EPOCH,\n",
    "    callbacks=[vgg16_history_callback, vgg16_checkpoint, vgg16_lr_reduce, vgg16_tensorboard, early],\n",
    "    steps_per_epoch=Step_size_train,\n",
    "    validation_steps=Step_size_valid\n",
    ")\n"
   ],
   "metadata": {
    "collapsed": false,
    "pycharm": {
     "name": "#%%\n"
    }
   }
  },
  {
   "cell_type": "code",
   "execution_count": 8,
   "outputs": [
    {
     "data": {
      "text/plain": "<matplotlib.legend.Legend at 0x7f783f7bfbd0>"
     },
     "execution_count": 8,
     "metadata": {},
     "output_type": "execute_result"
    },
    {
     "data": {
      "text/plain": "<Figure size 432x288 with 1 Axes>",
      "image/png": "[encoded data removed]"
     },
     "metadata": {
      "needs_background": "light"
     },
     "output_type": "display_data"
    }
   ],
   "source": [
    "plt.plot(vgg16_history_callback.history[\"acc\"])\n",
    "plt.plot(vgg16_history_callback.history['val_acc'])\n",
    "plt.legend(['accuracy', 'validation accuracy'])"
   ],
   "metadata": {
    "collapsed": false,
    "pycharm": {
     "name": "#%%\n"
    }
   }
  },
  {
   "cell_type": "code",
   "execution_count": 9,
   "outputs": [
    {
     "data": {
      "text/plain": "<matplotlib.legend.Legend at 0x7f783f773210>"
     },
     "execution_count": 9,
     "metadata": {},
     "output_type": "execute_result"
    },
    {
     "data": {
      "text/plain": "<Figure size 432x288 with 1 Axes>",
      "image/png": "[encoded data removed]"
     },
     "metadata": {
      "needs_background": "light"
     },
     "output_type": "display_data"
    }
   ],
   "source": [
    "plt.plot(vgg16_history_callback.history[\"loss\"])\n",
    "plt.plot(vgg16_history_callback.history['val_loss'])\n",
    "plt.legend(['accuracy', 'validation accuracy'])"
   ],
   "metadata": {
    "collapsed": false,
    "pycharm": {
     "name": "#%%\n"
    }
   }
  },
  {
   "cell_type": "code",
   "execution_count": 10,
   "outputs": [
    {
     "name": "stdout",
     "output_type": "stream",
     "text": [
      "777/777 [==============================] - 33s 43ms/step\n"
     ]
    }
   ],
   "source": [
    "score, acc = VGG.evaluate_generator(generator=validation_generator,\n",
    "                       steps=Step_size_valid)\n",
    "test_generator.reset()\n",
    "\n",
    "pred = VGG.predict_generator(generator=test_generator,\n",
    "                             steps=Step_size_test,\n",
    "                             verbose=1)\n",
    "predicted_class_indces = np.argmax(pred, axis=1)"
   ],
   "metadata": {
    "collapsed": false,
    "pycharm": {
     "name": "#%%\n"
    }
   }
  },
  {
   "cell_type": "code",
   "execution_count": 11,
   "outputs": [],
   "source": [
    "labels = train_generator.class_indices\n",
    "labels = dict((v, k) for k, v in labels.items())\n",
    "predictions = [labels[k] for k in predicted_class_indces]"
   ],
   "metadata": {
    "collapsed": false,
    "pycharm": {
     "name": "#%%\n"
    }
   }
  },
  {
   "cell_type": "code",
   "execution_count": 12,
   "outputs": [],
   "source": [
    "filenames = test_generator.filenames\n",
    "results = pd.DataFrame({\"Filename\": filenames,\n",
    "                        \"Predictions\": predictions})\n",
    "results.to_csv(\"results.csv\", index=False)"
   ],
   "metadata": {
    "collapsed": false,
    "pycharm": {
     "name": "#%%\n"
    }
   }
  },
  {
   "cell_type": "code",
   "execution_count": 13,
   "outputs": [
    {
     "name": "stdout",
     "output_type": "stream",
     "text": [
      "Test score  1.5968593160311382\n",
      "Test acc 0.55\n"
     ]
    },
    {
     "data": {
      "text/plain": "                                      Filename             Predictions\n0                  Abyssinian/Abyssinian_1.jpg              Abyssinian\n1                 Abyssinian/Abyssinian_10.jpg                  Bengal\n2                 Abyssinian/Abyssinian_11.jpg              Abyssinian\n3                 Abyssinian/Abyssinian_12.jpg            Russian_Blue\n4                 Abyssinian/Abyssinian_13.jpg            Russian_Blue\n..                                         ...                     ...\n772  yorkshire_terrier/yorkshire_terrier_4.jpg       yorkshire_terrier\n773  yorkshire_terrier/yorkshire_terrier_5.jpg        scottish_terrier\n774  yorkshire_terrier/yorkshire_terrier_6.jpg       yorkshire_terrier\n775  yorkshire_terrier/yorkshire_terrier_7.jpg              leonberger\n776  yorkshire_terrier/yorkshire_terrier_9.jpg  english_cocker_spaniel\n\n[777 rows x 2 columns]",
      "text/html": "<div>\n<style scoped>\n    .dataframe tbody tr th:only-of-type {\n        vertical-align: middle;\n    }\n\n    .dataframe tbody tr th {\n        vertical-align: top;\n    }\n\n    .dataframe thead th {\n        text-align: right;\n    }\n</style>\n<table border=\"1\" class=\"dataframe\">\n  <thead>\n    <tr style=\"text-align: right;\">\n      <th></th>\n      <th>Filename</th>\n      <th>Predictions</th>\n    </tr>\n  </thead>\n  <tbody>\n    <tr>\n      <th>0</th>\n      <td>Abyssinian/Abyssinian_1.jpg</td>\n      <td>Abyssinian</td>\n    </tr>\n    <tr>\n      <th>1</th>\n      <td>Abyssinian/Abyssinian_10.jpg</td>\n      <td>Bengal</td>\n    </tr>\n    <tr>\n      <th>2</th>\n      <td>Abyssinian/Abyssinian_11.jpg</td>\n      <td>Abyssinian</td>\n    </tr>\n    <tr>\n      <th>3</th>\n      <td>Abyssinian/Abyssinian_12.jpg</td>\n      <td>Russian_Blue</td>\n    </tr>\n    <tr>\n      <th>4</th>\n      <td>Abyssinian/Abyssinian_13.jpg</td>\n      <td>Russian_Blue</td>\n    </tr>\n    <tr>\n      <th>...</th>\n      <td>...</td>\n      <td>...</td>\n    </tr>\n    <tr>\n      <th>772</th>\n      <td>yorkshire_terrier/yorkshire_terrier_4.jpg</td>\n      <td>yorkshire_terrier</td>\n    </tr>\n    <tr>\n      <th>773</th>\n      <td>yorkshire_terrier/yorkshire_terrier_5.jpg</td>\n      <td>scottish_terrier</td>\n    </tr>\n    <tr>\n      <th>774</th>\n      <td>yorkshire_terrier/yorkshire_terrier_6.jpg</td>\n      <td>yorkshire_terrier</td>\n    </tr>\n    <tr>\n      <th>775</th>\n      <td>yorkshire_terrier/yorkshire_terrier_7.jpg</td>\n      <td>leonberger</td>\n    </tr>\n    <tr>\n      <th>776</th>\n      <td>yorkshire_terrier/yorkshire_terrier_9.jpg</td>\n      <td>english_cocker_spaniel</td>\n    </tr>\n  </tbody>\n</table>\n<p>777 rows × 2 columns</p>\n</div>"
     },
     "execution_count": 13,
     "metadata": {},
     "output_type": "execute_result"
    }
   ],
   "source": [
    "print(\"Test score \", score)\n",
    "print(\"Test acc\", acc)\n",
    "results"
   ],
   "metadata": {
    "collapsed": false,
    "pycharm": {
     "name": "#%%\n"
    }
   }
  },
  {
   "cell_type": "code",
   "execution_count": 13,
   "outputs": [],
   "source": [],
   "metadata": {
    "collapsed": false,
    "pycharm": {
     "name": "#%%\n"
    }
   }
  },
  {
   "cell_type": "code",
   "execution_count": 13,
   "outputs": [],
   "source": [],
   "metadata": {
    "collapsed": false,
    "pycharm": {
     "name": "#%%\n"
    }
   }
  }
 ],
 "metadata": {
  "kernelspec": {
   "display_name": "Python 3 (ipykernel)",
   "language": "python",
   "name": "python3"
  },
  "language_info": {
   "codemirror_mode": {
    "name": "ipython",
    "version": 3
   },
   "file_extension": ".py",
   "mimetype": "text/x-python",
   "name": "python",
   "nbconvert_exporter": "python",
   "pygments_lexer": "ipython3",
   "version": "3.7.13"
  }
 },
 "nbformat": 4,
 "nbformat_minor": 5
}