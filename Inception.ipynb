{
 "cells": [
  {
   "cell_type": "code",
   "execution_count": 1,
   "id": "8f13370b",
   "metadata": {
    "pycharm": {
     "name": "#%%\n"
    }
   },
   "outputs": [],
   "source": [
    "#\"Hayvan Tanıma Git Repostory Oluşturuldu\""
   ]
  },
  {
   "cell_type": "code",
   "execution_count": 2,
   "id": "91a60425",
   "metadata": {
    "pycharm": {
     "name": "#%%\n"
    }
   },
   "outputs": [
    {
     "name": "stderr",
     "output_type": "stream",
     "text": [
      "/home/ufuk/anaconda3/envs/tensor/lib/python3.7/site-packages/tensorflow/python/framework/dtypes.py:516: FutureWarning: Passing (type, 1) or '1type' as a synonym of type is deprecated; in a future version of numpy, it will be understood as (type, (1,)) / '(1,)type'.\n",
      "  _np_qint8 = np.dtype([(\"qint8\", np.int8, 1)])\n",
      "/home/ufuk/anaconda3/envs/tensor/lib/python3.7/site-packages/tensorflow/python/framework/dtypes.py:517: FutureWarning: Passing (type, 1) or '1type' as a synonym of type is deprecated; in a future version of numpy, it will be understood as (type, (1,)) / '(1,)type'.\n",
      "  _np_quint8 = np.dtype([(\"quint8\", np.uint8, 1)])\n",
      "/home/ufuk/anaconda3/envs/tensor/lib/python3.7/site-packages/tensorflow/python/framework/dtypes.py:518: FutureWarning: Passing (type, 1) or '1type' as a synonym of type is deprecated; in a future version of numpy, it will be understood as (type, (1,)) / '(1,)type'.\n",
      "  _np_qint16 = np.dtype([(\"qint16\", np.int16, 1)])\n",
      "/home/ufuk/anaconda3/envs/tensor/lib/python3.7/site-packages/tensorflow/python/framework/dtypes.py:519: FutureWarning: Passing (type, 1) or '1type' as a synonym of type is deprecated; in a future version of numpy, it will be understood as (type, (1,)) / '(1,)type'.\n",
      "  _np_quint16 = np.dtype([(\"quint16\", np.uint16, 1)])\n",
      "/home/ufuk/anaconda3/envs/tensor/lib/python3.7/site-packages/tensorflow/python/framework/dtypes.py:520: FutureWarning: Passing (type, 1) or '1type' as a synonym of type is deprecated; in a future version of numpy, it will be understood as (type, (1,)) / '(1,)type'.\n",
      "  _np_qint32 = np.dtype([(\"qint32\", np.int32, 1)])\n",
      "/home/ufuk/anaconda3/envs/tensor/lib/python3.7/site-packages/tensorflow/python/framework/dtypes.py:525: FutureWarning: Passing (type, 1) or '1type' as a synonym of type is deprecated; in a future version of numpy, it will be understood as (type, (1,)) / '(1,)type'.\n",
      "  np_resource = np.dtype([(\"resource\", np.ubyte, 1)])\n",
      "/home/ufuk/anaconda3/envs/tensor/lib/python3.7/site-packages/tensorboard/compat/tensorflow_stub/dtypes.py:541: FutureWarning: Passing (type, 1) or '1type' as a synonym of type is deprecated; in a future version of numpy, it will be understood as (type, (1,)) / '(1,)type'.\n",
      "  _np_qint8 = np.dtype([(\"qint8\", np.int8, 1)])\n",
      "/home/ufuk/anaconda3/envs/tensor/lib/python3.7/site-packages/tensorboard/compat/tensorflow_stub/dtypes.py:542: FutureWarning: Passing (type, 1) or '1type' as a synonym of type is deprecated; in a future version of numpy, it will be understood as (type, (1,)) / '(1,)type'.\n",
      "  _np_quint8 = np.dtype([(\"quint8\", np.uint8, 1)])\n",
      "/home/ufuk/anaconda3/envs/tensor/lib/python3.7/site-packages/tensorboard/compat/tensorflow_stub/dtypes.py:543: FutureWarning: Passing (type, 1) or '1type' as a synonym of type is deprecated; in a future version of numpy, it will be understood as (type, (1,)) / '(1,)type'.\n",
      "  _np_qint16 = np.dtype([(\"qint16\", np.int16, 1)])\n",
      "/home/ufuk/anaconda3/envs/tensor/lib/python3.7/site-packages/tensorboard/compat/tensorflow_stub/dtypes.py:544: FutureWarning: Passing (type, 1) or '1type' as a synonym of type is deprecated; in a future version of numpy, it will be understood as (type, (1,)) / '(1,)type'.\n",
      "  _np_quint16 = np.dtype([(\"quint16\", np.uint16, 1)])\n",
      "/home/ufuk/anaconda3/envs/tensor/lib/python3.7/site-packages/tensorboard/compat/tensorflow_stub/dtypes.py:545: FutureWarning: Passing (type, 1) or '1type' as a synonym of type is deprecated; in a future version of numpy, it will be understood as (type, (1,)) / '(1,)type'.\n",
      "  _np_qint32 = np.dtype([(\"qint32\", np.int32, 1)])\n",
      "/home/ufuk/anaconda3/envs/tensor/lib/python3.7/site-packages/tensorboard/compat/tensorflow_stub/dtypes.py:550: FutureWarning: Passing (type, 1) or '1type' as a synonym of type is deprecated; in a future version of numpy, it will be understood as (type, (1,)) / '(1,)type'.\n",
      "  np_resource = np.dtype([(\"resource\", np.ubyte, 1)])\n"
     ]
    }
   ],
   "source": [
    "import os\n",
    "from time import time\n",
    "\n",
    "import matplotlib.pyplot as plt\n",
    "import numpy as np\n",
    "import pandas as pd\n",
    "import tensorflow as tf\n",
    "from tensorflow import keras\n",
    "from tensorflow.keras.applications.inception_v3 import InceptionV3, preprocess_input\n",
    "from tensorflow.keras.callbacks import ModelCheckpoint, EarlyStopping, TensorBoard, History\n",
    "from tensorflow.keras.layers import Dense, Flatten, Dropout\n",
    "from tensorflow.keras.preprocessing.image import ImageDataGenerator\n",
    "from tensorflow.python.keras.optimizers import SGD\n",
    "\n",
    "os.environ[\"TF_CPP_MIN_LOG_LEVEL\"] = \"2\"  # UYARILARI KAPATMA\n"
   ]
  },
  {
   "cell_type": "code",
   "execution_count": 3,
   "outputs": [
    {
     "name": "stdout",
     "output_type": "stream",
     "text": [
      "Found 4654 images belonging to 37 classes.\n",
      "Found 1959 images belonging to 37 classes.\n",
      "Found 777 images belonging to 37 classes.\n"
     ]
    }
   ],
   "source": [
    "#print(os.listdir(\"./images/train\"))\n",
    "SIZE = 299\n",
    "EPOCH = 50\n",
    "BATCH = 32\n",
    "train_directory = \"images/train/\"\n",
    "valid_directory = \"images/valid/\"\n",
    "test_directory = \"images/test/\"\n",
    "\n",
    "data_aug = ImageDataGenerator(preprocessing_function=preprocess_input,\n",
    "                              validation_split=0.3)\n",
    "test_aug = ImageDataGenerator(rotation_range=40,\n",
    "                              width_shift_range=[0.2, 1.0],\n",
    "                              height_shift_range=[0.2, 1.0],\n",
    "                              shear_range=0.2,\n",
    "                              rescale=1. / 255,\n",
    "                              zoom_range=[0.2, 1.0],\n",
    "                              horizontal_flip=True,\n",
    "                              fill_mode=\"nearest\",\n",
    "                              vertical_flip=True,\n",
    "                              brightness_range=[0.2, 1.0])\n",
    "#Max batch size= available GPU memory bytes / 4 / (size of tensors + trainable parameters)\n",
    "train_generator = data_aug.flow_from_directory(directory=train_directory,\n",
    "                                               batch_size=BATCH,\n",
    "                                               shuffle=True,\n",
    "                                               class_mode=\"categorical\",\n",
    "                                               color_mode=\"rgb\",\n",
    "                                               target_size=(SIZE, SIZE),\n",
    "                                               interpolation=\"nearest\",\n",
    "                                               subset=\"training\",\n",
    "                                               seed=42,\n",
    "                                               save_to_dir=\"images/temp/\"\n",
    "\n",
    "                                               )\n",
    "validation_generator = data_aug.flow_from_directory(directory=train_directory,\n",
    "                                                    batch_size=BATCH,\n",
    "                                                    shuffle=True,\n",
    "                                                    class_mode=\"categorical\",\n",
    "                                                    color_mode=\"rgb\",\n",
    "                                                    target_size=(SIZE, SIZE),\n",
    "                                                    interpolation=\"nearest\",\n",
    "                                                    subset=\"validation\",\n",
    "                                                    seed=42,\n",
    "                                                    save_to_dir=\"images/temp/\"\n",
    "                                                    )\n",
    "test_generator = data_aug.flow_from_directory(directory=test_directory,\n",
    "                                              batch_size=1,\n",
    "                                              shuffle=False,\n",
    "                                              class_mode=\"categorical\",\n",
    "                                              target_size=(SIZE, SIZE)\n",
    "                                              )\n",
    "\n",
    "\n"
   ],
   "metadata": {
    "collapsed": false,
    "pycharm": {
     "name": "#%%\n"
    }
   }
  },
  {
   "cell_type": "code",
   "execution_count": 4,
   "outputs": [
    {
     "name": "stdout",
     "output_type": "stream",
     "text": [
      "{'Abyssinian': 0, 'Bengal': 1, 'Birman': 2, 'Bombay': 3, 'British_Shorthair': 4, 'Egyptian_Mau': 5, 'Maine_Coon': 6, 'Persian': 7, 'Ragdoll': 8, 'Russian_Blue': 9, 'Siamese': 10, 'Sphynx': 11, 'american_bulldog': 12, 'american_pit_bull_terrier': 13, 'basset_hound': 14, 'beagle': 15, 'boxer': 16, 'chihuahua': 17, 'english_cocker_spaniel': 18, 'english_setter': 19, 'german_shorthaired': 20, 'great_pyrenees': 21, 'havanese': 22, 'japanese_chin': 23, 'keeshond': 24, 'leonberger': 25, 'miniature_pinscher': 26, 'newfoundland': 27, 'pomeranian': 28, 'pug': 29, 'saint_bernard': 30, 'samoyed': 31, 'scottish_terrier': 32, 'shiba_inu': 33, 'staffordshire_bull_terrier': 34, 'wheaten_terrier': 35, 'yorkshire_terrier': 36}\n"
     ]
    }
   ],
   "source": [
    "print(train_generator.class_indices)"
   ],
   "metadata": {
    "collapsed": false,
    "pycharm": {
     "name": "#%%\n"
    }
   }
  },
  {
   "cell_type": "code",
   "execution_count": 5,
   "outputs": [],
   "source": [
    "tf.keras.backend.clear_session()"
   ],
   "metadata": {
    "collapsed": false,
    "pycharm": {
     "name": "#%%\n"
    }
   }
  },
  {
   "cell_type": "code",
   "execution_count": 6,
   "outputs": [
    {
     "name": "stdout",
     "output_type": "stream",
     "text": [
      "WARNING:tensorflow:From /home/ufuk/anaconda3/envs/tensor/lib/python3.7/site-packages/tensorflow/python/ops/init_ops.py:1251: calling VarianceScaling.__init__ (from tensorflow.python.ops.init_ops) with dtype is deprecated and will be removed in a future version.\n",
      "Instructions for updating:\n",
      "Call initializer instance with the dtype argument instead of passing it to the constructor\n"
     ]
    }
   ],
   "source": [
    "InceptionV3_model = InceptionV3(input_shape=(SIZE, SIZE, 3), weights='imagenet', include_top=False)\n",
    "for layer in InceptionV3_model.layers[:249]:\n",
    "    layer.trainable = False\n",
    "for layer in InceptionV3_model.layers[249:]:\n",
    "    layer.trainable = True\n",
    "\n",
    "Inception = tf.keras.Sequential([\n",
    "    InceptionV3_model,\n",
    "    Flatten(),\n",
    "    Dense(1024, activation='relu'),\n",
    "    Dropout(0.1),\n",
    "    Dense(37, activation='softmax'),\n",
    "\n",
    "])\n",
    "\n",
    "Inception.compile(optimizer=SGD(lr=0.0001, momentum=0.9), loss='categorical_crossentropy',\n",
    "\n",
    "                  metrics=['acc'])\n",
    "\n",
    "inception_filepath = 'inceptionv3_' + '-saved-model-{epoch:02d}-loss-{loss:.2f}.hdf5'\n",
    "\n",
    "\n"
   ],
   "metadata": {
    "collapsed": false,
    "pycharm": {
     "name": "#%%\n"
    }
   }
  },
  {
   "cell_type": "code",
   "execution_count": 7,
   "outputs": [
    {
     "name": "stdout",
     "output_type": "stream",
     "text": [
      "145 61\n",
      "Epoch 1/50\n",
      "  2/146 [..............................] - ETA: 15:17 - loss: 4.1500 - acc: 0.0312"
     ]
    },
    {
     "name": "stderr",
     "output_type": "stream",
     "text": [
      "2022-05-02 17:23:36.445860: E tensorflow/core/platform/default/device_tracer.cc:68] CUPTI error: CUPTI_ERROR_INVALID_PARAMETER\n"
     ]
    },
    {
     "name": "stdout",
     "output_type": "stream",
     "text": [
      "145/146 [============================>.] - ETA: 0s - loss: 1.4591 - acc: 0.6328\n",
      "Epoch 00001: val_acc improved from -inf to 0.84533, saving model to inceptionv3_-saved-model-01-loss-1.45.hdf5\n",
      "146/146 [==============================] - 185s 1s/step - loss: 1.4531 - acc: 0.6345 - val_loss: 0.5151 - val_acc: 0.8453\n",
      "Epoch 2/50\n",
      "145/146 [============================>.] - ETA: 0s - loss: 0.3016 - acc: 0.9178\n",
      "Epoch 00002: val_acc improved from 0.84533 to 0.87187, saving model to inceptionv3_-saved-model-02-loss-0.30.hdf5\n",
      "146/146 [==============================] - 159s 1s/step - loss: 0.3023 - acc: 0.9177 - val_loss: 0.4212 - val_acc: 0.8719\n",
      "Epoch 3/50\n",
      "145/146 [============================>.] - ETA: 0s - loss: 0.1687 - acc: 0.9585\n",
      "Epoch 00003: val_acc improved from 0.87187 to 0.88259, saving model to inceptionv3_-saved-model-03-loss-0.17.hdf5\n",
      "146/146 [==============================] - 151s 1s/step - loss: 0.1685 - acc: 0.9585 - val_loss: 0.3773 - val_acc: 0.8826\n",
      "Epoch 4/50\n",
      "145/146 [============================>.] - ETA: 0s - loss: 0.1022 - acc: 0.9779\n",
      "Epoch 00004: val_acc improved from 0.88259 to 0.89025, saving model to inceptionv3_-saved-model-04-loss-0.10.hdf5\n",
      "146/146 [==============================] - 156s 1s/step - loss: 0.1022 - acc: 0.9781 - val_loss: 0.3604 - val_acc: 0.8903\n",
      "Epoch 5/50\n",
      "145/146 [============================>.] - ETA: 0s - loss: 0.0791 - acc: 0.9836\n",
      "Epoch 00005: val_acc did not improve from 0.89025\n",
      "146/146 [==============================] - 155s 1s/step - loss: 0.0788 - acc: 0.9837 - val_loss: 0.3732 - val_acc: 0.8795\n",
      "Epoch 6/50\n",
      "145/146 [============================>.] - ETA: 0s - loss: 0.0609 - acc: 0.9879\n",
      "Epoch 00006: val_acc did not improve from 0.89025\n",
      "146/146 [==============================] - 150s 1s/step - loss: 0.0613 - acc: 0.9878 - val_loss: 0.3487 - val_acc: 0.8887\n",
      "Epoch 7/50\n",
      " 88/146 [=================>............] - ETA: 45s - loss: 0.0473 - acc: 0.9918"
     ]
    },
    {
     "ename": "ResourceExhaustedError",
     "evalue": "OOM when allocating tensor with shape[131072,1024] and type float on /job:localhost/replica:0/task:0/device:GPU:0 by allocator GPU_0_bfc\n\t [[{{node training/gradients/dense/MatMul_grad/MatMul_1}}]]\nHint: If you want to see a list of allocated tensors when OOM happens, add report_tensor_allocations_upon_oom to RunOptions for current allocation info.\n",
     "output_type": "error",
     "traceback": [
      "\u001B[0;31m---------------------------------------------------------------------------\u001B[0m",
      "\u001B[0;31mResourceExhaustedError\u001B[0m                    Traceback (most recent call last)",
      "\u001B[0;32m/tmp/ipykernel_29031/1058536510.py\u001B[0m in \u001B[0;36m<module>\u001B[0;34m\u001B[0m\n\u001B[1;32m     20\u001B[0m                                                  \u001B[0mcheckpoint\u001B[0m\u001B[0;34m,\u001B[0m\u001B[0;34m\u001B[0m\u001B[0;34m\u001B[0m\u001B[0m\n\u001B[1;32m     21\u001B[0m                                                  tensorboard, early],\n\u001B[0;32m---> 22\u001B[0;31m                                       verbose=1)\n\u001B[0m",
      "\u001B[0;32m~/anaconda3/envs/tensor/lib/python3.7/site-packages/tensorflow/python/keras/engine/training.py\u001B[0m in \u001B[0;36mfit\u001B[0;34m(self, x, y, batch_size, epochs, verbose, callbacks, validation_split, validation_data, shuffle, class_weight, sample_weight, initial_epoch, steps_per_epoch, validation_steps, validation_freq, max_queue_size, workers, use_multiprocessing, **kwargs)\u001B[0m\n\u001B[1;32m    671\u001B[0m           \u001B[0muse_multiprocessing\u001B[0m\u001B[0;34m=\u001B[0m\u001B[0muse_multiprocessing\u001B[0m\u001B[0;34m,\u001B[0m\u001B[0;34m\u001B[0m\u001B[0;34m\u001B[0m\u001B[0m\n\u001B[1;32m    672\u001B[0m           \u001B[0mshuffle\u001B[0m\u001B[0;34m=\u001B[0m\u001B[0mshuffle\u001B[0m\u001B[0;34m,\u001B[0m\u001B[0;34m\u001B[0m\u001B[0;34m\u001B[0m\u001B[0m\n\u001B[0;32m--> 673\u001B[0;31m           initial_epoch=initial_epoch)\n\u001B[0m\u001B[1;32m    674\u001B[0m     \u001B[0;32mif\u001B[0m \u001B[0mtraining_utils\u001B[0m\u001B[0;34m.\u001B[0m\u001B[0mis_eager_dataset_or_iterator\u001B[0m\u001B[0;34m(\u001B[0m\u001B[0mx\u001B[0m\u001B[0;34m)\u001B[0m\u001B[0;34m:\u001B[0m\u001B[0;34m\u001B[0m\u001B[0;34m\u001B[0m\u001B[0m\n\u001B[1;32m    675\u001B[0m       \u001B[0;31m# Make sure that y, sample_weights, validation_split are not passed.\u001B[0m\u001B[0;34m\u001B[0m\u001B[0;34m\u001B[0m\u001B[0;34m\u001B[0m\u001B[0m\n",
      "\u001B[0;32m~/anaconda3/envs/tensor/lib/python3.7/site-packages/tensorflow/python/keras/engine/training.py\u001B[0m in \u001B[0;36mfit_generator\u001B[0;34m(self, generator, steps_per_epoch, epochs, verbose, callbacks, validation_data, validation_steps, validation_freq, class_weight, max_queue_size, workers, use_multiprocessing, shuffle, initial_epoch)\u001B[0m\n\u001B[1;32m   1431\u001B[0m         \u001B[0mshuffle\u001B[0m\u001B[0;34m=\u001B[0m\u001B[0mshuffle\u001B[0m\u001B[0;34m,\u001B[0m\u001B[0;34m\u001B[0m\u001B[0;34m\u001B[0m\u001B[0m\n\u001B[1;32m   1432\u001B[0m         \u001B[0minitial_epoch\u001B[0m\u001B[0;34m=\u001B[0m\u001B[0minitial_epoch\u001B[0m\u001B[0;34m,\u001B[0m\u001B[0;34m\u001B[0m\u001B[0;34m\u001B[0m\u001B[0m\n\u001B[0;32m-> 1433\u001B[0;31m         steps_name='steps_per_epoch')\n\u001B[0m\u001B[1;32m   1434\u001B[0m \u001B[0;34m\u001B[0m\u001B[0m\n\u001B[1;32m   1435\u001B[0m   def evaluate_generator(self,\n",
      "\u001B[0;32m~/anaconda3/envs/tensor/lib/python3.7/site-packages/tensorflow/python/keras/engine/training_generator.py\u001B[0m in \u001B[0;36mmodel_iteration\u001B[0;34m(model, data, steps_per_epoch, epochs, verbose, callbacks, validation_data, validation_steps, validation_freq, class_weight, max_queue_size, workers, use_multiprocessing, shuffle, initial_epoch, mode, batch_size, steps_name, **kwargs)\u001B[0m\n\u001B[1;32m    262\u001B[0m \u001B[0;34m\u001B[0m\u001B[0m\n\u001B[1;32m    263\u001B[0m       \u001B[0mis_deferred\u001B[0m \u001B[0;34m=\u001B[0m \u001B[0;32mnot\u001B[0m \u001B[0mmodel\u001B[0m\u001B[0;34m.\u001B[0m\u001B[0m_is_compiled\u001B[0m\u001B[0;34m\u001B[0m\u001B[0;34m\u001B[0m\u001B[0m\n\u001B[0;32m--> 264\u001B[0;31m       \u001B[0mbatch_outs\u001B[0m \u001B[0;34m=\u001B[0m \u001B[0mbatch_function\u001B[0m\u001B[0;34m(\u001B[0m\u001B[0;34m*\u001B[0m\u001B[0mbatch_data\u001B[0m\u001B[0;34m)\u001B[0m\u001B[0;34m\u001B[0m\u001B[0;34m\u001B[0m\u001B[0m\n\u001B[0m\u001B[1;32m    265\u001B[0m       \u001B[0;32mif\u001B[0m \u001B[0;32mnot\u001B[0m \u001B[0misinstance\u001B[0m\u001B[0;34m(\u001B[0m\u001B[0mbatch_outs\u001B[0m\u001B[0;34m,\u001B[0m \u001B[0mlist\u001B[0m\u001B[0;34m)\u001B[0m\u001B[0;34m:\u001B[0m\u001B[0;34m\u001B[0m\u001B[0;34m\u001B[0m\u001B[0m\n\u001B[1;32m    266\u001B[0m         \u001B[0mbatch_outs\u001B[0m \u001B[0;34m=\u001B[0m \u001B[0;34m[\u001B[0m\u001B[0mbatch_outs\u001B[0m\u001B[0;34m]\u001B[0m\u001B[0;34m\u001B[0m\u001B[0;34m\u001B[0m\u001B[0m\n",
      "\u001B[0;32m~/anaconda3/envs/tensor/lib/python3.7/site-packages/tensorflow/python/keras/engine/training.py\u001B[0m in \u001B[0;36mtrain_on_batch\u001B[0;34m(self, x, y, sample_weight, class_weight, reset_metrics)\u001B[0m\n\u001B[1;32m   1173\u001B[0m       \u001B[0mself\u001B[0m\u001B[0;34m.\u001B[0m\u001B[0m_update_sample_weight_modes\u001B[0m\u001B[0;34m(\u001B[0m\u001B[0msample_weights\u001B[0m\u001B[0;34m=\u001B[0m\u001B[0msample_weights\u001B[0m\u001B[0;34m)\u001B[0m\u001B[0;34m\u001B[0m\u001B[0;34m\u001B[0m\u001B[0m\n\u001B[1;32m   1174\u001B[0m       \u001B[0mself\u001B[0m\u001B[0;34m.\u001B[0m\u001B[0m_make_train_function\u001B[0m\u001B[0;34m(\u001B[0m\u001B[0;34m)\u001B[0m\u001B[0;34m\u001B[0m\u001B[0;34m\u001B[0m\u001B[0m\n\u001B[0;32m-> 1175\u001B[0;31m       \u001B[0moutputs\u001B[0m \u001B[0;34m=\u001B[0m \u001B[0mself\u001B[0m\u001B[0;34m.\u001B[0m\u001B[0mtrain_function\u001B[0m\u001B[0;34m(\u001B[0m\u001B[0mins\u001B[0m\u001B[0;34m)\u001B[0m  \u001B[0;31m# pylint: disable=not-callable\u001B[0m\u001B[0;34m\u001B[0m\u001B[0;34m\u001B[0m\u001B[0m\n\u001B[0m\u001B[1;32m   1176\u001B[0m \u001B[0;34m\u001B[0m\u001B[0m\n\u001B[1;32m   1177\u001B[0m     \u001B[0;32mif\u001B[0m \u001B[0mreset_metrics\u001B[0m\u001B[0;34m:\u001B[0m\u001B[0;34m\u001B[0m\u001B[0;34m\u001B[0m\u001B[0m\n",
      "\u001B[0;32m~/anaconda3/envs/tensor/lib/python3.7/site-packages/tensorflow/python/keras/backend.py\u001B[0m in \u001B[0;36m__call__\u001B[0;34m(self, inputs)\u001B[0m\n\u001B[1;32m   3290\u001B[0m \u001B[0;34m\u001B[0m\u001B[0m\n\u001B[1;32m   3291\u001B[0m     fetched = self._callable_fn(*array_vals,\n\u001B[0;32m-> 3292\u001B[0;31m                                 run_metadata=self.run_metadata)\n\u001B[0m\u001B[1;32m   3293\u001B[0m     \u001B[0mself\u001B[0m\u001B[0;34m.\u001B[0m\u001B[0m_call_fetch_callbacks\u001B[0m\u001B[0;34m(\u001B[0m\u001B[0mfetched\u001B[0m\u001B[0;34m[\u001B[0m\u001B[0;34m-\u001B[0m\u001B[0mlen\u001B[0m\u001B[0;34m(\u001B[0m\u001B[0mself\u001B[0m\u001B[0;34m.\u001B[0m\u001B[0m_fetches\u001B[0m\u001B[0;34m)\u001B[0m\u001B[0;34m:\u001B[0m\u001B[0;34m]\u001B[0m\u001B[0;34m)\u001B[0m\u001B[0;34m\u001B[0m\u001B[0;34m\u001B[0m\u001B[0m\n\u001B[1;32m   3294\u001B[0m     output_structure = nest.pack_sequence_as(\n",
      "\u001B[0;32m~/anaconda3/envs/tensor/lib/python3.7/site-packages/tensorflow/python/client/session.py\u001B[0m in \u001B[0;36m__call__\u001B[0;34m(self, *args, **kwargs)\u001B[0m\n\u001B[1;32m   1456\u001B[0m         ret = tf_session.TF_SessionRunCallable(self._session._session,\n\u001B[1;32m   1457\u001B[0m                                                \u001B[0mself\u001B[0m\u001B[0;34m.\u001B[0m\u001B[0m_handle\u001B[0m\u001B[0;34m,\u001B[0m \u001B[0margs\u001B[0m\u001B[0;34m,\u001B[0m\u001B[0;34m\u001B[0m\u001B[0;34m\u001B[0m\u001B[0m\n\u001B[0;32m-> 1458\u001B[0;31m                                                run_metadata_ptr)\n\u001B[0m\u001B[1;32m   1459\u001B[0m         \u001B[0;32mif\u001B[0m \u001B[0mrun_metadata\u001B[0m\u001B[0;34m:\u001B[0m\u001B[0;34m\u001B[0m\u001B[0;34m\u001B[0m\u001B[0m\n\u001B[1;32m   1460\u001B[0m           \u001B[0mproto_data\u001B[0m \u001B[0;34m=\u001B[0m \u001B[0mtf_session\u001B[0m\u001B[0;34m.\u001B[0m\u001B[0mTF_GetBuffer\u001B[0m\u001B[0;34m(\u001B[0m\u001B[0mrun_metadata_ptr\u001B[0m\u001B[0;34m)\u001B[0m\u001B[0;34m\u001B[0m\u001B[0;34m\u001B[0m\u001B[0m\n",
      "\u001B[0;31mResourceExhaustedError\u001B[0m: OOM when allocating tensor with shape[131072,1024] and type float on /job:localhost/replica:0/task:0/device:GPU:0 by allocator GPU_0_bfc\n\t [[{{node training/gradients/dense/MatMul_grad/MatMul_1}}]]\nHint: If you want to see a list of allocated tensors when OOM happens, add report_tensor_allocations_upon_oom to RunOptions for current allocation info.\n"
     ]
    }
   ],
   "source": [
    "\n",
    "\n",
    "checkpoint = ModelCheckpoint(filepath=inception_filepath,\n",
    "                             save_best_only=True,\n",
    "                             monitor=\"val_acc\",\n",
    "                             mode=\"max\",\n",
    "                             verbose=1\n",
    "                             )\n",
    "early = EarlyStopping(monitor='val_acc', min_delta=0, patience=20, verbose=1, mode='auto')\n",
    "\n",
    "tensorboard = TensorBoard(log_dir=\"logs/{}\".format(time()))\n",
    "history_callback = History()\n",
    "\n",
    "Step_size_train = train_generator.n // train_generator.batch_size\n",
    "Step_size_valid = validation_generator.n // validation_generator.batch_size\n",
    "Step_size_test = test_generator.n // test_generator.batch_size\n",
    "print(Step_size_train, Step_size_valid)\n",
    "\n",
    "inceptionv3_history = Inception.fit(train_generator, epochs=EPOCH,\n",
    "                                    validation_data=validation_generator,\n",
    "                                    callbacks=[history_callback,\n",
    "                                               checkpoint,\n",
    "                                               tensorboard, early],\n",
    "                                    verbose=1)"
   ],
   "metadata": {
    "collapsed": false,
    "pycharm": {
     "name": "#%%\n"
    }
   }
  },
  {
   "cell_type": "code",
   "execution_count": 8,
   "outputs": [
    {
     "data": {
      "text/plain": "<matplotlib.legend.Legend at 0x7f14ea46e350>"
     },
     "execution_count": 8,
     "metadata": {},
     "output_type": "execute_result"
    },
    {
     "data": {
      "text/plain": "<Figure size 432x288 with 1 Axes>",
      "image/png": "[encoded data removed]"
     },
     "metadata": {
      "needs_background": "light"
     },
     "output_type": "display_data"
    }
   ],
   "source": [
    "plt.plot(history_callback.history[\"acc\"])\n",
    "plt.plot(history_callback.history['val_acc'])\n",
    "plt.legend(['accuracy', 'validation accuracy'])"
   ],
   "metadata": {
    "collapsed": false,
    "pycharm": {
     "name": "#%%\n"
    }
   }
  },
  {
   "cell_type": "code",
   "execution_count": 9,
   "outputs": [
    {
     "data": {
      "text/plain": "<matplotlib.legend.Legend at 0x7f14ea6b5b90>"
     },
     "execution_count": 9,
     "metadata": {},
     "output_type": "execute_result"
    },
    {
     "data": {
      "text/plain": "<Figure size 432x288 with 1 Axes>",
      "image/png": "[encoded data removed]"
     },
     "metadata": {
      "needs_background": "light"
     },
     "output_type": "display_data"
    }
   ],
   "source": [
    "plt.plot(history_callback.history[\"loss\"])\n",
    "plt.plot(history_callback.history['val_loss'])\n",
    "plt.legend(['accuracy', 'validation accuracy'])"
   ],
   "metadata": {
    "collapsed": false,
    "pycharm": {
     "name": "#%%\n"
    }
   }
  },
  {
   "cell_type": "code",
   "execution_count": 11,
   "outputs": [
    {
     "name": "stdout",
     "output_type": "stream",
     "text": [
      "777/777 [==============================] - 50s 64ms/step\n"
     ]
    }
   ],
   "source": [
    "score, acc = Inception.evaluate_generator(generator=validation_generator,\n",
    "                                                    steps=Step_size_valid)\n",
    "\n",
    "test_generator.reset()\n",
    "\n",
    "pred = Inception.predict_generator(generator=test_generator,\n",
    "                                   steps=Step_size_test,\n",
    "                                   verbose=1)\n",
    "predicted_class_indces = np.argmax(pred, axis=1)"
   ],
   "metadata": {
    "collapsed": false,
    "pycharm": {
     "name": "#%%\n"
    }
   }
  },
  {
   "cell_type": "code",
   "execution_count": 12,
   "outputs": [],
   "source": [
    "labels = train_generator.class_indices\n",
    "labels = dict((v, k) for k, v in labels.items())\n",
    "predictions = [labels[k] for k in predicted_class_indces]"
   ],
   "metadata": {
    "collapsed": false,
    "pycharm": {
     "name": "#%%\n"
    }
   }
  },
  {
   "cell_type": "code",
   "execution_count": 13,
   "outputs": [],
   "source": [
    "filenames = test_generator.filenames\n",
    "results = pd.DataFrame({\"Filename\": filenames,\n",
    "                        \"Predictions\": predictions})\n",
    "results.to_csv(\"results.csv\", index=False)"
   ],
   "metadata": {
    "collapsed": false,
    "pycharm": {
     "name": "#%%\n"
    }
   }
  },
  {
   "cell_type": "code",
   "execution_count": 14,
   "outputs": [
    {
     "name": "stdout",
     "output_type": "stream",
     "text": [
      "Test score  0.3506410440704862\n",
      "Test acc 0.88678277\n"
     ]
    },
    {
     "data": {
      "text/plain": "                                      Filename        Predictions\n0                  Abyssinian/Abyssinian_1.jpg         Abyssinian\n1                 Abyssinian/Abyssinian_10.jpg         Abyssinian\n2                 Abyssinian/Abyssinian_11.jpg         Abyssinian\n3                 Abyssinian/Abyssinian_12.jpg            Siamese\n4                 Abyssinian/Abyssinian_13.jpg         Abyssinian\n..                                         ...                ...\n772  yorkshire_terrier/yorkshire_terrier_4.jpg  yorkshire_terrier\n773  yorkshire_terrier/yorkshire_terrier_5.jpg  yorkshire_terrier\n774  yorkshire_terrier/yorkshire_terrier_6.jpg  yorkshire_terrier\n775  yorkshire_terrier/yorkshire_terrier_7.jpg  yorkshire_terrier\n776  yorkshire_terrier/yorkshire_terrier_9.jpg  yorkshire_terrier\n\n[777 rows x 2 columns]",
      "text/html": "<div>\n<style scoped>\n    .dataframe tbody tr th:only-of-type {\n        vertical-align: middle;\n    }\n\n    .dataframe tbody tr th {\n        vertical-align: top;\n    }\n\n    .dataframe thead th {\n        text-align: right;\n    }\n</style>\n<table border=\"1\" class=\"dataframe\">\n  <thead>\n    <tr style=\"text-align: right;\">\n      <th></th>\n      <th>Filename</th>\n      <th>Predictions</th>\n    </tr>\n  </thead>\n  <tbody>\n    <tr>\n      <th>0</th>\n      <td>Abyssinian/Abyssinian_1.jpg</td>\n      <td>Abyssinian</td>\n    </tr>\n    <tr>\n      <th>1</th>\n      <td>Abyssinian/Abyssinian_10.jpg</td>\n      <td>Abyssinian</td>\n    </tr>\n    <tr>\n      <th>2</th>\n      <td>Abyssinian/Abyssinian_11.jpg</td>\n      <td>Abyssinian</td>\n    </tr>\n    <tr>\n      <th>3</th>\n      <td>Abyssinian/Abyssinian_12.jpg</td>\n      <td>Siamese</td>\n    </tr>\n    <tr>\n      <th>4</th>\n      <td>Abyssinian/Abyssinian_13.jpg</td>\n      <td>Abyssinian</td>\n    </tr>\n    <tr>\n      <th>...</th>\n      <td>...</td>\n      <td>...</td>\n    </tr>\n    <tr>\n      <th>772</th>\n      <td>yorkshire_terrier/yorkshire_terrier_4.jpg</td>\n      <td>yorkshire_terrier</td>\n    </tr>\n    <tr>\n      <th>773</th>\n      <td>yorkshire_terrier/yorkshire_terrier_5.jpg</td>\n      <td>yorkshire_terrier</td>\n    </tr>\n    <tr>\n      <th>774</th>\n      <td>yorkshire_terrier/yorkshire_terrier_6.jpg</td>\n      <td>yorkshire_terrier</td>\n    </tr>\n    <tr>\n      <th>775</th>\n      <td>yorkshire_terrier/yorkshire_terrier_7.jpg</td>\n      <td>yorkshire_terrier</td>\n    </tr>\n    <tr>\n      <th>776</th>\n      <td>yorkshire_terrier/yorkshire_terrier_9.jpg</td>\n      <td>yorkshire_terrier</td>\n    </tr>\n  </tbody>\n</table>\n<p>777 rows × 2 columns</p>\n</div>"
     },
     "execution_count": 14,
     "metadata": {},
     "output_type": "execute_result"
    }
   ],
   "source": [
    "print(\"Test score \", score)\n",
    "print(\"Test acc\", acc)\n",
    "results"
   ],
   "metadata": {
    "collapsed": false,
    "pycharm": {
     "name": "#%%\n"
    }
   }
  },
  {
   "cell_type": "code",
   "execution_count": null,
   "outputs": [],
   "source": [],
   "metadata": {
    "collapsed": false,
    "pycharm": {
     "name": "#%%\n"
    }
   }
  },
  {
   "cell_type": "code",
   "execution_count": null,
   "outputs": [],
   "source": [],
   "metadata": {
    "collapsed": false,
    "pycharm": {
     "name": "#%%\n"
    }
   }
  }
 ],
 "metadata": {
  "kernelspec": {
   "display_name": "Python 3 (ipykernel)",
   "language": "python",
   "name": "python3"
  },
  "language_info": {
   "codemirror_mode": {
    "name": "ipython",
    "version": 3
   },
   "file_extension": ".py",
   "mimetype": "text/x-python",
   "name": "python",
   "nbconvert_exporter": "python",
   "pygments_lexer": "ipython3",
   "version": "3.7.13"
  }
 },
 "nbformat": 4,
 "nbformat_minor": 5
}